{
 "cells": [
  {
   "cell_type": "markdown",
   "metadata": {},
   "source": [
    "### Sources used\n",
    "1. EXAMPLE ON HOW TO IMPLEMENT THE DATASETS: https://pytorch-forecasting.readthedocs.io/en/stable/tutorials/stallion.html\n",
    "2. LOOK AHEAD BIAS EXPLANATION: https://stats.stackexchange.com/questions/442739/look-ahead-bias-induced-by-standardization-of-a-time-series#:~:text=Yes%20this%20is%20considered%20a,will%20not%20have%20this%20information.\n",
    "3. Simple yt vid explanation: https://www.youtube.com/watch?v=q_HS4s1L8UI&t=428s"
   ]
  },
  {
   "cell_type": "code",
   "execution_count": 1,
   "metadata": {},
   "outputs": [
    {
     "name": "stderr",
     "output_type": "stream",
     "text": [
      "c:\\Users\\r0776327\\AppData\\Local\\miniconda3\\lib\\site-packages\\pytorch_forecasting\\models\\base_model.py:30: TqdmWarning: IProgress not found. Please update jupyter and ipywidgets. See https://ipywidgets.readthedocs.io/en/stable/user_install.html\n",
      "  from tqdm.autonotebook import tqdm\n"
     ]
    }
   ],
   "source": [
    "import pandas as pd\n",
    "import numpy as np\n",
    "import torch\n",
    "from sklearn.model_selection import train_test_split\n",
    "from pytorch_forecasting import TimeSeriesDataSet\n",
    "from tqdm.autonotebook import tqdm\n",
    "import copy\n",
    "from pathlib import Path\n",
    "import warnings\n",
    "import matplotlib.pyplot as plt\n",
    "\n",
    "import lightning.pytorch as pl\n",
    "from lightning.pytorch.callbacks import EarlyStopping, LearningRateMonitor\n",
    "from lightning.pytorch.loggers import TensorBoardLogger\n",
    "import numpy as np\n",
    "import pandas as pd\n",
    "import torch\n",
    "from torch import nn\n",
    "\n",
    "from pytorch_forecasting import Baseline, TemporalFusionTransformer\n",
    "from pytorch_forecasting.data import GroupNormalizer\n",
    "from pytorch_forecasting.metrics import MAE, SMAPE, PoissonLoss, QuantileLoss\n",
    "# from pytorch_forecasting.models.temporal_fusion_transformer.tuning import optimize_hyperparameters"
   ]
  },
  {
   "cell_type": "code",
   "execution_count": 2,
   "metadata": {},
   "outputs": [
    {
     "data": {
      "text/plain": [
       "(                  Date  Price  FR Generation  FR Load\n",
       " 0  2018-01-01 00:00:00   4.74        53625.0  56250.0\n",
       " 1  2018-01-01 01:00:00   3.66        52398.0  54300.0\n",
       " 2  2018-01-01 02:00:00   1.26        51825.0  53600.0\n",
       " 3  2018-01-01 03:00:00 -20.10        50729.0  50000.0\n",
       " 4  2018-01-01 04:00:00 -31.82        50719.0  47100.0,\n",
       " (43824, 4))"
      ]
     },
     "execution_count": 2,
     "metadata": {},
     "output_type": "execute_result"
    }
   ],
   "source": [
    "df = pd.read_csv(\"Datasets/Dataframes_one_ex_var/ModelBenchmark_dataframe.csv\")\n",
    "df.head(), df.shape"
   ]
  },
  {
   "cell_type": "markdown",
   "metadata": {},
   "source": []
  },
  {
   "cell_type": "code",
   "execution_count": 3,
   "metadata": {},
   "outputs": [
    {
     "data": {
      "text/html": [
       "<div>\n",
       "<style scoped>\n",
       "    .dataframe tbody tr th:only-of-type {\n",
       "        vertical-align: middle;\n",
       "    }\n",
       "\n",
       "    .dataframe tbody tr th {\n",
       "        vertical-align: top;\n",
       "    }\n",
       "\n",
       "    .dataframe thead th {\n",
       "        text-align: right;\n",
       "    }\n",
       "</style>\n",
       "<table border=\"1\" class=\"dataframe\">\n",
       "  <thead>\n",
       "    <tr style=\"text-align: right;\">\n",
       "      <th></th>\n",
       "      <th>Date</th>\n",
       "      <th>Price</th>\n",
       "      <th>FR Generation</th>\n",
       "      <th>FR Load</th>\n",
       "    </tr>\n",
       "  </thead>\n",
       "  <tbody>\n",
       "    <tr>\n",
       "      <th>0</th>\n",
       "      <td>2018-01-01 00:00:00</td>\n",
       "      <td>4.74</td>\n",
       "      <td>53625.0</td>\n",
       "      <td>56250.0</td>\n",
       "    </tr>\n",
       "    <tr>\n",
       "      <th>1</th>\n",
       "      <td>2018-01-01 01:00:00</td>\n",
       "      <td>3.66</td>\n",
       "      <td>52398.0</td>\n",
       "      <td>54300.0</td>\n",
       "    </tr>\n",
       "    <tr>\n",
       "      <th>2</th>\n",
       "      <td>2018-01-01 02:00:00</td>\n",
       "      <td>1.26</td>\n",
       "      <td>51825.0</td>\n",
       "      <td>53600.0</td>\n",
       "    </tr>\n",
       "    <tr>\n",
       "      <th>3</th>\n",
       "      <td>2018-01-01 03:00:00</td>\n",
       "      <td>-20.10</td>\n",
       "      <td>50729.0</td>\n",
       "      <td>50000.0</td>\n",
       "    </tr>\n",
       "    <tr>\n",
       "      <th>4</th>\n",
       "      <td>2018-01-01 04:00:00</td>\n",
       "      <td>-31.82</td>\n",
       "      <td>50719.0</td>\n",
       "      <td>47100.0</td>\n",
       "    </tr>\n",
       "  </tbody>\n",
       "</table>\n",
       "</div>"
      ],
      "text/plain": [
       "                 Date  Price  FR Generation  FR Load\n",
       "0 2018-01-01 00:00:00   4.74        53625.0  56250.0\n",
       "1 2018-01-01 01:00:00   3.66        52398.0  54300.0\n",
       "2 2018-01-01 02:00:00   1.26        51825.0  53600.0\n",
       "3 2018-01-01 03:00:00 -20.10        50729.0  50000.0\n",
       "4 2018-01-01 04:00:00 -31.82        50719.0  47100.0"
      ]
     },
     "execution_count": 3,
     "metadata": {},
     "output_type": "execute_result"
    }
   ],
   "source": [
    "# Set Date as index\n",
    "df.Date = pd.to_datetime(df.Date)\n",
    "\n",
    "df.head()"
   ]
  },
  {
   "cell_type": "code",
   "execution_count": 4,
   "metadata": {},
   "outputs": [
    {
     "data": {
      "image/png": "[encoded data removed]",
      "text/plain": [
       "<Figure size 640x480 with 1 Axes>"
      ]
     },
     "metadata": {},
     "output_type": "display_data"
    }
   ],
   "source": [
    "plt.plot(df[\"Date\"], df[\"Price\"])\n",
    "plt.show()"
   ]
  },
  {
   "cell_type": "code",
   "execution_count": 5,
   "metadata": {},
   "outputs": [
    {
     "name": "stdout",
     "output_type": "stream",
     "text": [
      "<class 'pandas.core.frame.DataFrame'>\n",
      "RangeIndex: 43824 entries, 0 to 43823\n",
      "Data columns (total 4 columns):\n",
      " #   Column         Non-Null Count  Dtype         \n",
      "---  ------         --------------  -----         \n",
      " 0   Date           43824 non-null  datetime64[ns]\n",
      " 1   Price          43824 non-null  float64       \n",
      " 2   FR Generation  43824 non-null  float64       \n",
      " 3   FR Load        43824 non-null  float64       \n",
      "dtypes: datetime64[ns](1), float64(3)\n",
      "memory usage: 1.3 MB\n"
     ]
    },
    {
     "data": {
      "text/plain": [
       "(                 Date  Price  FR Generation  FR Load\n",
       " 0 2018-01-01 00:00:00   4.74        53625.0  56250.0\n",
       " 1 2018-01-01 01:00:00   3.66        52398.0  54300.0\n",
       " 2 2018-01-01 02:00:00   1.26        51825.0  53600.0\n",
       " 3 2018-01-01 03:00:00 -20.10        50729.0  50000.0\n",
       " 4 2018-01-01 04:00:00 -31.82        50719.0  47100.0,\n",
       " None,\n",
       " (43824, 4))"
      ]
     },
     "execution_count": 5,
     "metadata": {},
     "output_type": "execute_result"
    }
   ],
   "source": [
    "df.head(), df.info(), df.shape"
   ]
  },
  {
   "cell_type": "code",
   "execution_count": 6,
   "metadata": {},
   "outputs": [],
   "source": [
    "from copy import deepcopy as dc\n",
    "\n",
    "def prepare_dataframe_laggs(df, n_steps):\n",
    "    df = dc(df)\n",
    "    df.set_index(\"Date\", inplace=True)\n",
    "\n",
    "    for i in range(1,n_steps+1):\n",
    "        df[f'Price(t-{i})'] = df[\"Price\"].shift(i)\n",
    "\n",
    "    df.dropna(inplace=True)\n",
    "    return df"
   ]
  },
  {
   "cell_type": "code",
   "execution_count": 7,
   "metadata": {},
   "outputs": [],
   "source": [
    "# df_train = df[df[\"Date\"] < \"2021-01-01\"]\n",
    "# df_test = df[df[\"Date\"] >= \"2021-01-01\"]\n",
    "# df_train.shape, df_test.shape"
   ]
  },
  {
   "cell_type": "code",
   "execution_count": 8,
   "metadata": {},
   "outputs": [
    {
     "data": {
      "text/plain": [
       "(                     Price  FR Generation  FR Load  Price(t-1)  Price(t-2)  \\\n",
       " Date                                                                         \n",
       " 2018-01-01 07:00:00 -19.33        53045.0  46000.0      -13.71      -28.66   \n",
       " 2018-01-01 08:00:00 -15.78        54371.0  46400.0      -19.33      -13.71   \n",
       " 2018-01-01 09:00:00 -12.05        54318.0  46950.0      -15.78      -19.33   \n",
       " 2018-01-01 10:00:00  -0.42        54495.0  49100.0      -12.05      -15.78   \n",
       " 2018-01-01 11:00:00   2.30        54726.0  51500.0       -0.42      -12.05   \n",
       " \n",
       "                      Price(t-3)  Price(t-4)  Price(t-5)  Price(t-6)  \\\n",
       " Date                                                                  \n",
       " 2018-01-01 07:00:00      -31.82      -20.10        1.26        3.66   \n",
       " 2018-01-01 08:00:00      -28.66      -31.82      -20.10        1.26   \n",
       " 2018-01-01 09:00:00      -13.71      -28.66      -31.82      -20.10   \n",
       " 2018-01-01 10:00:00      -19.33      -13.71      -28.66      -31.82   \n",
       " 2018-01-01 11:00:00      -15.78      -19.33      -13.71      -28.66   \n",
       " \n",
       "                      Price(t-7)  \n",
       " Date                             \n",
       " 2018-01-01 07:00:00        4.74  \n",
       " 2018-01-01 08:00:00        3.66  \n",
       " 2018-01-01 09:00:00        1.26  \n",
       " 2018-01-01 10:00:00      -20.10  \n",
       " 2018-01-01 11:00:00      -31.82  ,\n",
       " (43817, 10))"
      ]
     },
     "execution_count": 8,
     "metadata": {},
     "output_type": "execute_result"
    }
   ],
   "source": [
    "lookback = 7\n",
    "lagged_df = prepare_dataframe_laggs(df, lookback)\n",
    "lagged_df.head(), lagged_df.shape"
   ]
  },
  {
   "cell_type": "code",
   "execution_count": 9,
   "metadata": {},
   "outputs": [
    {
     "data": {
      "text/plain": [
       "array([[-1.9330e+01,  5.3045e+04,  4.6000e+04, ...,  1.2600e+00,\n",
       "         3.6600e+00,  4.7400e+00],\n",
       "       [-1.5780e+01,  5.4371e+04,  4.6400e+04, ..., -2.0100e+01,\n",
       "         1.2600e+00,  3.6600e+00],\n",
       "       [-1.2050e+01,  5.4318e+04,  4.6950e+04, ..., -3.1820e+01,\n",
       "        -2.0100e+01,  1.2600e+00],\n",
       "       ...,\n",
       "       [ 2.3900e+00,  4.4578e+04,  5.0450e+04, ...,  2.6910e+01,\n",
       "         1.4880e+01,  1.6700e+01],\n",
       "       [ 1.3000e-01,  4.5135e+04,  4.9650e+04, ...,  2.7930e+01,\n",
       "         2.6910e+01,  1.4880e+01],\n",
       "       [-4.3900e+00,  4.2280e+04,  4.6950e+04, ...,  2.2090e+01,\n",
       "         2.7930e+01,  2.6910e+01]])"
      ]
     },
     "execution_count": 9,
     "metadata": {},
     "output_type": "execute_result"
    }
   ],
   "source": [
    "lagged_df_np = lagged_df.to_numpy()\n",
    "lagged_df_np"
   ]
  },
  {
   "cell_type": "code",
   "execution_count": 10,
   "metadata": {},
   "outputs": [
    {
     "data": {
      "text/html": [
       "<div>\n",
       "<style scoped>\n",
       "    .dataframe tbody tr th:only-of-type {\n",
       "        vertical-align: middle;\n",
       "    }\n",
       "\n",
       "    .dataframe tbody tr th {\n",
       "        vertical-align: top;\n",
       "    }\n",
       "\n",
       "    .dataframe thead th {\n",
       "        text-align: right;\n",
       "    }\n",
       "</style>\n",
       "<table border=\"1\" class=\"dataframe\">\n",
       "  <thead>\n",
       "    <tr style=\"text-align: right;\">\n",
       "      <th></th>\n",
       "      <th>Price</th>\n",
       "      <th>FR Generation</th>\n",
       "      <th>FR Load</th>\n",
       "      <th>Price(t-1)</th>\n",
       "      <th>Price(t-2)</th>\n",
       "      <th>Price(t-3)</th>\n",
       "      <th>Price(t-4)</th>\n",
       "      <th>Price(t-5)</th>\n",
       "      <th>Price(t-6)</th>\n",
       "      <th>Price(t-7)</th>\n",
       "    </tr>\n",
       "    <tr>\n",
       "      <th>Date</th>\n",
       "      <th></th>\n",
       "      <th></th>\n",
       "      <th></th>\n",
       "      <th></th>\n",
       "      <th></th>\n",
       "      <th></th>\n",
       "      <th></th>\n",
       "      <th></th>\n",
       "      <th></th>\n",
       "      <th></th>\n",
       "    </tr>\n",
       "  </thead>\n",
       "  <tbody>\n",
       "    <tr>\n",
       "      <th>2018-01-01 07:00:00</th>\n",
       "      <td>-19.33</td>\n",
       "      <td>53045.0</td>\n",
       "      <td>46000.0</td>\n",
       "      <td>-13.71</td>\n",
       "      <td>-28.66</td>\n",
       "      <td>-31.82</td>\n",
       "      <td>-20.10</td>\n",
       "      <td>1.26</td>\n",
       "      <td>3.66</td>\n",
       "      <td>4.74</td>\n",
       "    </tr>\n",
       "    <tr>\n",
       "      <th>2018-01-01 08:00:00</th>\n",
       "      <td>-15.78</td>\n",
       "      <td>54371.0</td>\n",
       "      <td>46400.0</td>\n",
       "      <td>-19.33</td>\n",
       "      <td>-13.71</td>\n",
       "      <td>-28.66</td>\n",
       "      <td>-31.82</td>\n",
       "      <td>-20.10</td>\n",
       "      <td>1.26</td>\n",
       "      <td>3.66</td>\n",
       "    </tr>\n",
       "    <tr>\n",
       "      <th>2018-01-01 09:00:00</th>\n",
       "      <td>-12.05</td>\n",
       "      <td>54318.0</td>\n",
       "      <td>46950.0</td>\n",
       "      <td>-15.78</td>\n",
       "      <td>-19.33</td>\n",
       "      <td>-13.71</td>\n",
       "      <td>-28.66</td>\n",
       "      <td>-31.82</td>\n",
       "      <td>-20.10</td>\n",
       "      <td>1.26</td>\n",
       "    </tr>\n",
       "    <tr>\n",
       "      <th>2018-01-01 10:00:00</th>\n",
       "      <td>-0.42</td>\n",
       "      <td>54495.0</td>\n",
       "      <td>49100.0</td>\n",
       "      <td>-12.05</td>\n",
       "      <td>-15.78</td>\n",
       "      <td>-19.33</td>\n",
       "      <td>-13.71</td>\n",
       "      <td>-28.66</td>\n",
       "      <td>-31.82</td>\n",
       "      <td>-20.10</td>\n",
       "    </tr>\n",
       "    <tr>\n",
       "      <th>2018-01-01 11:00:00</th>\n",
       "      <td>2.30</td>\n",
       "      <td>54726.0</td>\n",
       "      <td>51500.0</td>\n",
       "      <td>-0.42</td>\n",
       "      <td>-12.05</td>\n",
       "      <td>-15.78</td>\n",
       "      <td>-19.33</td>\n",
       "      <td>-13.71</td>\n",
       "      <td>-28.66</td>\n",
       "      <td>-31.82</td>\n",
       "    </tr>\n",
       "  </tbody>\n",
       "</table>\n",
       "</div>"
      ],
      "text/plain": [
       "                     Price  FR Generation  FR Load  Price(t-1)  Price(t-2)  \\\n",
       "Date                                                                         \n",
       "2018-01-01 07:00:00 -19.33        53045.0  46000.0      -13.71      -28.66   \n",
       "2018-01-01 08:00:00 -15.78        54371.0  46400.0      -19.33      -13.71   \n",
       "2018-01-01 09:00:00 -12.05        54318.0  46950.0      -15.78      -19.33   \n",
       "2018-01-01 10:00:00  -0.42        54495.0  49100.0      -12.05      -15.78   \n",
       "2018-01-01 11:00:00   2.30        54726.0  51500.0       -0.42      -12.05   \n",
       "\n",
       "                     Price(t-3)  Price(t-4)  Price(t-5)  Price(t-6)  \\\n",
       "Date                                                                  \n",
       "2018-01-01 07:00:00      -31.82      -20.10        1.26        3.66   \n",
       "2018-01-01 08:00:00      -28.66      -31.82      -20.10        1.26   \n",
       "2018-01-01 09:00:00      -13.71      -28.66      -31.82      -20.10   \n",
       "2018-01-01 10:00:00      -19.33      -13.71      -28.66      -31.82   \n",
       "2018-01-01 11:00:00      -15.78      -19.33      -13.71      -28.66   \n",
       "\n",
       "                     Price(t-7)  \n",
       "Date                             \n",
       "2018-01-01 07:00:00        4.74  \n",
       "2018-01-01 08:00:00        3.66  \n",
       "2018-01-01 09:00:00        1.26  \n",
       "2018-01-01 10:00:00      -20.10  \n",
       "2018-01-01 11:00:00      -31.82  "
      ]
     },
     "execution_count": 10,
     "metadata": {},
     "output_type": "execute_result"
    }
   ],
   "source": [
    "lagged_df.head()"
   ]
  },
  {
   "cell_type": "code",
   "execution_count": 11,
   "metadata": {},
   "outputs": [
    {
     "data": {
      "text/plain": [
       "array([[-0.80537559, -0.19601584, -0.4871407 , ..., -0.76362401,\n",
       "        -0.75875739, -0.75656741],\n",
       "       [-0.79817704, -0.15531477, -0.47503782, ..., -0.80693697,\n",
       "        -0.76362401, -0.75875739],\n",
       "       [-0.7906135 , -0.15694159, -0.45839637, ..., -0.83070231,\n",
       "        -0.80693697, -0.76362401],\n",
       "       ...,\n",
       "       [-0.76133264, -0.45590718, -0.35249622, ..., -0.71161197,\n",
       "        -0.73600592, -0.7323154 ],\n",
       "       [-0.76591538, -0.43881028, -0.37670197, ..., -0.70954365,\n",
       "        -0.71161197, -0.73600592],\n",
       "       [-0.77508086, -0.52644341, -0.45839637, ..., -0.72138577,\n",
       "        -0.70954365, -0.71161197]])"
      ]
     },
     "execution_count": 11,
     "metadata": {},
     "output_type": "execute_result"
    }
   ],
   "source": [
    "from sklearn.preprocessing import MinMaxScaler\n",
    "# Transform features by scaling each feature to a given range. \n",
    "scaler = MinMaxScaler(feature_range=(-1,1))\n",
    "lagged_df_np = scaler.fit_transform(lagged_df_np)\n",
    "lagged_df_np"
   ]
  },
  {
   "cell_type": "code",
   "execution_count": 12,
   "metadata": {},
   "outputs": [
    {
     "data": {
      "text/plain": [
       "((43817, 9), (43817,))"
      ]
     },
     "execution_count": 12,
     "metadata": {},
     "output_type": "execute_result"
    }
   ],
   "source": [
    "X = lagged_df_np[:, 1:]\n",
    "y = lagged_df_np[:, 0]\n",
    "X.shape, y.shape"
   ]
  },
  {
   "cell_type": "code",
   "execution_count": 13,
   "metadata": {},
   "outputs": [
    {
     "data": {
      "text/plain": [
       "array([[-0.75656741, -0.75875739, -0.76362401, ..., -0.79397958,\n",
       "        -0.4871407 , -0.19601584],\n",
       "       [-0.75875739, -0.76362401, -0.80693697, ..., -0.80537559,\n",
       "        -0.47503782, -0.15531477],\n",
       "       [-0.76362401, -0.80693697, -0.83070231, ..., -0.79817704,\n",
       "        -0.45839637, -0.15694159],\n",
       "       ...,\n",
       "       [-0.7323154 , -0.73600592, -0.71161197, ..., -0.75559408,\n",
       "        -0.35249622, -0.45590718],\n",
       "       [-0.73600592, -0.71161197, -0.70954365, ..., -0.76133264,\n",
       "        -0.37670197, -0.43881028],\n",
       "       [-0.71161197, -0.70954365, -0.72138577, ..., -0.76591538,\n",
       "        -0.45839637, -0.52644341]])"
      ]
     },
     "execution_count": 13,
     "metadata": {},
     "output_type": "execute_result"
    }
   ],
   "source": [
    "X = dc(np.flip(X, axis=1))\n",
    "X"
   ]
  },
  {
   "cell_type": "code",
   "execution_count": 14,
   "metadata": {},
   "outputs": [
    {
     "data": {
      "text/plain": [
       "41626"
      ]
     },
     "execution_count": 14,
     "metadata": {},
     "output_type": "execute_result"
    }
   ],
   "source": [
    "split_index = int(len(X)*0.95)\n",
    "split_index"
   ]
  },
  {
   "cell_type": "code",
   "execution_count": 15,
   "metadata": {},
   "outputs": [
    {
     "data": {
      "text/plain": [
       "((41626, 9), (2191, 9), (41626,), (2191,))"
      ]
     },
     "execution_count": 15,
     "metadata": {},
     "output_type": "execute_result"
    }
   ],
   "source": [
    "X_train = X[:split_index]\n",
    "X_test = X[split_index:]\n",
    "\n",
    "y_train = y[:split_index]\n",
    "y_test = y[split_index:]\n",
    "\n",
    "X_train.shape, X_test.shape, y_train.shape, y_test.shape"
   ]
  },
  {
   "cell_type": "code",
   "execution_count": 16,
   "metadata": {},
   "outputs": [
    {
     "data": {
      "text/plain": [
       "((41626, 9, 1), (2191, 9, 1), (41626, 1), (2191, 1))"
      ]
     },
     "execution_count": 16,
     "metadata": {},
     "output_type": "execute_result"
    }
   ],
   "source": [
    "X_train = X_train.reshape((-1, lookback+2, 1))\n",
    "X_test = X_test.reshape((-1, lookback+2, 1))\n",
    "\n",
    "y_train = y_train.reshape((-1, 1))\n",
    "y_test = y_test.reshape((-1, 1))\n",
    "\n",
    "X_train.shape, X_test.shape, y_train.shape, y_test.shape"
   ]
  },
  {
   "cell_type": "code",
   "execution_count": 17,
   "metadata": {},
   "outputs": [
    {
     "data": {
      "text/plain": [
       "(torch.Size([41626, 9, 1]),\n",
       " torch.Size([2191, 9, 1]),\n",
       " torch.Size([41626, 1]),\n",
       " torch.Size([2191, 1]))"
      ]
     },
     "execution_count": 17,
     "metadata": {},
     "output_type": "execute_result"
    }
   ],
   "source": [
    "X_train = torch.tensor(X_train).float()\n",
    "X_test = torch.tensor(X_test).float()\n",
    "y_train = torch.tensor(y_train).float()\n",
    "y_test = torch.tensor(y_test).float()\n",
    "\n",
    "X_train.shape, X_test.shape, y_train.shape, y_test.shape"
   ]
  },
  {
   "cell_type": "code",
   "execution_count": 18,
   "metadata": {},
   "outputs": [],
   "source": [
    "from helper_functions.data_setup import TimeseriesDataset\n",
    "\n",
    "# class TimeseriesDataset(Dataset):\n",
    "#     def __init__(self, X, y):\n",
    "#         self.X = X\n",
    "#         self.y = y\n",
    "\n",
    "#     def __len__(self):\n",
    "#         return len(self.X)\n",
    "    \n",
    "#     def __getitem__(self, i):\n",
    "#         return self.X[i],self.y[i]\n",
    "    \n",
    "train_dataset = TimeseriesDataset(X_train, y_train)\n",
    "test_dataset = TimeseriesDataset(X_test, y_test)"
   ]
  },
  {
   "cell_type": "code",
   "execution_count": 19,
   "metadata": {},
   "outputs": [],
   "source": [
    "from torch.utils.data import DataLoader\n",
    "\n",
    "batch_size = 16\n",
    "train_loader = DataLoader(train_dataset, batch_size=batch_size, shuffle=True)\n",
    "test_loader = DataLoader(test_dataset, batch_size=batch_size, shuffle=False)"
   ]
  },
  {
   "cell_type": "code",
   "execution_count": 20,
   "metadata": {},
   "outputs": [],
   "source": [
    "device = torch.device(\"cuda\" if torch.cuda.is_available() else \"cpu\")"
   ]
  },
  {
   "cell_type": "code",
   "execution_count": 21,
   "metadata": {},
   "outputs": [
    {
     "name": "stdout",
     "output_type": "stream",
     "text": [
      "torch.Size([16, 9, 1]) torch.Size([16, 1])\n"
     ]
    }
   ],
   "source": [
    "for _, batch in enumerate(train_loader):\n",
    "    x_batch, y_batch = batch[0].to(device), batch[1].to(device)\n",
    "    print(x_batch.shape, y_batch.shape)\n",
    "    break"
   ]
  },
  {
   "cell_type": "code",
   "execution_count": 22,
   "metadata": {},
   "outputs": [
    {
     "data": {
      "text/plain": [
       "LSTM(\n",
       "  (lstm): LSTM(1, 4, batch_first=True)\n",
       "  (fc): Linear(in_features=4, out_features=1, bias=True)\n",
       ")"
      ]
     },
     "execution_count": 22,
     "metadata": {},
     "output_type": "execute_result"
    }
   ],
   "source": [
    "from helper_functions.model_builder import LSTM\n",
    "\n",
    "model = LSTM(1, 4, 1)\n",
    "model.to(device)\n",
    "model"
   ]
  },
  {
   "cell_type": "code",
   "execution_count": 24,
   "metadata": {},
   "outputs": [],
   "source": [
    "def train_one_epoch(epoch, loss_function, optimizer):\n",
    "    model.train(True)\n",
    "    print(f\"Epoch: {epoch + 1}\")\n",
    "    running_loss = 0.0\n",
    "\n",
    "    for batch_index, batch in enumerate(train_loader):\n",
    "        x_batch, y_batch = batch[0].to(device), batch[1].to(device)\n",
    "\n",
    "        output = model(x_batch)\n",
    "        loss = loss_function(output, y_batch)\n",
    "        running_loss += loss.item()\n",
    "        \n",
    "        optimizer.zero_grad()\n",
    "        loss.backward()\n",
    "        optimizer.step()\n",
    "\n",
    "        if batch_index %100 == 99: #print every 100 batches\n",
    "            avg_loss_accross_batches = running_loss / 100\n",
    "            print(\"Batch {0}, Avg Loss {1:.3f}\".format(batch_index+1, avg_loss_accross_batches))\n",
    "\n",
    "            running_loss = 0.0\n",
    "\n",
    "    print()"
   ]
  },
  {
   "cell_type": "code",
   "execution_count": 26,
   "metadata": {},
   "outputs": [
    {
     "data": {
      "text/plain": [
       "========================================================================================================================\n",
       "Layer (type (var_name))                  Input Shape          Output Shape         Param #              Trainable\n",
       "========================================================================================================================\n",
       "LSTM (LSTM)                              [16, 4, 1]           [16, 1]              --                   True\n",
       "├─LSTM (lstm)                            [16, 4, 1]           [16, 4, 4]           112                  True\n",
       "├─Linear (fc)                            [16, 4]              [16, 1]              5                    True\n",
       "========================================================================================================================\n",
       "Total params: 117\n",
       "Trainable params: 117\n",
       "Non-trainable params: 0\n",
       "Total mult-adds (M): 0.01\n",
       "========================================================================================================================\n",
       "Input size (MB): 0.00\n",
       "Forward/backward pass size (MB): 0.00\n",
       "Params size (MB): 0.00\n",
       "Estimated Total Size (MB): 0.00\n",
       "========================================================================================================================"
      ]
     },
     "execution_count": 26,
     "metadata": {},
     "output_type": "execute_result"
    }
   ],
   "source": [
    "from torchinfo import summary\n",
    "# Print a summary using torchinfo (uncomment for actual output)\n",
    "summary(model=model, \n",
    "        input_size=(16, 4, 1), # make sure this is \"input_size\", not \"input_shape\"\n",
    "        # col_names=[\"input_size\"], # uncomment for smaller output\n",
    "        col_names=[\"input_size\", \"output_size\", \"num_params\", \"trainable\"],\n",
    "        col_width=20,\n",
    "        row_settings=[\"var_names\"]\n",
    ")"
   ]
  },
  {
   "cell_type": "code",
   "execution_count": 25,
   "metadata": {},
   "outputs": [],
   "source": [
    "def validate_one_epoch(epoch, loss_function):\n",
    "    model.train(False)\n",
    "    running_loss = 0.0\n",
    "\n",
    "    for batch_index, batch in enumerate(test_loader):\n",
    "        x_batch, y_batch = batch[0].to(device), batch[1].to(device)\n",
    "\n",
    "        with torch.no_grad():\n",
    "            output = model(x_batch)\n",
    "            loss = loss_function(output, y_batch)\n",
    "            running_loss += loss.item()\n",
    "    avg_loss_accross_batches = running_loss / len(test_loader)\n",
    "\n",
    "    print(\"Val Loss: {0:.3f}\".format(avg_loss_accross_batches))\n",
    "    print('$$$$$$$$$$$$$$$$$$$$$$$$$$$$$$$$$$$$$$$$$$$$$$')\n",
    "    print()"
   ]
  },
  {
   "cell_type": "code",
   "execution_count": 150,
   "metadata": {},
   "outputs": [
    {
     "name": "stdout",
     "output_type": "stream",
     "text": [
      "Epoch: 1\n",
      "Batch 100, Avg Loss 0.004\n",
      "Batch 200, Avg Loss 0.004\n",
      "Batch 300, Avg Loss 0.003\n",
      "Batch 400, Avg Loss 0.003\n",
      "Batch 500, Avg Loss 0.003\n",
      "Batch 600, Avg Loss 0.003\n",
      "Batch 700, Avg Loss 0.003\n",
      "Batch 800, Avg Loss 0.003\n",
      "Batch 900, Avg Loss 0.003\n",
      "Batch 1000, Avg Loss 0.003\n",
      "Batch 1100, Avg Loss 0.002\n",
      "Batch 1200, Avg Loss 0.002\n",
      "Batch 1300, Avg Loss 0.002\n",
      "Batch 1400, Avg Loss 0.002\n",
      "Batch 1500, Avg Loss 0.002\n",
      "Batch 1600, Avg Loss 0.002\n",
      "Batch 1700, Avg Loss 0.002\n",
      "Batch 1800, Avg Loss 0.002\n",
      "Batch 1900, Avg Loss 0.002\n",
      "Batch 2000, Avg Loss 0.002\n",
      "Batch 2100, Avg Loss 0.001\n",
      "Batch 2200, Avg Loss 0.002\n",
      "Batch 2300, Avg Loss 0.002\n",
      "Batch 2400, Avg Loss 0.002\n",
      "Batch 2500, Avg Loss 0.002\n",
      "Batch 2600, Avg Loss 0.002\n",
      "\n",
      "Val Loss: 0.006\n",
      "$$$$$$$$$$$$$$$$$$$$$$$$$$$$$$$$$$$$$$$$$$$$$$\n",
      "\n",
      "Epoch: 2\n",
      "Batch 100, Avg Loss 0.002\n",
      "Batch 200, Avg Loss 0.002\n",
      "Batch 300, Avg Loss 0.002\n",
      "Batch 400, Avg Loss 0.002\n",
      "Batch 500, Avg Loss 0.002\n",
      "Batch 600, Avg Loss 0.002\n",
      "Batch 700, Avg Loss 0.002\n",
      "Batch 800, Avg Loss 0.002\n",
      "Batch 900, Avg Loss 0.002\n",
      "Batch 1000, Avg Loss 0.001\n",
      "Batch 1100, Avg Loss 0.002\n",
      "Batch 1200, Avg Loss 0.002\n",
      "Batch 1300, Avg Loss 0.001\n",
      "Batch 1400, Avg Loss 0.002\n",
      "Batch 1500, Avg Loss 0.001\n",
      "Batch 1600, Avg Loss 0.002\n",
      "Batch 1700, Avg Loss 0.001\n",
      "Batch 1800, Avg Loss 0.001\n",
      "Batch 1900, Avg Loss 0.001\n",
      "Batch 2000, Avg Loss 0.002\n",
      "Batch 2100, Avg Loss 0.002\n",
      "Batch 2200, Avg Loss 0.001\n",
      "Batch 2300, Avg Loss 0.002\n",
      "Batch 2400, Avg Loss 0.002\n",
      "Batch 2500, Avg Loss 0.001\n",
      "Batch 2600, Avg Loss 0.002\n",
      "\n",
      "Val Loss: 0.005\n",
      "$$$$$$$$$$$$$$$$$$$$$$$$$$$$$$$$$$$$$$$$$$$$$$\n",
      "\n",
      "Epoch: 3\n",
      "Batch 100, Avg Loss 0.002\n",
      "Batch 200, Avg Loss 0.002\n",
      "Batch 300, Avg Loss 0.001\n",
      "Batch 400, Avg Loss 0.001\n",
      "Batch 500, Avg Loss 0.002\n",
      "Batch 600, Avg Loss 0.002\n",
      "Batch 700, Avg Loss 0.001\n",
      "Batch 800, Avg Loss 0.001\n",
      "Batch 900, Avg Loss 0.001\n",
      "Batch 1000, Avg Loss 0.001\n",
      "Batch 1100, Avg Loss 0.002\n",
      "Batch 1200, Avg Loss 0.002\n",
      "Batch 1300, Avg Loss 0.001\n",
      "Batch 1400, Avg Loss 0.001\n",
      "Batch 1500, Avg Loss 0.002\n",
      "Batch 1600, Avg Loss 0.002\n",
      "Batch 1700, Avg Loss 0.001\n",
      "Batch 1800, Avg Loss 0.002\n",
      "Batch 1900, Avg Loss 0.002\n",
      "Batch 2000, Avg Loss 0.001\n",
      "Batch 2100, Avg Loss 0.001\n",
      "Batch 2200, Avg Loss 0.001\n",
      "Batch 2300, Avg Loss 0.001\n",
      "Batch 2400, Avg Loss 0.002\n",
      "Batch 2500, Avg Loss 0.001\n",
      "Batch 2600, Avg Loss 0.002\n",
      "\n",
      "Val Loss: 0.005\n",
      "$$$$$$$$$$$$$$$$$$$$$$$$$$$$$$$$$$$$$$$$$$$$$$\n",
      "\n",
      "Epoch: 4\n",
      "Batch 100, Avg Loss 0.001\n",
      "Batch 200, Avg Loss 0.002\n",
      "Batch 300, Avg Loss 0.001\n",
      "Batch 400, Avg Loss 0.001\n",
      "Batch 500, Avg Loss 0.001\n",
      "Batch 600, Avg Loss 0.001\n",
      "Batch 700, Avg Loss 0.002\n",
      "Batch 800, Avg Loss 0.002\n",
      "Batch 900, Avg Loss 0.001\n",
      "Batch 1000, Avg Loss 0.001\n",
      "Batch 1100, Avg Loss 0.001\n",
      "Batch 1200, Avg Loss 0.002\n",
      "Batch 1300, Avg Loss 0.001\n",
      "Batch 1400, Avg Loss 0.001\n",
      "Batch 1500, Avg Loss 0.001\n",
      "Batch 1600, Avg Loss 0.002\n",
      "Batch 1700, Avg Loss 0.001\n",
      "Batch 1800, Avg Loss 0.001\n",
      "Batch 1900, Avg Loss 0.001\n",
      "Batch 2000, Avg Loss 0.001\n",
      "Batch 2100, Avg Loss 0.002\n",
      "Batch 2200, Avg Loss 0.002\n",
      "Batch 2300, Avg Loss 0.001\n",
      "Batch 2400, Avg Loss 0.001\n",
      "Batch 2500, Avg Loss 0.001\n",
      "Batch 2600, Avg Loss 0.001\n",
      "\n",
      "Val Loss: 0.004\n",
      "$$$$$$$$$$$$$$$$$$$$$$$$$$$$$$$$$$$$$$$$$$$$$$\n",
      "\n",
      "Epoch: 5\n",
      "Batch 100, Avg Loss 0.001\n",
      "Batch 200, Avg Loss 0.001\n",
      "Batch 300, Avg Loss 0.001\n",
      "Batch 400, Avg Loss 0.001\n",
      "Batch 500, Avg Loss 0.001\n",
      "Batch 600, Avg Loss 0.001\n",
      "Batch 700, Avg Loss 0.001\n",
      "Batch 800, Avg Loss 0.001\n",
      "Batch 900, Avg Loss 0.001\n",
      "Batch 1000, Avg Loss 0.001\n",
      "Batch 1100, Avg Loss 0.002\n",
      "Batch 1200, Avg Loss 0.001\n",
      "Batch 1300, Avg Loss 0.001\n",
      "Batch 1400, Avg Loss 0.001\n",
      "Batch 1500, Avg Loss 0.001\n",
      "Batch 1600, Avg Loss 0.001\n",
      "Batch 1700, Avg Loss 0.001\n",
      "Batch 1800, Avg Loss 0.002\n",
      "Batch 1900, Avg Loss 0.001\n",
      "Batch 2000, Avg Loss 0.001\n",
      "Batch 2100, Avg Loss 0.002\n",
      "Batch 2200, Avg Loss 0.001\n",
      "Batch 2300, Avg Loss 0.001\n",
      "Batch 2400, Avg Loss 0.001\n",
      "Batch 2500, Avg Loss 0.002\n",
      "Batch 2600, Avg Loss 0.002\n",
      "\n",
      "Val Loss: 0.004\n",
      "$$$$$$$$$$$$$$$$$$$$$$$$$$$$$$$$$$$$$$$$$$$$$$\n",
      "\n",
      "Epoch: 6\n",
      "Batch 100, Avg Loss 0.002\n",
      "Batch 200, Avg Loss 0.002\n",
      "Batch 300, Avg Loss 0.001\n",
      "Batch 400, Avg Loss 0.002\n",
      "Batch 500, Avg Loss 0.001\n",
      "Batch 600, Avg Loss 0.001\n",
      "Batch 700, Avg Loss 0.002\n",
      "Batch 800, Avg Loss 0.001\n",
      "Batch 900, Avg Loss 0.001\n",
      "Batch 1000, Avg Loss 0.001\n",
      "Batch 1100, Avg Loss 0.002\n",
      "Batch 1200, Avg Loss 0.001\n",
      "Batch 1300, Avg Loss 0.001\n",
      "Batch 1400, Avg Loss 0.001\n",
      "Batch 1500, Avg Loss 0.002\n",
      "Batch 1600, Avg Loss 0.001\n",
      "Batch 1700, Avg Loss 0.001\n",
      "Batch 1800, Avg Loss 0.001\n",
      "Batch 1900, Avg Loss 0.001\n",
      "Batch 2000, Avg Loss 0.001\n",
      "Batch 2100, Avg Loss 0.001\n",
      "Batch 2200, Avg Loss 0.001\n",
      "Batch 2300, Avg Loss 0.001\n",
      "Batch 2400, Avg Loss 0.001\n",
      "Batch 2500, Avg Loss 0.001\n",
      "Batch 2600, Avg Loss 0.001\n",
      "\n",
      "Val Loss: 0.004\n",
      "$$$$$$$$$$$$$$$$$$$$$$$$$$$$$$$$$$$$$$$$$$$$$$\n",
      "\n",
      "Epoch: 7\n",
      "Batch 100, Avg Loss 0.001\n",
      "Batch 200, Avg Loss 0.001\n",
      "Batch 300, Avg Loss 0.001\n",
      "Batch 400, Avg Loss 0.002\n",
      "Batch 500, Avg Loss 0.001\n",
      "Batch 600, Avg Loss 0.001\n",
      "Batch 700, Avg Loss 0.002\n",
      "Batch 800, Avg Loss 0.001\n",
      "Batch 900, Avg Loss 0.001\n",
      "Batch 1000, Avg Loss 0.001\n",
      "Batch 1100, Avg Loss 0.001\n",
      "Batch 1200, Avg Loss 0.001\n",
      "Batch 1300, Avg Loss 0.001\n",
      "Batch 1400, Avg Loss 0.001\n",
      "Batch 1500, Avg Loss 0.001\n",
      "Batch 1600, Avg Loss 0.002\n",
      "Batch 1700, Avg Loss 0.001\n",
      "Batch 1800, Avg Loss 0.002\n",
      "Batch 1900, Avg Loss 0.001\n",
      "Batch 2000, Avg Loss 0.001\n",
      "Batch 2100, Avg Loss 0.001\n",
      "Batch 2200, Avg Loss 0.002\n",
      "Batch 2300, Avg Loss 0.001\n",
      "Batch 2400, Avg Loss 0.001\n",
      "Batch 2500, Avg Loss 0.001\n",
      "Batch 2600, Avg Loss 0.001\n",
      "\n",
      "Val Loss: 0.004\n",
      "$$$$$$$$$$$$$$$$$$$$$$$$$$$$$$$$$$$$$$$$$$$$$$\n",
      "\n",
      "Epoch: 8\n",
      "Batch 100, Avg Loss 0.001\n",
      "Batch 200, Avg Loss 0.001\n",
      "Batch 300, Avg Loss 0.001\n",
      "Batch 400, Avg Loss 0.001\n",
      "Batch 500, Avg Loss 0.001\n",
      "Batch 600, Avg Loss 0.001\n",
      "Batch 700, Avg Loss 0.001\n",
      "Batch 800, Avg Loss 0.001\n",
      "Batch 900, Avg Loss 0.002\n",
      "Batch 1000, Avg Loss 0.001\n",
      "Batch 1100, Avg Loss 0.001\n",
      "Batch 1200, Avg Loss 0.002\n",
      "Batch 1300, Avg Loss 0.002\n",
      "Batch 1400, Avg Loss 0.001\n",
      "Batch 1500, Avg Loss 0.001\n",
      "Batch 1600, Avg Loss 0.001\n",
      "Batch 1700, Avg Loss 0.002\n",
      "Batch 1800, Avg Loss 0.001\n",
      "Batch 1900, Avg Loss 0.001\n",
      "Batch 2000, Avg Loss 0.001\n",
      "Batch 2100, Avg Loss 0.001\n",
      "Batch 2200, Avg Loss 0.001\n",
      "Batch 2300, Avg Loss 0.001\n",
      "Batch 2400, Avg Loss 0.001\n",
      "Batch 2500, Avg Loss 0.001\n",
      "Batch 2600, Avg Loss 0.001\n",
      "\n",
      "Val Loss: 0.004\n",
      "$$$$$$$$$$$$$$$$$$$$$$$$$$$$$$$$$$$$$$$$$$$$$$\n",
      "\n",
      "Epoch: 9\n",
      "Batch 100, Avg Loss 0.001\n",
      "Batch 200, Avg Loss 0.001\n",
      "Batch 300, Avg Loss 0.001\n",
      "Batch 400, Avg Loss 0.001\n",
      "Batch 500, Avg Loss 0.001\n",
      "Batch 600, Avg Loss 0.001\n",
      "Batch 700, Avg Loss 0.002\n",
      "Batch 800, Avg Loss 0.001\n",
      "Batch 900, Avg Loss 0.001\n",
      "Batch 1000, Avg Loss 0.001\n",
      "Batch 1100, Avg Loss 0.001\n",
      "Batch 1200, Avg Loss 0.001\n",
      "Batch 1300, Avg Loss 0.001\n",
      "Batch 1400, Avg Loss 0.001\n",
      "Batch 1500, Avg Loss 0.002\n",
      "Batch 1600, Avg Loss 0.001\n",
      "Batch 1700, Avg Loss 0.001\n",
      "Batch 1800, Avg Loss 0.001\n",
      "Batch 1900, Avg Loss 0.002\n",
      "Batch 2000, Avg Loss 0.001\n",
      "Batch 2100, Avg Loss 0.001\n",
      "Batch 2200, Avg Loss 0.001\n",
      "Batch 2300, Avg Loss 0.001\n",
      "Batch 2400, Avg Loss 0.001\n",
      "Batch 2500, Avg Loss 0.001\n",
      "Batch 2600, Avg Loss 0.001\n",
      "\n",
      "Val Loss: 0.004\n",
      "$$$$$$$$$$$$$$$$$$$$$$$$$$$$$$$$$$$$$$$$$$$$$$\n",
      "\n",
      "Epoch: 10\n",
      "Batch 100, Avg Loss 0.001\n",
      "Batch 200, Avg Loss 0.001\n",
      "Batch 300, Avg Loss 0.001\n",
      "Batch 400, Avg Loss 0.001\n",
      "Batch 500, Avg Loss 0.002\n",
      "Batch 600, Avg Loss 0.001\n",
      "Batch 700, Avg Loss 0.001\n",
      "Batch 800, Avg Loss 0.001\n",
      "Batch 900, Avg Loss 0.002\n",
      "Batch 1000, Avg Loss 0.001\n",
      "Batch 1100, Avg Loss 0.001\n",
      "Batch 1200, Avg Loss 0.001\n",
      "Batch 1300, Avg Loss 0.001\n",
      "Batch 1400, Avg Loss 0.001\n",
      "Batch 1500, Avg Loss 0.001\n",
      "Batch 1600, Avg Loss 0.001\n",
      "Batch 1700, Avg Loss 0.001\n",
      "Batch 1800, Avg Loss 0.001\n",
      "Batch 1900, Avg Loss 0.001\n",
      "Batch 2000, Avg Loss 0.001\n",
      "Batch 2100, Avg Loss 0.001\n",
      "Batch 2200, Avg Loss 0.002\n",
      "Batch 2300, Avg Loss 0.001\n",
      "Batch 2400, Avg Loss 0.001\n",
      "Batch 2500, Avg Loss 0.001\n",
      "Batch 2600, Avg Loss 0.001\n",
      "\n",
      "Val Loss: 0.004\n",
      "$$$$$$$$$$$$$$$$$$$$$$$$$$$$$$$$$$$$$$$$$$$$$$\n",
      "\n"
     ]
    }
   ],
   "source": [
    "learning_rate = 0.001\n",
    "num_epochs = 10\n",
    "loss_function = nn.MSELoss()\n",
    "optimizer = torch.optim.Adam(model.parameters(), lr=learning_rate)\n",
    "\n",
    "for epoch in range(num_epochs):\n",
    "    train_one_epoch(epoch, loss_function, optimizer)\n",
    "    validate_one_epoch(epoch, loss_function)"
   ]
  },
  {
   "cell_type": "code",
   "execution_count": 34,
   "metadata": {},
   "outputs": [
    {
     "data": {
      "image/png": "[encoded data removed]",
      "text/plain": [
       "<Figure size 640x480 with 1 Axes>"
      ]
     },
     "metadata": {},
     "output_type": "display_data"
    }
   ],
   "source": [
    "# WRONG SCALE\n",
    "\n",
    "with torch.no_grad():\n",
    "    predicted = model(X_train.to(device)).to('cpu').numpy()\n",
    "\n",
    "plt.plot(y_train, label=\"Actual Price\")\n",
    "plt.plot(predicted, label='Predicted Price')\n",
    "plt.xlabel(\"Day\")\n",
    "plt.ylabel(\"Price\")\n",
    "plt.title(\"LSTM Output - Train Data Benchmark Dataset (1095 CW)\")\n",
    "plt.legend()\n",
    "plt.show()"
   ]
  },
  {
   "cell_type": "code",
   "execution_count": 36,
   "metadata": {},
   "outputs": [
    {
     "data": {
      "text/plain": [
       "array([ -8.10917756, -16.80807638, -13.9194957 , ...,  66.52984222,\n",
       "        77.41635516, 160.79098727])"
      ]
     },
     "execution_count": 36,
     "metadata": {},
     "output_type": "execute_result"
    }
   ],
   "source": [
    "train_predictions = predicted.flatten()\n",
    "\n",
    "dummies = np.zeros((X_train.shape[0], lookback+3))\n",
    "dummies[:, 0] = train_predictions\n",
    "dummies = scaler.inverse_transform(dummies)\n",
    "\n",
    "train_predictions = dc(dummies[:, 0])\n",
    "train_predictions"
   ]
  },
  {
   "cell_type": "code",
   "execution_count": 37,
   "metadata": {},
   "outputs": [
    {
     "data": {
      "text/plain": [
       "array([-19.32999219, -15.78000973, -12.04998701, ...,  71.63998746,\n",
       "       137.79999271, 195.05000376])"
      ]
     },
     "execution_count": 37,
     "metadata": {},
     "output_type": "execute_result"
    }
   ],
   "source": [
    "dummies = np.zeros((X_train.shape[0], lookback+3))\n",
    "dummies[:, 0] = y_train.flatten()\n",
    "dummies = scaler.inverse_transform(dummies)\n",
    "\n",
    "new_y_train = dc(dummies[:, 0])\n",
    "new_y_train"
   ]
  },
  {
   "cell_type": "code",
   "execution_count": 38,
   "metadata": {},
   "outputs": [
    {
     "data": {
      "image/png": "[encoded data removed]",
      "text/plain": [
       "<Figure size 640x480 with 1 Axes>"
      ]
     },
     "metadata": {},
     "output_type": "display_data"
    }
   ],
   "source": [
    "plt.plot(new_y_train, label=\"Actual Price\")\n",
    "plt.plot(train_predictions, label='Predicted Price')\n",
    "plt.xlabel(\"Day\")\n",
    "plt.ylabel(\"Price\")\n",
    "plt.title(\"LSTM Output - Train Data Benchmark Dataset (1095 CW)\")\n",
    "plt.legend()\n",
    "plt.show()"
   ]
  },
  {
   "cell_type": "code",
   "execution_count": 155,
   "metadata": {},
   "outputs": [
    {
     "data": {
      "text/plain": [
       "array([220.65637342, 245.73862749, 209.15884058, ...,   0.52143823,\n",
       "        -0.32617663,  -0.78819669])"
      ]
     },
     "execution_count": 155,
     "metadata": {},
     "output_type": "execute_result"
    }
   ],
   "source": [
    "test_predictions = model(X_test.to(device)).detach().cpu().numpy().flatten()\n",
    "\n",
    "dummies = np.zeros((X_test.shape[0], lookback+3))\n",
    "dummies[:, 0] = test_predictions\n",
    "dummies = scaler.inverse_transform(dummies)\n",
    "\n",
    "test_predictions = dc(dummies[:,0])\n",
    "test_predictions"
   ]
  },
  {
   "cell_type": "code",
   "execution_count": 156,
   "metadata": {},
   "outputs": [
    {
     "data": {
      "text/plain": [
       "array([ 2.29299996e+02,  2.18650005e+02,  1.72899996e+02, ...,\n",
       "        2.39000630e+00,  1.29993956e-01, -4.39000135e+00])"
      ]
     },
     "execution_count": 156,
     "metadata": {},
     "output_type": "execute_result"
    }
   ],
   "source": [
    "dummies = np.zeros((X_test.shape[0], lookback+3))\n",
    "dummies[:, 0] = y_test.flatten()\n",
    "dummies = scaler.inverse_transform(dummies)\n",
    "\n",
    "new_y_test = dc(dummies[:, 0])\n",
    "new_y_test"
   ]
  },
  {
   "cell_type": "code",
   "execution_count": 39,
   "metadata": {},
   "outputs": [
    {
     "data": {
      "image/png": "[encoded data removed]",
      "text/plain": [
       "<Figure size 640x480 with 1 Axes>"
      ]
     },
     "metadata": {},
     "output_type": "display_data"
    }
   ],
   "source": [
    "plt.plot(new_y_test, label=\"Actual Price\")\n",
    "plt.plot(test_predictions, label='Predicted Price')\n",
    "plt.xlabel(\"Day\")\n",
    "plt.ylabel(\"Price\")\n",
    "plt.title(\"LSTM Output - Test Data Benchmark Dataset (1095 CW)\")\n",
    "plt.legend()\n",
    "plt.show()"
   ]
  },
  {
   "cell_type": "code",
   "execution_count": 29,
   "metadata": {},
   "outputs": [],
   "source": [
    "\"\"\"\n",
    "Contains functions for training and testing a PyTorch model.\n",
    "\"\"\"\n",
    "import torch\n",
    "\n",
    "from tqdm.auto import tqdm\n",
    "from typing import Dict, List, Tuple\n",
    "from sklearn.metrics import mean_absolute_percentage_error as mape\n",
    "from sklearn.metrics import mean_absolute_error as mae\n",
    "\n",
    "def train_step(model: torch.nn.Module, \n",
    "               dataloader: torch.utils.data.DataLoader, \n",
    "               loss_fn: torch.nn.Module, \n",
    "               optimizer: torch.optim.Optimizer,\n",
    "               device: torch.device) -> Tuple[float, float]:\n",
    "  \"\"\"Trains a PyTorch model for a single epoch.\n",
    "\n",
    "  Turns a target PyTorch model to training mode and then\n",
    "  runs through all of the required training steps (forward\n",
    "  pass, loss calculation, optimizer step).\n",
    "\n",
    "  Args:\n",
    "    model: A PyTorch model to be trained.\n",
    "    dataloader: A DataLoader instance for the model to be trained on.\n",
    "    loss_fn: A PyTorch loss function to minimize.\n",
    "    optimizer: A PyTorch optimizer to help minimize the loss function.\n",
    "    device: A target device to compute on (e.g. \"cuda\" or \"cpu\").\n",
    "\n",
    "  Returns:\n",
    "    A tuple of training loss and training accuracy metrics.\n",
    "    In the form (train_loss, train_accuracy). For example:\n",
    "\n",
    "    (0.1112, 0.8743)\n",
    "  \"\"\"\n",
    "  # Put model in train mode\n",
    "  model.train()\n",
    "\n",
    "  # Setup train loss and train accuracy values\n",
    "  train_loss, train_acc = 0, 0\n",
    "\n",
    "  # Loop through data loader data batches\n",
    "  for batch, (X, y) in enumerate(dataloader):\n",
    "      # Send data to target device\n",
    "      X, y = X.to(device), y.to(device)\n",
    "\n",
    "      # 1. Forward pass\n",
    "      y_pred = model(X)\n",
    "\n",
    "      # 2. Calculate  and accumulate loss\n",
    "      loss = loss_fn(y_pred, y)\n",
    "      train_loss += loss.item() \n",
    "\n",
    "      # 3. Optimizer zero grad\n",
    "      optimizer.zero_grad()\n",
    "\n",
    "      # 4. Loss backward\n",
    "      loss.backward()\n",
    "\n",
    "      # 5. Optimizer step\n",
    "      optimizer.step()\n",
    "\n",
    "      # Calculate and accumulate accuracy metric across all batches\n",
    "      # avg_loss_accross_batches = train_loss / 100\n",
    "      train_acc += mae(y_pred.detach().cpu().numpy(), y.cpu().numpy())\n",
    "      # y_pred_class = torch.argmax(torch.softmax(y_pred, dim=1), dim=1)\n",
    "      # train_acc += (y_pred_class == y).sum().item()/len(y_pred)\n",
    "\n",
    "  # Adjust metrics to get average loss and accuracy per batch \n",
    "  train_loss = train_loss / len(dataloader)\n",
    "  train_acc = train_acc / len(dataloader)\n",
    "  return train_loss, train_acc\n",
    "\n",
    "def test_step(model: torch.nn.Module, \n",
    "              dataloader: torch.utils.data.DataLoader, \n",
    "              loss_fn: torch.nn.Module,\n",
    "              device: torch.device) -> Tuple[float, float]:\n",
    "  \"\"\"Tests a PyTorch model for a single epoch.\n",
    "\n",
    "  Turns a target PyTorch model to \"eval\" mode and then performs\n",
    "  a forward pass on a testing dataset.\n",
    "\n",
    "  Args:\n",
    "    model: A PyTorch model to be tested.\n",
    "    dataloader: A DataLoader instance for the model to be tested on.\n",
    "    loss_fn: A PyTorch loss function to calculate loss on the test data.\n",
    "    device: A target device to compute on (e.g. \"cuda\" or \"cpu\").\n",
    "\n",
    "  Returns:\n",
    "    A tuple of testing loss and testing accuracy metrics.\n",
    "    In the form (test_loss, test_accuracy). For example:\n",
    "\n",
    "    (0.0223, 0.8985)\n",
    "  \"\"\"\n",
    "  # Put model in eval mode\n",
    "  model.eval() \n",
    "\n",
    "  # Setup test loss and test accuracy values\n",
    "  test_loss, test_acc = 0, 0\n",
    "\n",
    "  # Turn on inference context manager\n",
    "  with torch.inference_mode():\n",
    "      # Loop through DataLoader batches\n",
    "      for batch, (X, y) in enumerate(dataloader):\n",
    "          # Send data to target device\n",
    "          X, y = X.to(device), y.to(device)\n",
    "\n",
    "          # 1. Forward pass\n",
    "          test_pred = model(X)\n",
    "\n",
    "          # 2. Calculate and accumulate loss\n",
    "          loss = loss_fn(test_pred, y)\n",
    "          test_loss += loss.item()          \n",
    "          \n",
    "          # Calculate and accumulate accuracy\n",
    "          # test_acc += mae(test_pred.detach(), y)\n",
    "          test_acc += mae(test_pred.detach().cpu().numpy(), y.cpu().numpy())\n",
    "          # test_pred_labels = test_pred_logits.argmax(dim=1)\n",
    "          # test_acc += ((test_pred_labels == y).sum().item()/len(test_pred_labels))\n",
    "\n",
    "  # Adjust metrics to get average loss and accuracy per batch \n",
    "  test_loss = test_loss / len(dataloader)\n",
    "  test_acc = test_acc / len(dataloader)\n",
    "  return test_loss, test_acc\n",
    "\n",
    "def train(model: torch.nn.Module, \n",
    "          train_dataloader: torch.utils.data.DataLoader, \n",
    "          test_dataloader: torch.utils.data.DataLoader, \n",
    "          optimizer: torch.optim.Optimizer,\n",
    "          loss_fn: torch.nn.Module,\n",
    "          epochs: int,\n",
    "          device: torch.device) -> Dict[str, List]:\n",
    "  \"\"\"Trains and tests a PyTorch model.\n",
    "\n",
    "  Passes a target PyTorch models through train_step() and test_step()\n",
    "  functions for a number of epochs, training and testing the model\n",
    "  in the same epoch loop.\n",
    "\n",
    "  Calculates, prints and stores evaluation metrics throughout.\n",
    "\n",
    "  Args:\n",
    "    model: A PyTorch model to be trained and tested.\n",
    "    train_dataloader: A DataLoader instance for the model to be trained on.\n",
    "    test_dataloader: A DataLoader instance for the model to be tested on.\n",
    "    optimizer: A PyTorch optimizer to help minimize the loss function.\n",
    "    loss_fn: A PyTorch loss function to calculate loss on both datasets.\n",
    "    epochs: An integer indicating how many epochs to train for.\n",
    "    device: A target device to compute on (e.g. \"cuda\" or \"cpu\").\n",
    "\n",
    "  Returns:\n",
    "    A dictionary of training and testing loss as well as training and\n",
    "    testing accuracy metrics. Each metric has a value in a list for \n",
    "    each epoch.\n",
    "    In the form: {train_loss: [...],\n",
    "                  train_acc: [...],\n",
    "                  test_loss: [...],\n",
    "                  test_acc: [...]} \n",
    "    For example if training for epochs=2: \n",
    "                 {train_loss: [2.0616, 1.0537],\n",
    "                  train_acc: [0.3945, 0.3945],\n",
    "                  test_loss: [1.2641, 1.5706],\n",
    "                  test_acc: [0.3400, 0.2973]} \n",
    "  \"\"\"\n",
    "  # Create empty results dictionary\n",
    "  results = {\"train_loss\": [],\n",
    "      \"train_acc\": [],\n",
    "      \"test_loss\": [],\n",
    "      \"test_acc\": []\n",
    "  }\n",
    "\n",
    "  # Loop through training and testing steps for a number of epochs\n",
    "  for epoch in tqdm(range(epochs)):\n",
    "      train_loss, train_acc = train_step(model=model,\n",
    "                                          dataloader=train_dataloader,\n",
    "                                          loss_fn=loss_fn,\n",
    "                                          optimizer=optimizer,\n",
    "                                          device=device)\n",
    "      test_loss, test_acc = test_step(model=model,\n",
    "          dataloader=test_dataloader,\n",
    "          loss_fn=loss_fn,\n",
    "          device=device)\n",
    "\n",
    "      # Print out what's happening\n",
    "      print(\n",
    "          f\"Epoch: {epoch+1} | \"\n",
    "          f\"train_loss: {train_loss:.4f} | \"\n",
    "          f\"train MAE: {train_acc:.4f} | \"\n",
    "          f\"test_loss: {test_loss:.4f} | \"\n",
    "          f\"test MAE: {test_acc:.4f}\"\n",
    "      )\n",
    "\n",
    "      # Update results dictionary\n",
    "      results[\"train_loss\"].append(train_loss)\n",
    "      results[\"train_acc\"].append(train_acc)\n",
    "      results[\"test_loss\"].append(test_loss)\n",
    "      results[\"test_acc\"].append(test_acc)\n",
    "\n",
    "  # Return the filled results at the end of the epochs\n",
    "  return results"
   ]
  },
  {
   "cell_type": "code",
   "execution_count": 30,
   "metadata": {},
   "outputs": [
    {
     "name": "stderr",
     "output_type": "stream",
     "text": [
      " 10%|█         | 1/10 [00:04<00:43,  4.88s/it]"
     ]
    },
    {
     "name": "stdout",
     "output_type": "stream",
     "text": [
      "Epoch: 1 | train_loss: 0.0013 | train MAE: 0.0189 | test_loss: 0.0041 | test MAE: 0.0424\n"
     ]
    },
    {
     "name": "stderr",
     "output_type": "stream",
     "text": [
      " 20%|██        | 2/10 [00:09<00:38,  4.77s/it]"
     ]
    },
    {
     "name": "stdout",
     "output_type": "stream",
     "text": [
      "Epoch: 2 | train_loss: 0.0013 | train MAE: 0.0189 | test_loss: 0.0039 | test MAE: 0.0405\n"
     ]
    },
    {
     "name": "stderr",
     "output_type": "stream",
     "text": [
      " 30%|███       | 3/10 [00:14<00:33,  4.85s/it]"
     ]
    },
    {
     "name": "stdout",
     "output_type": "stream",
     "text": [
      "Epoch: 3 | train_loss: 0.0013 | train MAE: 0.0188 | test_loss: 0.0041 | test MAE: 0.0413\n"
     ]
    },
    {
     "name": "stderr",
     "output_type": "stream",
     "text": [
      " 40%|████      | 4/10 [00:19<00:28,  4.78s/it]"
     ]
    },
    {
     "name": "stdout",
     "output_type": "stream",
     "text": [
      "Epoch: 4 | train_loss: 0.0013 | train MAE: 0.0187 | test_loss: 0.0039 | test MAE: 0.0404\n"
     ]
    },
    {
     "name": "stderr",
     "output_type": "stream",
     "text": [
      " 50%|█████     | 5/10 [00:23<00:23,  4.70s/it]"
     ]
    },
    {
     "name": "stdout",
     "output_type": "stream",
     "text": [
      "Epoch: 5 | train_loss: 0.0013 | train MAE: 0.0186 | test_loss: 0.0040 | test MAE: 0.0411\n"
     ]
    },
    {
     "name": "stderr",
     "output_type": "stream",
     "text": [
      " 60%|██████    | 6/10 [00:28<00:18,  4.65s/it]"
     ]
    },
    {
     "name": "stdout",
     "output_type": "stream",
     "text": [
      "Epoch: 6 | train_loss: 0.0013 | train MAE: 0.0186 | test_loss: 0.0039 | test MAE: 0.0410\n"
     ]
    },
    {
     "name": "stderr",
     "output_type": "stream",
     "text": [
      " 70%|███████   | 7/10 [00:33<00:14,  4.69s/it]"
     ]
    },
    {
     "name": "stdout",
     "output_type": "stream",
     "text": [
      "Epoch: 7 | train_loss: 0.0013 | train MAE: 0.0187 | test_loss: 0.0039 | test MAE: 0.0407\n"
     ]
    },
    {
     "name": "stderr",
     "output_type": "stream",
     "text": [
      " 80%|████████  | 8/10 [00:37<00:09,  4.69s/it]"
     ]
    },
    {
     "name": "stdout",
     "output_type": "stream",
     "text": [
      "Epoch: 8 | train_loss: 0.0013 | train MAE: 0.0187 | test_loss: 0.0039 | test MAE: 0.0409\n"
     ]
    },
    {
     "name": "stderr",
     "output_type": "stream",
     "text": [
      " 90%|█████████ | 9/10 [00:42<00:04,  4.70s/it]"
     ]
    },
    {
     "name": "stdout",
     "output_type": "stream",
     "text": [
      "Epoch: 9 | train_loss: 0.0013 | train MAE: 0.0185 | test_loss: 0.0040 | test MAE: 0.0409\n"
     ]
    },
    {
     "name": "stderr",
     "output_type": "stream",
     "text": [
      "100%|██████████| 10/10 [00:46<00:00,  4.69s/it]"
     ]
    },
    {
     "name": "stdout",
     "output_type": "stream",
     "text": [
      "Epoch: 10 | train_loss: 0.0013 | train MAE: 0.0184 | test_loss: 0.0039 | test MAE: 0.0408\n"
     ]
    },
    {
     "name": "stderr",
     "output_type": "stream",
     "text": [
      "\n"
     ]
    },
    {
     "data": {
      "text/plain": [
       "{'train_loss': [0.0012959080186576786,\n",
       "  0.0012913495030596259,\n",
       "  0.0012842619621422093,\n",
       "  0.0012751043040463725,\n",
       "  0.0012683708413977778,\n",
       "  0.0012597397274396957,\n",
       "  0.0012706524349211103,\n",
       "  0.0012713745875965207,\n",
       "  0.0012625885055136058,\n",
       "  0.0012597196606897437],\n",
       " 'train_acc': [0.018941460914629227,\n",
       "  0.01888791363071407,\n",
       "  0.01883804332107008,\n",
       "  0.018713966540657243,\n",
       "  0.018631688528354184,\n",
       "  0.01855055685548812,\n",
       "  0.0186941227374554,\n",
       "  0.01869422459916185,\n",
       "  0.01848560854020191,\n",
       "  0.018440153311972407],\n",
       " 'test_loss': [0.0041400417927686586,\n",
       "  0.003907781361664278,\n",
       "  0.004052128362593438,\n",
       "  0.003867141137249686,\n",
       "  0.003970383292460903,\n",
       "  0.003930654719193214,\n",
       "  0.003869569924342222,\n",
       "  0.003883062657495675,\n",
       "  0.003960793149609961,\n",
       "  0.003930460548845807],\n",
       " 'test_acc': [0.042358320580292354,\n",
       "  0.04052824805742198,\n",
       "  0.0413093467712076,\n",
       "  0.04043555821897122,\n",
       "  0.041062354633625404,\n",
       "  0.04104523750932983,\n",
       "  0.040731220077859225,\n",
       "  0.0408719972482998,\n",
       "  0.0409393318160607,\n",
       "  0.04081637457856079]}"
      ]
     },
     "execution_count": 30,
     "metadata": {},
     "output_type": "execute_result"
    }
   ],
   "source": [
    "# # from helper_functions.engine import train\n",
    "\n",
    "learning_rate = 0.001\n",
    "num_epochs = 10\n",
    "loss_function = nn.MSELoss()\n",
    "optimizer = torch.optim.Adam(model.parameters(), lr=learning_rate)\n",
    "\n",
    "# Start training with help from engine.py\n",
    "train(model=model,\n",
    "             train_dataloader=train_loader,\n",
    "             test_dataloader=test_loader,\n",
    "             loss_fn=loss_function,\n",
    "             optimizer=optimizer,\n",
    "             epochs=10,\n",
    "             device=device)"
   ]
  },
  {
   "cell_type": "code",
   "execution_count": null,
   "metadata": {},
   "outputs": [],
   "source": [
    "# Epoch: 10 | train_loss: 0.0013 | train_acc: 0.0187 | test_loss: 0.0040 | test_acc: 0.0420"
   ]
  },
  {
   "cell_type": "code",
   "execution_count": 31,
   "metadata": {},
   "outputs": [
    {
     "data": {
      "text/plain": [
       "array([ 2.29299996e+02,  2.18650005e+02,  1.72899996e+02, ...,\n",
       "        2.39000630e+00,  1.29993956e-01, -4.39000135e+00])"
      ]
     },
     "execution_count": 31,
     "metadata": {},
     "output_type": "execute_result"
    }
   ],
   "source": [
    "test_predictions = model(X_test.to(device)).detach().cpu().numpy().flatten()\n",
    "\n",
    "dummies = np.zeros((X_test.shape[0], lookback+3))\n",
    "dummies[:, 0] = test_predictions\n",
    "dummies = scaler.inverse_transform(dummies)\n",
    "\n",
    "test_predictions = dc(dummies[:,0])\n",
    "test_predictions\n",
    "\n",
    "dummies = np.zeros((X_test.shape[0], lookback+3))\n",
    "dummies[:, 0] = y_test.flatten()\n",
    "dummies = scaler.inverse_transform(dummies)\n",
    "\n",
    "new_y_test = dc(dummies[:, 0])\n",
    "new_y_test"
   ]
  },
  {
   "cell_type": "code",
   "execution_count": 32,
   "metadata": {},
   "outputs": [
    {
     "data": {
      "text/plain": [
       "20.135833019346432"
      ]
     },
     "execution_count": 32,
     "metadata": {},
     "output_type": "execute_result"
    }
   ],
   "source": [
    "mae(new_y_test, test_predictions)"
   ]
  }
 ],
 "metadata": {
  "kernelspec": {
   "display_name": "base",
   "language": "python",
   "name": "python3"
  },
  "language_info": {
   "codemirror_mode": {
    "name": "ipython",
    "version": 3
   },
   "file_extension": ".py",
   "mimetype": "text/x-python",
   "name": "python",
   "nbconvert_exporter": "python",
   "pygments_lexer": "ipython3",
   "version": "3.9.17"
  }
 },
 "nbformat": 4,
 "nbformat_minor": 2
}
