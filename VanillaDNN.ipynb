{
 "cells": [
  {
   "cell_type": "code",
   "execution_count": 41,
   "metadata": {},
   "outputs": [],
   "source": [
    "import pandas as pd\n",
    "import matplotlib.pyplot as plt\n",
    "import numpy as np\n",
    "from torch import nn\n",
    "from copy import deepcopy as dc\n",
    "from torch.utils.data import DataLoader\n",
    "import torch\n",
    "import tqdm\n",
    "\n",
    "from helper_functions.model_builder import LSTM, VanillaDNN\n",
    "from helper_functions.data_setup import TimeseriesDataset\n",
    "from helper_functions.engine import train\n",
    "from torchinfo import summary\n",
    "\n",
    "import warnings\n",
    "warnings.filterwarnings(\"ignore\")"
   ]
  },
  {
   "cell_type": "code",
   "execution_count": 42,
   "metadata": {},
   "outputs": [
    {
     "data": {
      "text/plain": [
       "(                  Date  Price  FR Generation  FR Load\n",
       " 0  2018-01-01 00:00:00   4.74        53625.0  56250.0\n",
       " 1  2018-01-01 01:00:00   3.66        52398.0  54300.0\n",
       " 2  2018-01-01 02:00:00   1.26        51825.0  53600.0\n",
       " 3  2018-01-01 03:00:00 -20.10        50729.0  50000.0\n",
       " 4  2018-01-01 04:00:00 -31.82        50719.0  47100.0,\n",
       " (43824, 4))"
      ]
     },
     "execution_count": 42,
     "metadata": {},
     "output_type": "execute_result"
    }
   ],
   "source": [
    "df = pd.read_csv(\"Datasets/Dataframes_one_ex_var/ModelBenchmark_dataframe.csv\")\n",
    "df.head(), df.shape"
   ]
  },
  {
   "cell_type": "markdown",
   "metadata": {},
   "source": [
    "### Data Prep \n",
    "- Set Date as index\n",
    "- Add dummies for weekdays\n",
    "- Add lagged variables for price + exogenous variables\n",
    "\n",
    "#### DATA LEAKAGE PROBLEM\n",
    "#### How to do proper validation / test / train split"
   ]
  },
  {
   "cell_type": "code",
   "execution_count": 43,
   "metadata": {},
   "outputs": [],
   "source": [
    "# Set Date as index\n",
    "df.Date = pd.to_datetime(df.Date)\n",
    "df.set_index(\"Date\", inplace=True)"
   ]
  },
  {
   "cell_type": "code",
   "execution_count": 47,
   "metadata": {},
   "outputs": [
    {
     "data": {
      "text/html": [
       "<div>\n",
       "<style scoped>\n",
       "    .dataframe tbody tr th:only-of-type {\n",
       "        vertical-align: middle;\n",
       "    }\n",
       "\n",
       "    .dataframe tbody tr th {\n",
       "        vertical-align: top;\n",
       "    }\n",
       "\n",
       "    .dataframe thead th {\n",
       "        text-align: right;\n",
       "    }\n",
       "</style>\n",
       "<table border=\"1\" class=\"dataframe\">\n",
       "  <thead>\n",
       "    <tr style=\"text-align: right;\">\n",
       "      <th></th>\n",
       "      <th>Price</th>\n",
       "      <th>FR Generation</th>\n",
       "      <th>FR Load</th>\n",
       "      <th>Monday</th>\n",
       "      <th>Tuesday</th>\n",
       "      <th>Wednesday</th>\n",
       "      <th>Thursday</th>\n",
       "      <th>Friday</th>\n",
       "      <th>Saturday</th>\n",
       "      <th>Sunday</th>\n",
       "      <th>...</th>\n",
       "      <th>FR Load(t-158)</th>\n",
       "      <th>FR Load(t-159)</th>\n",
       "      <th>FR Load(t-160)</th>\n",
       "      <th>FR Load(t-161)</th>\n",
       "      <th>FR Load(t-162)</th>\n",
       "      <th>FR Load(t-163)</th>\n",
       "      <th>FR Load(t-164)</th>\n",
       "      <th>FR Load(t-165)</th>\n",
       "      <th>FR Load(t-166)</th>\n",
       "      <th>FR Load(t-167)</th>\n",
       "    </tr>\n",
       "    <tr>\n",
       "      <th>Date</th>\n",
       "      <th></th>\n",
       "      <th></th>\n",
       "      <th></th>\n",
       "      <th></th>\n",
       "      <th></th>\n",
       "      <th></th>\n",
       "      <th></th>\n",
       "      <th></th>\n",
       "      <th></th>\n",
       "      <th></th>\n",
       "      <th></th>\n",
       "      <th></th>\n",
       "      <th></th>\n",
       "      <th></th>\n",
       "      <th></th>\n",
       "      <th></th>\n",
       "      <th></th>\n",
       "      <th></th>\n",
       "      <th></th>\n",
       "      <th></th>\n",
       "      <th></th>\n",
       "    </tr>\n",
       "  </thead>\n",
       "  <tbody>\n",
       "    <tr>\n",
       "      <th>2018-01-07 23:00:00</th>\n",
       "      <td>18.91</td>\n",
       "      <td>72256.0</td>\n",
       "      <td>63350.0</td>\n",
       "      <td>0</td>\n",
       "      <td>0</td>\n",
       "      <td>0</td>\n",
       "      <td>0</td>\n",
       "      <td>0</td>\n",
       "      <td>0</td>\n",
       "      <td>1</td>\n",
       "      <td>...</td>\n",
       "      <td>46950.0</td>\n",
       "      <td>46400.0</td>\n",
       "      <td>46000.0</td>\n",
       "      <td>45850.0</td>\n",
       "      <td>45850.0</td>\n",
       "      <td>47100.0</td>\n",
       "      <td>50000.0</td>\n",
       "      <td>53600.0</td>\n",
       "      <td>54300.0</td>\n",
       "      <td>56250.0</td>\n",
       "    </tr>\n",
       "    <tr>\n",
       "      <th>2018-01-08 00:00:00</th>\n",
       "      <td>15.15</td>\n",
       "      <td>71126.0</td>\n",
       "      <td>59650.0</td>\n",
       "      <td>1</td>\n",
       "      <td>0</td>\n",
       "      <td>0</td>\n",
       "      <td>0</td>\n",
       "      <td>0</td>\n",
       "      <td>0</td>\n",
       "      <td>0</td>\n",
       "      <td>...</td>\n",
       "      <td>49100.0</td>\n",
       "      <td>46950.0</td>\n",
       "      <td>46400.0</td>\n",
       "      <td>46000.0</td>\n",
       "      <td>45850.0</td>\n",
       "      <td>45850.0</td>\n",
       "      <td>47100.0</td>\n",
       "      <td>50000.0</td>\n",
       "      <td>53600.0</td>\n",
       "      <td>54300.0</td>\n",
       "    </tr>\n",
       "    <tr>\n",
       "      <th>2018-01-08 01:00:00</th>\n",
       "      <td>15.11</td>\n",
       "      <td>70217.0</td>\n",
       "      <td>57050.0</td>\n",
       "      <td>1</td>\n",
       "      <td>0</td>\n",
       "      <td>0</td>\n",
       "      <td>0</td>\n",
       "      <td>0</td>\n",
       "      <td>0</td>\n",
       "      <td>0</td>\n",
       "      <td>...</td>\n",
       "      <td>51500.0</td>\n",
       "      <td>49100.0</td>\n",
       "      <td>46950.0</td>\n",
       "      <td>46400.0</td>\n",
       "      <td>46000.0</td>\n",
       "      <td>45850.0</td>\n",
       "      <td>45850.0</td>\n",
       "      <td>47100.0</td>\n",
       "      <td>50000.0</td>\n",
       "      <td>53600.0</td>\n",
       "    </tr>\n",
       "    <tr>\n",
       "      <th>2018-01-08 02:00:00</th>\n",
       "      <td>13.42</td>\n",
       "      <td>70273.0</td>\n",
       "      <td>56200.0</td>\n",
       "      <td>1</td>\n",
       "      <td>0</td>\n",
       "      <td>0</td>\n",
       "      <td>0</td>\n",
       "      <td>0</td>\n",
       "      <td>0</td>\n",
       "      <td>0</td>\n",
       "      <td>...</td>\n",
       "      <td>54000.0</td>\n",
       "      <td>51500.0</td>\n",
       "      <td>49100.0</td>\n",
       "      <td>46950.0</td>\n",
       "      <td>46400.0</td>\n",
       "      <td>46000.0</td>\n",
       "      <td>45850.0</td>\n",
       "      <td>45850.0</td>\n",
       "      <td>47100.0</td>\n",
       "      <td>50000.0</td>\n",
       "    </tr>\n",
       "    <tr>\n",
       "      <th>2018-01-08 03:00:00</th>\n",
       "      <td>12.91</td>\n",
       "      <td>70608.0</td>\n",
       "      <td>53300.0</td>\n",
       "      <td>1</td>\n",
       "      <td>0</td>\n",
       "      <td>0</td>\n",
       "      <td>0</td>\n",
       "      <td>0</td>\n",
       "      <td>0</td>\n",
       "      <td>0</td>\n",
       "      <td>...</td>\n",
       "      <td>55100.0</td>\n",
       "      <td>54000.0</td>\n",
       "      <td>51500.0</td>\n",
       "      <td>49100.0</td>\n",
       "      <td>46950.0</td>\n",
       "      <td>46400.0</td>\n",
       "      <td>46000.0</td>\n",
       "      <td>45850.0</td>\n",
       "      <td>45850.0</td>\n",
       "      <td>47100.0</td>\n",
       "    </tr>\n",
       "  </tbody>\n",
       "</table>\n",
       "<p>5 rows × 199 columns</p>\n",
       "</div>"
      ],
      "text/plain": [
       "                     Price  FR Generation  FR Load  Monday  Tuesday  \\\n",
       "Date                                                                  \n",
       "2018-01-07 23:00:00  18.91        72256.0  63350.0       0        0   \n",
       "2018-01-08 00:00:00  15.15        71126.0  59650.0       1        0   \n",
       "2018-01-08 01:00:00  15.11        70217.0  57050.0       1        0   \n",
       "2018-01-08 02:00:00  13.42        70273.0  56200.0       1        0   \n",
       "2018-01-08 03:00:00  12.91        70608.0  53300.0       1        0   \n",
       "\n",
       "                     Wednesday  Thursday  Friday  Saturday  Sunday  ...  \\\n",
       "Date                                                                ...   \n",
       "2018-01-07 23:00:00          0         0       0         0       1  ...   \n",
       "2018-01-08 00:00:00          0         0       0         0       0  ...   \n",
       "2018-01-08 01:00:00          0         0       0         0       0  ...   \n",
       "2018-01-08 02:00:00          0         0       0         0       0  ...   \n",
       "2018-01-08 03:00:00          0         0       0         0       0  ...   \n",
       "\n",
       "                     FR Load(t-158)  FR Load(t-159)  FR Load(t-160)  \\\n",
       "Date                                                                  \n",
       "2018-01-07 23:00:00         46950.0         46400.0         46000.0   \n",
       "2018-01-08 00:00:00         49100.0         46950.0         46400.0   \n",
       "2018-01-08 01:00:00         51500.0         49100.0         46950.0   \n",
       "2018-01-08 02:00:00         54000.0         51500.0         49100.0   \n",
       "2018-01-08 03:00:00         55100.0         54000.0         51500.0   \n",
       "\n",
       "                     FR Load(t-161)  FR Load(t-162)  FR Load(t-163)  \\\n",
       "Date                                                                  \n",
       "2018-01-07 23:00:00         45850.0         45850.0         47100.0   \n",
       "2018-01-08 00:00:00         46000.0         45850.0         45850.0   \n",
       "2018-01-08 01:00:00         46400.0         46000.0         45850.0   \n",
       "2018-01-08 02:00:00         46950.0         46400.0         46000.0   \n",
       "2018-01-08 03:00:00         49100.0         46950.0         46400.0   \n",
       "\n",
       "                     FR Load(t-164)  FR Load(t-165)  FR Load(t-166)  \\\n",
       "Date                                                                  \n",
       "2018-01-07 23:00:00         50000.0         53600.0         54300.0   \n",
       "2018-01-08 00:00:00         47100.0         50000.0         53600.0   \n",
       "2018-01-08 01:00:00         45850.0         47100.0         50000.0   \n",
       "2018-01-08 02:00:00         45850.0         45850.0         47100.0   \n",
       "2018-01-08 03:00:00         46000.0         45850.0         45850.0   \n",
       "\n",
       "                     FR Load(t-167)  \n",
       "Date                                 \n",
       "2018-01-07 23:00:00         56250.0  \n",
       "2018-01-08 00:00:00         54300.0  \n",
       "2018-01-08 01:00:00         53600.0  \n",
       "2018-01-08 02:00:00         50000.0  \n",
       "2018-01-08 03:00:00         47100.0  \n",
       "\n",
       "[5 rows x 199 columns]"
      ]
     },
     "execution_count": 47,
     "metadata": {},
     "output_type": "execute_result"
    }
   ],
   "source": [
    "# add dummy variables for weekdays + 7 features\n",
    "names = ['Monday', 'Tuesday', 'Wednesday', 'Thursday', 'Friday', 'Saturday', 'Sunday']\n",
    "for i, x in enumerate(names):\n",
    "    df[x] = (df.index.get_level_values(0).weekday == i).astype(int)\n",
    "\n",
    "# add lagged variables for price + exogenous variables + (92 + 72*N) features\n",
    "def prepare_dataframe_laggs(df: pd.DataFrame, historical_price_laggs: list =  [1,2,3,7], historical_exo_laggs: list = [1,7]):\n",
    "    df = dc(df)\n",
    "\n",
    "    exo_var = df.columns[1:-7]\n",
    "\n",
    "    laggs = []\n",
    "    for i in historical_price_laggs:\n",
    "        new_laggs = [x for x in list(range(i, 24*i)) if x not in list(range(i-1, 24*(i-1)))]\n",
    "        laggs += new_laggs\n",
    "\n",
    "    for i in laggs:\n",
    "        df[f'Price(t-{i})'] = df[\"Price\"].shift(i)\n",
    "\n",
    "    laggs = []\n",
    "    for i in historical_exo_laggs:\n",
    "        new_laggs = [x for x in list(range(i, 24*i)) if x not in list(range(i-1, 24*(i-1)))]\n",
    "        laggs += new_laggs\n",
    "\n",
    "    for exo in exo_var:\n",
    "        for j in laggs:\n",
    "            df[f'{exo}(t-{j})'] = df[exo].shift(j)\n",
    "\n",
    "    return df\n",
    "\n",
    "lagged_df = prepare_dataframe_laggs(df, historical_price_laggs=[1,2,3,7], historical_exo_laggs=[1,7])\n",
    "lagged_df.dropna(inplace=True)\n",
    "lagged_df.head()"
   ]
  },
  {
   "cell_type": "code",
   "execution_count": 48,
   "metadata": {},
   "outputs": [
    {
     "name": "stdout",
     "output_type": "stream",
     "text": [
      "<class 'pandas.core.frame.DataFrame'>\n",
      "DatetimeIndex: 43657 entries, 2018-01-07 23:00:00 to 2022-12-31 23:00:00\n",
      "Columns: 199 entries, Price to FR Load(t-167)\n",
      "dtypes: float64(192), int32(7)\n",
      "memory usage: 65.4 MB\n"
     ]
    }
   ],
   "source": [
    "lagged_df.info()"
   ]
  },
  {
   "cell_type": "code",
   "execution_count": 5,
   "metadata": {},
   "outputs": [
    {
     "name": "stdout",
     "output_type": "stream",
     "text": [
      "Shape of input tensor (X): torch.Size([43650, 7, 17])\n",
      "Shape of target tensor (y): torch.Size([43650, 1, 1])\n"
     ]
    }
   ],
   "source": [
    "import torch\n",
    "import pandas as pd\n",
    "\n",
    "# Assuming your DataFrame is named df\n",
    "# Convert DataFrame to PyTorch tensors\n",
    "\n",
    "# Extract features and target variable\n",
    "features = lagged_df.drop(columns=['Price'])\n",
    "target = lagged_df[['Price']]\n",
    "\n",
    "# Convert to NumPy arrays\n",
    "features_array = features.to_numpy()\n",
    "target_array = target.to_numpy()\n",
    "\n",
    "# Define sequence length and input size\n",
    "sequence_length = 7  # Assuming you want to use 7 days of historical data (including lagged values)\n",
    "input_size = features.shape[1]  # Number of features\n",
    "\n",
    "# Convert to PyTorch tensors\n",
    "features_tensor = torch.FloatTensor(features_array)\n",
    "target_tensor = torch.FloatTensor(target_array)\n",
    "\n",
    "# Define a function to create sequences with lagged values\n",
    "def create_sequences(features, target, sequence_length):\n",
    "    X, y = [], []\n",
    "    for i in range(len(features) - sequence_length + 1):\n",
    "        X.append(features[i:i+sequence_length, :])\n",
    "        y.append(target[i+sequence_length-1:i+sequence_length, :])\n",
    "    return torch.stack(X), torch.stack(y)\n",
    "\n",
    "# Create sequences\n",
    "X, y = create_sequences(features_tensor, target_tensor, sequence_length)\n",
    "\n",
    "# Print the shapes of the tensors\n",
    "print(\"Shape of input tensor (X):\", X.shape)\n",
    "print(\"Shape of target tensor (y):\", y.shape)"
   ]
  },
  {
   "cell_type": "code",
   "execution_count": 6,
   "metadata": {},
   "outputs": [
    {
     "data": {
      "text/plain": [
       "43656"
      ]
     },
     "execution_count": 6,
     "metadata": {},
     "output_type": "execute_result"
    }
   ],
   "source": [
    "features.shape[0]"
   ]
  },
  {
   "cell_type": "code",
   "execution_count": 8,
   "metadata": {},
   "outputs": [
    {
     "data": {
      "text/plain": [
       "(43656, 18)"
      ]
     },
     "execution_count": 8,
     "metadata": {},
     "output_type": "execute_result"
    }
   ],
   "source": [
    "lagged_df_np = lagged_df.to_numpy()\n",
    "lagged_df_np.shape"
   ]
  },
  {
   "cell_type": "code",
   "execution_count": 6,
   "metadata": {},
   "outputs": [
    {
     "data": {
      "text/plain": [
       "array([[-0.73545843,  0.35897357, -0.07413011, ..., -0.17821296,\n",
       "        -0.01361573, -0.17700454],\n",
       "       [-0.73553954,  0.33107216, -0.15279879, ..., -0.21587526,\n",
       "        -0.11951589, -0.23600605],\n",
       "       [-0.73896645,  0.33279106, -0.1785174 , ..., -0.23346327,\n",
       "        -0.16792738, -0.25718608],\n",
       "       ...,\n",
       "       [-0.76133264, -0.45590718, -0.35249622, ..., -0.32680561,\n",
       "        -0.27987897, -0.29803328],\n",
       "       [-0.76591538, -0.43881028, -0.37670197, ..., -0.3605083 ,\n",
       "        -0.26323752, -0.33282905],\n",
       "       [-0.77508086, -0.52644341, -0.45839637, ..., -0.32708186,\n",
       "        -0.33282905, -0.42057489]])"
      ]
     },
     "execution_count": 6,
     "metadata": {},
     "output_type": "execute_result"
    }
   ],
   "source": [
    "from sklearn.preprocessing import MinMaxScaler\n",
    "# Transform features by scaling each feature to a given range. \n",
    "scaler = MinMaxScaler(feature_range=(-1,1))\n",
    "lagged_df_np = scaler.fit_transform(lagged_df_np)\n",
    "lagged_df_np"
   ]
  },
  {
   "cell_type": "code",
   "execution_count": 7,
   "metadata": {},
   "outputs": [
    {
     "data": {
      "text/plain": [
       "((26304, 17), (17352, 17), (26304,), (17352,))"
      ]
     },
     "execution_count": 7,
     "metadata": {},
     "output_type": "execute_result"
    }
   ],
   "source": [
    "X = lagged_df_np[:, 1:]\n",
    "y = lagged_df_np[:, 0]\n",
    "\n",
    "# Test set = 2021/01/01 tot 2022/12/12\n",
    "split_index = df.index.get_loc(\"2021-01-01 00:00:00\")\n",
    "\n",
    "X_train = X[:split_index]\n",
    "X_test = X[split_index:]\n",
    "\n",
    "y_train = y[:split_index]\n",
    "y_test = y[split_index:]\n",
    "\n",
    "X_train.shape, X_test.shape, y_train.shape, y_test.shape"
   ]
  },
  {
   "cell_type": "code",
   "execution_count": 8,
   "metadata": {},
   "outputs": [
    {
     "data": {
      "text/plain": [
       "((26304, 17, 1), (17352, 17, 1), (26304, 1), (17352, 1))"
      ]
     },
     "execution_count": 8,
     "metadata": {},
     "output_type": "execute_result"
    }
   ],
   "source": [
    "X_train = X_train.reshape((-1, 17, 1))\n",
    "X_test = X_test.reshape((-1, 17, 1))\n",
    "\n",
    "y_train = y_train.reshape((-1, 1))\n",
    "y_test = y_test.reshape((-1, 1))\n",
    "\n",
    "X_train.shape, X_test.shape, y_train.shape, y_test.shape"
   ]
  },
  {
   "cell_type": "code",
   "execution_count": 9,
   "metadata": {},
   "outputs": [
    {
     "data": {
      "text/plain": [
       "(torch.Size([26304, 17, 1]),\n",
       " torch.Size([17352, 17, 1]),\n",
       " torch.Size([26304, 1]),\n",
       " torch.Size([17352, 1]))"
      ]
     },
     "execution_count": 9,
     "metadata": {},
     "output_type": "execute_result"
    }
   ],
   "source": [
    "X_train = torch.tensor(X_train).float()\n",
    "X_test = torch.tensor(X_test).float()\n",
    "y_train = torch.tensor(y_train).float()\n",
    "y_test = torch.tensor(y_test).float()\n",
    "\n",
    "X_train.shape, X_test.shape, y_train.shape, y_test.shape"
   ]
  },
  {
   "cell_type": "code",
   "execution_count": 10,
   "metadata": {},
   "outputs": [],
   "source": [
    "train_dataset = TimeseriesDataset(X_train, y_train)\n",
    "test_dataset = TimeseriesDataset(X_test, y_test)\n",
    "\n",
    "batch_size = 16\n",
    "train_loader = DataLoader(train_dataset, batch_size=batch_size, shuffle=True)\n",
    "test_loader = DataLoader(test_dataset, batch_size=batch_size, shuffle=False)"
   ]
  },
  {
   "cell_type": "code",
   "execution_count": 11,
   "metadata": {},
   "outputs": [],
   "source": [
    "device = torch.device(\"cuda\" if torch.cuda.is_available() else \"cpu\")"
   ]
  },
  {
   "cell_type": "code",
   "execution_count": 12,
   "metadata": {},
   "outputs": [
    {
     "name": "stdout",
     "output_type": "stream",
     "text": [
      "torch.Size([16, 17, 1]) torch.Size([16, 1])\n"
     ]
    }
   ],
   "source": [
    "for _, batch in enumerate(train_loader):\n",
    "    x_batch, y_batch = batch[0].to(device), batch[1].to(device)\n",
    "    print(x_batch.shape, y_batch.shape)\n",
    "    break"
   ]
  },
  {
   "cell_type": "code",
   "execution_count": 13,
   "metadata": {},
   "outputs": [],
   "source": [
    "\"\"\"\n",
    "Contains PyTorch model code to instantiate a a series of different models.\n",
    "\"\"\"\n",
    "import torch\n",
    "from torch import nn \n",
    "import torch.nn.functional as F\n",
    "\n",
    "device = torch.device(\"cuda\" if torch.cuda.is_available() else \"cpu\")\n",
    "\n",
    "class VanillaDNN(nn.Module):\n",
    "  \"\"\"Creates a Vanilla Deep Neural Network architecture.\n",
    "\n",
    "  Args:\n",
    "    input_shape: An integer indicating number of input channels.\n",
    "    hidden_units: An integer indicating number of hidden units between layers.\n",
    "    output_shape: An integer indicating number of output units.\n",
    "  \"\"\"\n",
    "  def __init__(self, input_shape: int, hidden_units1: int = 239, hidden_units2: int = 162, output_shape: int = 1) -> None:\n",
    "      super().__init__()\n",
    "      self.layer_stack = nn.Sequential(\n",
    "       nn.Linear(in_features=input_shape, out_features=hidden_units1),\n",
    "       nn.ReLU(),\n",
    "       nn.Linear(in_features=hidden_units1, out_features=hidden_units2),\n",
    "       nn.ReLU(),\n",
    "       nn.Linear(in_features=hidden_units2, out_features=hidden_units2)\n",
    "      #  nn.Linear(in_features=hidden_units, out_features=1)\n",
    "      )\n",
    "      self.fc = nn.Linear(hidden_units2, 1)\n",
    "\n",
    "  def forward(self, x: torch.Tensor):\n",
    "      # x = x.view(x.size(0), -1)\n",
    "      output = self.layer_stack(x)\n",
    "      output = F.relu(output)\n",
    "      output = self.fc(output[:, -1, :])\n",
    "      # output = output.view(-1, 1)\n",
    "      return output"
   ]
  },
  {
   "cell_type": "code",
   "execution_count": 14,
   "metadata": {},
   "outputs": [
    {
     "data": {
      "text/plain": [
       "VanillaDNN(\n",
       "  (layer_stack): Sequential(\n",
       "    (0): Linear(in_features=1, out_features=239, bias=True)\n",
       "    (1): ReLU()\n",
       "    (2): Linear(in_features=239, out_features=162, bias=True)\n",
       "    (3): ReLU()\n",
       "    (4): Linear(in_features=162, out_features=162, bias=True)\n",
       "  )\n",
       "  (fc): Linear(in_features=162, out_features=1, bias=True)\n",
       ")"
      ]
     },
     "execution_count": 14,
     "metadata": {},
     "output_type": "execute_result"
    }
   ],
   "source": [
    "model = VanillaDNN(1, 239, 162, 1)\n",
    "model.to(device)\n",
    "model"
   ]
  },
  {
   "cell_type": "code",
   "execution_count": 15,
   "metadata": {},
   "outputs": [
    {
     "data": {
      "text/plain": [
       "========================================================================================================================\n",
       "Layer (type (var_name))                  Input Shape          Output Shape         Param #              Trainable\n",
       "========================================================================================================================\n",
       "VanillaDNN (VanillaDNN)                  [16, 17, 1]          [16, 1]              --                   True\n",
       "├─Sequential (layer_stack)               [16, 17, 1]          [16, 17, 162]        --                   True\n",
       "│    └─Linear (0)                        [16, 17, 1]          [16, 17, 239]        478                  True\n",
       "│    └─ReLU (1)                          [16, 17, 239]        [16, 17, 239]        --                   --\n",
       "│    └─Linear (2)                        [16, 17, 239]        [16, 17, 162]        38,880               True\n",
       "│    └─ReLU (3)                          [16, 17, 162]        [16, 17, 162]        --                   --\n",
       "│    └─Linear (4)                        [16, 17, 162]        [16, 17, 162]        26,406               True\n",
       "├─Linear (fc)                            [16, 162]            [16, 1]              163                  True\n",
       "========================================================================================================================\n",
       "Total params: 65,927\n",
       "Trainable params: 65,927\n",
       "Non-trainable params: 0\n",
       "Total mult-adds (M): 1.05\n",
       "========================================================================================================================\n",
       "Input size (MB): 0.00\n",
       "Forward/backward pass size (MB): 1.23\n",
       "Params size (MB): 0.26\n",
       "Estimated Total Size (MB): 1.49\n",
       "========================================================================================================================"
      ]
     },
     "execution_count": 15,
     "metadata": {},
     "output_type": "execute_result"
    }
   ],
   "source": [
    "# Print a summary using torchinfo (uncomment for actual output)\n",
    "summary(model=model, \n",
    "        input_size=(16, 17, 1), # make sure this is \"input_size\", not \"input_shape\"\n",
    "        # col_names=[\"input_size\"], # uncomment for smaller output\n",
    "        col_names=[\"input_size\", \"output_size\", \"num_params\", \"trainable\"],\n",
    "        col_width=20,\n",
    "        row_settings=[\"var_names\"]\n",
    ")"
   ]
  },
  {
   "cell_type": "code",
   "execution_count": 16,
   "metadata": {},
   "outputs": [],
   "source": [
    "\"\"\"\n",
    "Contains functions for training and testing a PyTorch model.\n",
    "\"\"\"\n",
    "import torch\n",
    "\n",
    "from tqdm.auto import tqdm\n",
    "from typing import Dict, List, Tuple\n",
    "from sklearn.metrics import mean_absolute_error as mae\n",
    "\n",
    "def train_step(model: torch.nn.Module, \n",
    "               dataloader: torch.utils.data.DataLoader, \n",
    "               loss_fn: torch.nn.Module, \n",
    "               optimizer: torch.optim.Optimizer,\n",
    "               device: torch.device) -> Tuple[float, float]:\n",
    "  \"\"\"Trains a PyTorch model for a single epoch.\n",
    "\n",
    "  Turns a target PyTorch model to training mode and then\n",
    "  runs through all of the required training steps (forward\n",
    "  pass, loss calculation, optimizer step).\n",
    "\n",
    "  Args:\n",
    "    model: A PyTorch model to be trained.\n",
    "    dataloader: A DataLoader instance for the model to be trained on.\n",
    "    loss_fn: A PyTorch loss function to minimize.\n",
    "    optimizer: A PyTorch optimizer to help minimize the loss function.\n",
    "    device: A target device to compute on (e.g. \"cuda\" or \"cpu\").\n",
    "\n",
    "  Returns:\n",
    "    A tuple of training loss and training accuracy metrics.\n",
    "    In the form (train_loss, train_accuracy). For example:\n",
    "\n",
    "    (0.1112, 0.8743)\n",
    "  \"\"\"\n",
    "  # Put model in train mode\n",
    "  model.train()\n",
    "\n",
    "  # Setup train loss and train accuracy values\n",
    "  train_loss, train_acc = 0, 0\n",
    "\n",
    "  # Loop through data loader data batches\n",
    "  for batch, (X, y) in enumerate(dataloader):\n",
    "      # Send data to target device\n",
    "      X, y = X.to(device), y.to(device)\n",
    "\n",
    "      # 1. Forward pass\n",
    "      y_pred = model(X)\n",
    "\n",
    "      # 2. Calculate  and accumulate loss\n",
    "\n",
    "      loss = loss_fn(y_pred, y)\n",
    "      train_loss += loss.item() \n",
    "\n",
    "      # 3. Optimizer zero grad\n",
    "      optimizer.zero_grad()\n",
    "\n",
    "      # 4. Loss backward\n",
    "      loss.backward()\n",
    "\n",
    "      # 5. Optimizer step\n",
    "      optimizer.step()\n",
    "\n",
    "      # Calculate and accumulate accuracy metric across all batches\n",
    "      # avg_loss_accross_batches = train_loss / 100\n",
    "      train_acc += mae(y_pred.detach(), y)\n",
    "      # y_pred_class = torch.argmax(torch.softmax(y_pred, dim=1), dim=1)\n",
    "      # train_acc += (y_pred_class == y).sum().item()/len(y_pred)\n",
    "\n",
    "  # Adjust metrics to get average loss and accuracy per batch \n",
    "  train_loss = train_loss / len(dataloader)\n",
    "  train_acc = train_acc / len(dataloader)\n",
    "  return train_loss, train_acc\n",
    "\n",
    "def test_step(model: torch.nn.Module, \n",
    "              dataloader: torch.utils.data.DataLoader, \n",
    "              loss_fn: torch.nn.Module,\n",
    "              device: torch.device) -> Tuple[float, float]:\n",
    "  \"\"\"Tests a PyTorch model for a single epoch.\n",
    "\n",
    "  Turns a target PyTorch model to \"eval\" mode and then performs\n",
    "  a forward pass on a testing dataset.\n",
    "\n",
    "  Args:\n",
    "    model: A PyTorch model to be tested.\n",
    "    dataloader: A DataLoader instance for the model to be tested on.\n",
    "    loss_fn: A PyTorch loss function to calculate loss on the test data.\n",
    "    device: A target device to compute on (e.g. \"cuda\" or \"cpu\").\n",
    "\n",
    "  Returns:\n",
    "    A tuple of testing loss and testing accuracy metrics.\n",
    "    In the form (test_loss, test_accuracy). For example:\n",
    "\n",
    "    (0.0223, 0.8985)\n",
    "  \"\"\"\n",
    "  # Put model in eval mode\n",
    "  model.eval() \n",
    "\n",
    "  # Setup test loss and test accuracy values\n",
    "  test_loss, test_acc = 0, 0\n",
    "\n",
    "  # Turn on inference context manager\n",
    "  with torch.inference_mode():\n",
    "      # Loop through DataLoader batches\n",
    "      for batch, (X, y) in enumerate(dataloader):\n",
    "          # Send data to target device\n",
    "          X, y = X.to(device), y.to(device)\n",
    "\n",
    "          # 1. Forward pass\n",
    "          test_pred = model(X)\n",
    "\n",
    "          # 2. Calculate and accumulate loss\n",
    "          loss = loss_fn(test_pred, y.view(1, -1))\n",
    "          test_loss += loss.item()          \n",
    "          \n",
    "          # Calculate and accumulate accuracy\n",
    "          test_acc += mae(test_pred.detach(), y)\n",
    "          # test_pred_labels = test_pred_logits.argmax(dim=1)\n",
    "          # test_acc += ((test_pred_labels == y).sum().item()/len(test_pred_labels))\n",
    "\n",
    "  # Adjust metrics to get average loss and accuracy per batch \n",
    "  test_loss = test_loss / len(dataloader)\n",
    "  test_acc = test_acc / len(dataloader)\n",
    "  return test_loss, test_acc\n",
    "\n",
    "def train(model: torch.nn.Module, \n",
    "          train_dataloader: torch.utils.data.DataLoader, \n",
    "          test_dataloader: torch.utils.data.DataLoader, \n",
    "          optimizer: torch.optim.Optimizer,\n",
    "          loss_fn: torch.nn.Module,\n",
    "          epochs: int,\n",
    "          device: torch.device) -> Dict[str, List]:\n",
    "  \"\"\"Trains and tests a PyTorch model.\n",
    "\n",
    "  Passes a target PyTorch models through train_step() and test_step()\n",
    "  functions for a number of epochs, training and testing the model\n",
    "  in the same epoch loop.\n",
    "\n",
    "  Calculates, prints and stores evaluation metrics throughout.\n",
    "\n",
    "  Args:\n",
    "    model: A PyTorch model to be trained and tested.\n",
    "    train_dataloader: A DataLoader instance for the model to be trained on.\n",
    "    test_dataloader: A DataLoader instance for the model to be tested on.\n",
    "    optimizer: A PyTorch optimizer to help minimize the loss function.\n",
    "    loss_fn: A PyTorch loss function to calculate loss on both datasets.\n",
    "    epochs: An integer indicating how many epochs to train for.\n",
    "    device: A target device to compute on (e.g. \"cuda\" or \"cpu\").\n",
    "\n",
    "  Returns:\n",
    "    A dictionary of training and testing loss as well as training and\n",
    "    testing accuracy metrics. Each metric has a value in a list for \n",
    "    each epoch.\n",
    "    In the form: {train_loss: [...],\n",
    "                  train_acc: [...],\n",
    "                  test_loss: [...],\n",
    "                  test_acc: [...]} \n",
    "    For example if training for epochs=2: \n",
    "                 {train_loss: [2.0616, 1.0537],\n",
    "                  train_acc: [0.3945, 0.3945],\n",
    "                  test_loss: [1.2641, 1.5706],\n",
    "                  test_acc: [0.3400, 0.2973]} \n",
    "  \"\"\"\n",
    "  # Create empty results dictionary\n",
    "  results = {\"train_loss\": [],\n",
    "      \"train_acc\": [],\n",
    "      \"test_loss\": [],\n",
    "      \"test_acc\": []\n",
    "  }\n",
    "\n",
    "  # Loop through training and testing steps for a number of epochs\n",
    "  for epoch in tqdm(range(epochs)):\n",
    "      train_loss, train_acc = train_step(model=model,\n",
    "                                          dataloader=train_dataloader,\n",
    "                                          loss_fn=loss_fn,\n",
    "                                          optimizer=optimizer,\n",
    "                                          device=device)\n",
    "      test_loss, test_acc = test_step(model=model,\n",
    "          dataloader=test_dataloader,\n",
    "          loss_fn=loss_fn,\n",
    "          device=device)\n",
    "\n",
    "      # Print out what's happening\n",
    "      print(\n",
    "          f\"Epoch: {epoch+1} | \"\n",
    "          f\"train_loss: {train_loss:.4f} | \"\n",
    "          f\"train_MAE: {train_acc:.4f} | \"\n",
    "          f\"test_loss: {test_loss:.4f} | \"\n",
    "          f\"test_MAE: {test_acc:.4f}\"\n",
    "      )\n",
    "\n",
    "      # Update results dictionary\n",
    "      results[\"train_loss\"].append(train_loss)\n",
    "      results[\"train_acc\"].append(train_acc)\n",
    "      results[\"test_loss\"].append(test_loss)\n",
    "      results[\"test_acc\"].append(test_acc)\n",
    "\n",
    "  # Return the filled results at the end of the epochs\n",
    "  return results"
   ]
  },
  {
   "cell_type": "code",
   "execution_count": 17,
   "metadata": {},
   "outputs": [
    {
     "name": "stderr",
     "output_type": "stream",
     "text": [
      "  0%|          | 0/10 [00:00<?, ?it/s]"
     ]
    },
    {
     "name": "stderr",
     "output_type": "stream",
     "text": [
      " 10%|█         | 1/10 [00:07<01:11,  7.90s/it]"
     ]
    },
    {
     "name": "stdout",
     "output_type": "stream",
     "text": [
      "Epoch: 1 | train_loss: 0.0037 | train_MAE: 0.0365 | test_loss: 0.1583 | test_MAE: 0.3005\n"
     ]
    },
    {
     "name": "stderr",
     "output_type": "stream",
     "text": [
      " 20%|██        | 2/10 [00:16<01:05,  8.16s/it]"
     ]
    },
    {
     "name": "stdout",
     "output_type": "stream",
     "text": [
      "Epoch: 2 | train_loss: 0.0019 | train_MAE: 0.0307 | test_loss: 0.1470 | test_MAE: 0.2834\n"
     ]
    },
    {
     "name": "stderr",
     "output_type": "stream",
     "text": [
      " 30%|███       | 3/10 [00:24<00:58,  8.33s/it]"
     ]
    },
    {
     "name": "stdout",
     "output_type": "stream",
     "text": [
      "Epoch: 3 | train_loss: 0.0018 | train_MAE: 0.0297 | test_loss: 0.1422 | test_MAE: 0.2762\n"
     ]
    },
    {
     "name": "stderr",
     "output_type": "stream",
     "text": [
      " 40%|████      | 4/10 [00:33<00:50,  8.45s/it]"
     ]
    },
    {
     "name": "stdout",
     "output_type": "stream",
     "text": [
      "Epoch: 4 | train_loss: 0.0018 | train_MAE: 0.0297 | test_loss: 0.1469 | test_MAE: 0.2834\n"
     ]
    },
    {
     "name": "stderr",
     "output_type": "stream",
     "text": [
      " 50%|█████     | 5/10 [00:42<00:42,  8.55s/it]"
     ]
    },
    {
     "name": "stdout",
     "output_type": "stream",
     "text": [
      "Epoch: 5 | train_loss: 0.0017 | train_MAE: 0.0294 | test_loss: 0.1483 | test_MAE: 0.2854\n"
     ]
    },
    {
     "name": "stderr",
     "output_type": "stream",
     "text": [
      " 60%|██████    | 6/10 [00:50<00:34,  8.60s/it]"
     ]
    },
    {
     "name": "stdout",
     "output_type": "stream",
     "text": [
      "Epoch: 6 | train_loss: 0.0018 | train_MAE: 0.0296 | test_loss: 0.1474 | test_MAE: 0.2841\n"
     ]
    },
    {
     "name": "stderr",
     "output_type": "stream",
     "text": [
      " 70%|███████   | 7/10 [00:59<00:25,  8.58s/it]"
     ]
    },
    {
     "name": "stdout",
     "output_type": "stream",
     "text": [
      "Epoch: 7 | train_loss: 0.0018 | train_MAE: 0.0297 | test_loss: 0.1439 | test_MAE: 0.2787\n"
     ]
    },
    {
     "name": "stderr",
     "output_type": "stream",
     "text": [
      " 80%|████████  | 8/10 [01:07<00:17,  8.56s/it]"
     ]
    },
    {
     "name": "stdout",
     "output_type": "stream",
     "text": [
      "Epoch: 8 | train_loss: 0.0017 | train_MAE: 0.0293 | test_loss: 0.1461 | test_MAE: 0.2820\n"
     ]
    },
    {
     "name": "stderr",
     "output_type": "stream",
     "text": [
      " 90%|█████████ | 9/10 [01:16<00:08,  8.51s/it]"
     ]
    },
    {
     "name": "stdout",
     "output_type": "stream",
     "text": [
      "Epoch: 9 | train_loss: 0.0017 | train_MAE: 0.0293 | test_loss: 0.1432 | test_MAE: 0.2778\n"
     ]
    },
    {
     "name": "stderr",
     "output_type": "stream",
     "text": [
      "100%|██████████| 10/10 [01:24<00:00,  8.49s/it]"
     ]
    },
    {
     "name": "stdout",
     "output_type": "stream",
     "text": [
      "Epoch: 10 | train_loss: 0.0017 | train_MAE: 0.0294 | test_loss: 0.1495 | test_MAE: 0.2872\n"
     ]
    },
    {
     "name": "stderr",
     "output_type": "stream",
     "text": [
      "\n"
     ]
    },
    {
     "data": {
      "text/plain": [
       "{'train_loss': [0.0037086356781660173,\n",
       "  0.0018554267192677507,\n",
       "  0.0017685544264827568,\n",
       "  0.0017719641608008893,\n",
       "  0.0017378994628497843,\n",
       "  0.0017598698422618079,\n",
       "  0.001773733275400366,\n",
       "  0.0017328964027676277,\n",
       "  0.0017382176057871067,\n",
       "  0.0017437313160665873],\n",
       " 'train_acc': [0.03645140840162108,\n",
       "  0.030693150839231312,\n",
       "  0.029740724374977486,\n",
       "  0.029677670976994537,\n",
       "  0.02936443169725891,\n",
       "  0.02955563206660704,\n",
       "  0.029680479247657775,\n",
       "  0.02929568943316049,\n",
       "  0.029311650886977604,\n",
       "  0.029400500457579783],\n",
       " 'test_loss': [0.15830843911426032,\n",
       "  0.1469813251197094,\n",
       "  0.1421867574188473,\n",
       "  0.14692691638266392,\n",
       "  0.14831787279689274,\n",
       "  0.14739807579912953,\n",
       "  0.1439150770198852,\n",
       "  0.1460779525208435,\n",
       "  0.14320311366360405,\n",
       "  0.14948037613449083],\n",
       " 'test_acc': [0.30050050477553075,\n",
       "  0.28341838417033993,\n",
       "  0.2762120073463785,\n",
       "  0.2833722673287864,\n",
       "  0.2854326920746933,\n",
       "  0.2840537570966279,\n",
       "  0.2786825421802734,\n",
       "  0.2820052169023022,\n",
       "  0.27781324508484057,\n",
       "  0.2872470667525645]}"
      ]
     },
     "execution_count": 17,
     "metadata": {},
     "output_type": "execute_result"
    }
   ],
   "source": [
    "learning_rate = 0.01\n",
    "num_epochs = 10\n",
    "loss_function = nn.MSELoss()\n",
    "optimizer = torch.optim.Adam(model.parameters(), lr=learning_rate)\n",
    "\n",
    "# Start training with help from engine.py\n",
    "train(model=model,\n",
    "             train_dataloader=train_loader,\n",
    "             test_dataloader=test_loader,\n",
    "             loss_fn=loss_function,\n",
    "             optimizer=optimizer,\n",
    "             epochs=10,\n",
    "             device=device)"
   ]
  },
  {
   "cell_type": "code",
   "execution_count": 18,
   "metadata": {},
   "outputs": [
    {
     "data": {
      "image/png": "[encoded data removed]",
      "text/plain": [
       "<Figure size 640x480 with 1 Axes>"
      ]
     },
     "metadata": {},
     "output_type": "display_data"
    }
   ],
   "source": [
    "with torch.no_grad():\n",
    "    predicted = model(X_train.to(device)).to('cpu').numpy()\n",
    "\n",
    "plt.plot(y_train, label=\"Actual Price\")\n",
    "plt.plot(predicted, label='Predicted Price')\n",
    "plt.xlabel(\"Day\")\n",
    "plt.ylabel(\"Price\")\n",
    "\n",
    "plt.legend()\n",
    "plt.show()"
   ]
  },
  {
   "cell_type": "code",
   "execution_count": 72,
   "metadata": {},
   "outputs": [
    {
     "data": {
      "text/plain": [
       "array([42.34221924, 42.32602296, 43.40744031, ..., 42.10062725,\n",
       "       41.38957844, 39.596495  ])"
      ]
     },
     "execution_count": 72,
     "metadata": {},
     "output_type": "execute_result"
    }
   ],
   "source": [
    "test_predictions = model(X_test.to(device)).detach().cpu().numpy().flatten()\n",
    "\n",
    "dummies = np.zeros((X_test.shape[0], 18))\n",
    "dummies[:, 0] = test_predictions\n",
    "dummies = scaler.inverse_transform(dummies)\n",
    "\n",
    "test_predictions = dc(dummies[:,0])\n",
    "test_predictions"
   ]
  },
  {
   "cell_type": "code",
   "execution_count": 75,
   "metadata": {},
   "outputs": [
    {
     "data": {
      "text/plain": [
       "array([43.90000108, 39.99999095, 39.99999095, ...,  2.3900063 ,\n",
       "        0.12999396, -4.39000135])"
      ]
     },
     "execution_count": 75,
     "metadata": {},
     "output_type": "execute_result"
    }
   ],
   "source": [
    "dummies = np.zeros((X_test.shape[0], 18))\n",
    "dummies[:, 0] = y_test.flatten()\n",
    "dummies = scaler.inverse_transform(dummies)\n",
    "\n",
    "new_y_test = dc(dummies[:, 0])\n",
    "new_y_test"
   ]
  },
  {
   "cell_type": "code",
   "execution_count": 83,
   "metadata": {},
   "outputs": [
    {
     "data": {
      "text/plain": [
       "array([42.2449534 , 42.2449534 , 42.2449534 , ..., 47.74410319,\n",
       "       47.74410319, 44.13647845])"
      ]
     },
     "execution_count": 83,
     "metadata": {},
     "output_type": "execute_result"
    }
   ],
   "source": [
    "train_predictions = predicted.flatten()\n",
    "\n",
    "dummies = np.zeros((X_train.shape[0], 18))\n",
    "dummies[:, 0] = train_predictions\n",
    "dummies = scaler.inverse_transform(dummies)\n",
    "\n",
    "train_predictions = dc(dummies[:, 0])\n",
    "train_predictions"
   ]
  },
  {
   "cell_type": "code",
   "execution_count": 84,
   "metadata": {},
   "outputs": [
    {
     "data": {
      "text/plain": [
       "array([15.14999616, 15.10999048, 13.41999295, ..., 53.05001465,\n",
       "       45.1499949 , 46.58999366])"
      ]
     },
     "execution_count": 84,
     "metadata": {},
     "output_type": "execute_result"
    }
   ],
   "source": [
    "dummies = np.zeros((X_train.shape[0], 18))\n",
    "dummies[:, 0] = y_train.flatten()\n",
    "dummies = scaler.inverse_transform(dummies)\n",
    "\n",
    "new_y_train = dc(dummies[:, 0])\n",
    "new_y_train"
   ]
  },
  {
   "cell_type": "code",
   "execution_count": 86,
   "metadata": {},
   "outputs": [
    {
     "data": {
      "image/png": "[encoded data removed]",
      "text/plain": [
       "<Figure size 640x480 with 1 Axes>"
      ]
     },
     "metadata": {},
     "output_type": "display_data"
    }
   ],
   "source": [
    "plt.plot(new_y_train, label=\"Actual Price\")\n",
    "plt.plot(train_predictions, label='Predicted Price')\n",
    "plt.xlabel(\"Day\")\n",
    "plt.ylabel(\"Price\")\n",
    "plt.title(\"DNN Output - Train Data Benchmark Dataset (1095 CW)\")\n",
    "plt.legend()\n",
    "plt.show()"
   ]
  },
  {
   "cell_type": "code",
   "execution_count": 76,
   "metadata": {},
   "outputs": [
    {
     "data": {
      "text/plain": [
       "139.43337320637565"
      ]
     },
     "execution_count": 76,
     "metadata": {},
     "output_type": "execute_result"
    }
   ],
   "source": [
    "mae(new_y_test, test_predictions)"
   ]
  }
 ],
 "metadata": {
  "kernelspec": {
   "display_name": "base",
   "language": "python",
   "name": "python3"
  },
  "language_info": {
   "codemirror_mode": {
    "name": "ipython",
    "version": 3
   },
   "file_extension": ".py",
   "mimetype": "text/x-python",
   "name": "python",
   "nbconvert_exporter": "python",
   "pygments_lexer": "ipython3",
   "version": "3.9.17"
  }
 },
 "nbformat": 4,
 "nbformat_minor": 2
}
