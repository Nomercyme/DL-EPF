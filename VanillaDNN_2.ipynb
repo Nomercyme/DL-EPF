{
 "cells": [
  {
   "cell_type": "code",
   "execution_count": 2,
   "metadata": {},
   "outputs": [],
   "source": [
    "import pandas as pd\n",
    "import matplotlib.pyplot as plt\n",
    "import numpy as np\n",
    "from torch import nn\n",
    "from copy import deepcopy as dc\n",
    "from torch.utils.data import DataLoader\n",
    "import torch\n",
    "import tqdm\n",
    "\n",
    "from helper_functions.model_builder import LSTM, VanillaDNN\n",
    "from helper_functions.data_setup import TimeseriesDataset\n",
    "from helper_functions.engine import train\n",
    "from torchinfo import summary\n",
    "\n",
    "import warnings\n",
    "warnings.filterwarnings(\"ignore\")"
   ]
  },
  {
   "cell_type": "code",
   "execution_count": 3,
   "metadata": {},
   "outputs": [
    {
     "data": {
      "text/plain": [
       "(                  Date  Price  FR Generation  FR Load\n",
       " 0  2018-01-01 00:00:00   4.74        53625.0  56250.0\n",
       " 1  2018-01-01 01:00:00   3.66        52398.0  54300.0\n",
       " 2  2018-01-01 02:00:00   1.26        51825.0  53600.0\n",
       " 3  2018-01-01 03:00:00 -20.10        50729.0  50000.0\n",
       " 4  2018-01-01 04:00:00 -31.82        50719.0  47100.0,\n",
       " (43824, 4))"
      ]
     },
     "execution_count": 3,
     "metadata": {},
     "output_type": "execute_result"
    }
   ],
   "source": [
    "df = pd.read_csv(\"Datasets/Dataframes_one_ex_var/ModelBenchmark_dataframe.csv\")\n",
    "df.head(), df.shape"
   ]
  },
  {
   "cell_type": "code",
   "execution_count": 4,
   "metadata": {},
   "outputs": [],
   "source": [
    "# Set Date as index\n",
    "df.Date = pd.to_datetime(df.Date)\n",
    "df.set_index(\"Date\", inplace=True)"
   ]
  },
  {
   "cell_type": "code",
   "execution_count": 5,
   "metadata": {},
   "outputs": [
    {
     "data": {
      "text/html": [
       "<div>\n",
       "<style scoped>\n",
       "    .dataframe tbody tr th:only-of-type {\n",
       "        vertical-align: middle;\n",
       "    }\n",
       "\n",
       "    .dataframe tbody tr th {\n",
       "        vertical-align: top;\n",
       "    }\n",
       "\n",
       "    .dataframe thead th {\n",
       "        text-align: right;\n",
       "    }\n",
       "</style>\n",
       "<table border=\"1\" class=\"dataframe\">\n",
       "  <thead>\n",
       "    <tr style=\"text-align: right;\">\n",
       "      <th></th>\n",
       "      <th>Price</th>\n",
       "      <th>FR Generation</th>\n",
       "      <th>FR Load</th>\n",
       "      <th>Monday</th>\n",
       "      <th>Tuesday</th>\n",
       "      <th>Wednesday</th>\n",
       "      <th>Thursday</th>\n",
       "      <th>Friday</th>\n",
       "      <th>Saturday</th>\n",
       "      <th>Sunday</th>\n",
       "      <th>...</th>\n",
       "      <th>FR Load(t-158)</th>\n",
       "      <th>FR Load(t-159)</th>\n",
       "      <th>FR Load(t-160)</th>\n",
       "      <th>FR Load(t-161)</th>\n",
       "      <th>FR Load(t-162)</th>\n",
       "      <th>FR Load(t-163)</th>\n",
       "      <th>FR Load(t-164)</th>\n",
       "      <th>FR Load(t-165)</th>\n",
       "      <th>FR Load(t-166)</th>\n",
       "      <th>FR Load(t-167)</th>\n",
       "    </tr>\n",
       "    <tr>\n",
       "      <th>Date</th>\n",
       "      <th></th>\n",
       "      <th></th>\n",
       "      <th></th>\n",
       "      <th></th>\n",
       "      <th></th>\n",
       "      <th></th>\n",
       "      <th></th>\n",
       "      <th></th>\n",
       "      <th></th>\n",
       "      <th></th>\n",
       "      <th></th>\n",
       "      <th></th>\n",
       "      <th></th>\n",
       "      <th></th>\n",
       "      <th></th>\n",
       "      <th></th>\n",
       "      <th></th>\n",
       "      <th></th>\n",
       "      <th></th>\n",
       "      <th></th>\n",
       "      <th></th>\n",
       "    </tr>\n",
       "  </thead>\n",
       "  <tbody>\n",
       "    <tr>\n",
       "      <th>2018-01-07 23:00:00</th>\n",
       "      <td>18.91</td>\n",
       "      <td>72256.0</td>\n",
       "      <td>63350.0</td>\n",
       "      <td>0</td>\n",
       "      <td>0</td>\n",
       "      <td>0</td>\n",
       "      <td>0</td>\n",
       "      <td>0</td>\n",
       "      <td>0</td>\n",
       "      <td>1</td>\n",
       "      <td>...</td>\n",
       "      <td>46950.0</td>\n",
       "      <td>46400.0</td>\n",
       "      <td>46000.0</td>\n",
       "      <td>45850.0</td>\n",
       "      <td>45850.0</td>\n",
       "      <td>47100.0</td>\n",
       "      <td>50000.0</td>\n",
       "      <td>53600.0</td>\n",
       "      <td>54300.0</td>\n",
       "      <td>56250.0</td>\n",
       "    </tr>\n",
       "    <tr>\n",
       "      <th>2018-01-08 00:00:00</th>\n",
       "      <td>15.15</td>\n",
       "      <td>71126.0</td>\n",
       "      <td>59650.0</td>\n",
       "      <td>1</td>\n",
       "      <td>0</td>\n",
       "      <td>0</td>\n",
       "      <td>0</td>\n",
       "      <td>0</td>\n",
       "      <td>0</td>\n",
       "      <td>0</td>\n",
       "      <td>...</td>\n",
       "      <td>49100.0</td>\n",
       "      <td>46950.0</td>\n",
       "      <td>46400.0</td>\n",
       "      <td>46000.0</td>\n",
       "      <td>45850.0</td>\n",
       "      <td>45850.0</td>\n",
       "      <td>47100.0</td>\n",
       "      <td>50000.0</td>\n",
       "      <td>53600.0</td>\n",
       "      <td>54300.0</td>\n",
       "    </tr>\n",
       "    <tr>\n",
       "      <th>2018-01-08 01:00:00</th>\n",
       "      <td>15.11</td>\n",
       "      <td>70217.0</td>\n",
       "      <td>57050.0</td>\n",
       "      <td>1</td>\n",
       "      <td>0</td>\n",
       "      <td>0</td>\n",
       "      <td>0</td>\n",
       "      <td>0</td>\n",
       "      <td>0</td>\n",
       "      <td>0</td>\n",
       "      <td>...</td>\n",
       "      <td>51500.0</td>\n",
       "      <td>49100.0</td>\n",
       "      <td>46950.0</td>\n",
       "      <td>46400.0</td>\n",
       "      <td>46000.0</td>\n",
       "      <td>45850.0</td>\n",
       "      <td>45850.0</td>\n",
       "      <td>47100.0</td>\n",
       "      <td>50000.0</td>\n",
       "      <td>53600.0</td>\n",
       "    </tr>\n",
       "    <tr>\n",
       "      <th>2018-01-08 02:00:00</th>\n",
       "      <td>13.42</td>\n",
       "      <td>70273.0</td>\n",
       "      <td>56200.0</td>\n",
       "      <td>1</td>\n",
       "      <td>0</td>\n",
       "      <td>0</td>\n",
       "      <td>0</td>\n",
       "      <td>0</td>\n",
       "      <td>0</td>\n",
       "      <td>0</td>\n",
       "      <td>...</td>\n",
       "      <td>54000.0</td>\n",
       "      <td>51500.0</td>\n",
       "      <td>49100.0</td>\n",
       "      <td>46950.0</td>\n",
       "      <td>46400.0</td>\n",
       "      <td>46000.0</td>\n",
       "      <td>45850.0</td>\n",
       "      <td>45850.0</td>\n",
       "      <td>47100.0</td>\n",
       "      <td>50000.0</td>\n",
       "    </tr>\n",
       "    <tr>\n",
       "      <th>2018-01-08 03:00:00</th>\n",
       "      <td>12.91</td>\n",
       "      <td>70608.0</td>\n",
       "      <td>53300.0</td>\n",
       "      <td>1</td>\n",
       "      <td>0</td>\n",
       "      <td>0</td>\n",
       "      <td>0</td>\n",
       "      <td>0</td>\n",
       "      <td>0</td>\n",
       "      <td>0</td>\n",
       "      <td>...</td>\n",
       "      <td>55100.0</td>\n",
       "      <td>54000.0</td>\n",
       "      <td>51500.0</td>\n",
       "      <td>49100.0</td>\n",
       "      <td>46950.0</td>\n",
       "      <td>46400.0</td>\n",
       "      <td>46000.0</td>\n",
       "      <td>45850.0</td>\n",
       "      <td>45850.0</td>\n",
       "      <td>47100.0</td>\n",
       "    </tr>\n",
       "  </tbody>\n",
       "</table>\n",
       "<p>5 rows × 199 columns</p>\n",
       "</div>"
      ],
      "text/plain": [
       "                     Price  FR Generation  FR Load  Monday  Tuesday  \\\n",
       "Date                                                                  \n",
       "2018-01-07 23:00:00  18.91        72256.0  63350.0       0        0   \n",
       "2018-01-08 00:00:00  15.15        71126.0  59650.0       1        0   \n",
       "2018-01-08 01:00:00  15.11        70217.0  57050.0       1        0   \n",
       "2018-01-08 02:00:00  13.42        70273.0  56200.0       1        0   \n",
       "2018-01-08 03:00:00  12.91        70608.0  53300.0       1        0   \n",
       "\n",
       "                     Wednesday  Thursday  Friday  Saturday  Sunday  ...  \\\n",
       "Date                                                                ...   \n",
       "2018-01-07 23:00:00          0         0       0         0       1  ...   \n",
       "2018-01-08 00:00:00          0         0       0         0       0  ...   \n",
       "2018-01-08 01:00:00          0         0       0         0       0  ...   \n",
       "2018-01-08 02:00:00          0         0       0         0       0  ...   \n",
       "2018-01-08 03:00:00          0         0       0         0       0  ...   \n",
       "\n",
       "                     FR Load(t-158)  FR Load(t-159)  FR Load(t-160)  \\\n",
       "Date                                                                  \n",
       "2018-01-07 23:00:00         46950.0         46400.0         46000.0   \n",
       "2018-01-08 00:00:00         49100.0         46950.0         46400.0   \n",
       "2018-01-08 01:00:00         51500.0         49100.0         46950.0   \n",
       "2018-01-08 02:00:00         54000.0         51500.0         49100.0   \n",
       "2018-01-08 03:00:00         55100.0         54000.0         51500.0   \n",
       "\n",
       "                     FR Load(t-161)  FR Load(t-162)  FR Load(t-163)  \\\n",
       "Date                                                                  \n",
       "2018-01-07 23:00:00         45850.0         45850.0         47100.0   \n",
       "2018-01-08 00:00:00         46000.0         45850.0         45850.0   \n",
       "2018-01-08 01:00:00         46400.0         46000.0         45850.0   \n",
       "2018-01-08 02:00:00         46950.0         46400.0         46000.0   \n",
       "2018-01-08 03:00:00         49100.0         46950.0         46400.0   \n",
       "\n",
       "                     FR Load(t-164)  FR Load(t-165)  FR Load(t-166)  \\\n",
       "Date                                                                  \n",
       "2018-01-07 23:00:00         50000.0         53600.0         54300.0   \n",
       "2018-01-08 00:00:00         47100.0         50000.0         53600.0   \n",
       "2018-01-08 01:00:00         45850.0         47100.0         50000.0   \n",
       "2018-01-08 02:00:00         45850.0         45850.0         47100.0   \n",
       "2018-01-08 03:00:00         46000.0         45850.0         45850.0   \n",
       "\n",
       "                     FR Load(t-167)  \n",
       "Date                                 \n",
       "2018-01-07 23:00:00         56250.0  \n",
       "2018-01-08 00:00:00         54300.0  \n",
       "2018-01-08 01:00:00         53600.0  \n",
       "2018-01-08 02:00:00         50000.0  \n",
       "2018-01-08 03:00:00         47100.0  \n",
       "\n",
       "[5 rows x 199 columns]"
      ]
     },
     "execution_count": 5,
     "metadata": {},
     "output_type": "execute_result"
    }
   ],
   "source": [
    "# add dummy variables for weekdays + 7 features\n",
    "names = ['Monday', 'Tuesday', 'Wednesday', 'Thursday', 'Friday', 'Saturday', 'Sunday']\n",
    "for i, x in enumerate(names):\n",
    "    df[x] = (df.index.get_level_values(0).weekday == i).astype(int)\n",
    "\n",
    "# add lagged variables for price + exogenous variables + (92 + 72*N) features\n",
    "def prepare_dataframe_laggs(df: pd.DataFrame, historical_price_laggs: list =  [1,2,3,7], historical_exo_laggs: list = [1,7]):\n",
    "    df = dc(df)\n",
    "\n",
    "    exo_var = df.columns[1:-7]\n",
    "\n",
    "    laggs = []\n",
    "    for i in historical_price_laggs:\n",
    "        new_laggs = [x for x in list(range(i, 24*i)) if x not in list(range(i-1, 24*(i-1)))]\n",
    "        laggs += new_laggs\n",
    "\n",
    "    for i in laggs:\n",
    "        df[f'Price(t-{i})'] = df[\"Price\"].shift(i)\n",
    "\n",
    "    laggs = []\n",
    "    for i in historical_exo_laggs:\n",
    "        new_laggs = [x for x in list(range(i, 24*i)) if x not in list(range(i-1, 24*(i-1)))]\n",
    "        laggs += new_laggs\n",
    "\n",
    "    for exo in exo_var:\n",
    "        for j in laggs:\n",
    "            df[f'{exo}(t-{j})'] = df[exo].shift(j)\n",
    "\n",
    "    return df\n",
    "\n",
    "lagged_df = prepare_dataframe_laggs(df, historical_price_laggs=[1,2,3,7], historical_exo_laggs=[1,7])\n",
    "lagged_df.dropna(inplace=True)\n",
    "lagged_df.head()"
   ]
  },
  {
   "cell_type": "code",
   "execution_count": 6,
   "metadata": {},
   "outputs": [
    {
     "data": {
      "text/plain": [
       "(43657, 96)"
      ]
     },
     "execution_count": 6,
     "metadata": {},
     "output_type": "execute_result"
    }
   ],
   "source": [
    "lagged_df_price_np = lagged_df.iloc[:,:105]\n",
    "lagged_df_price_np.drop(df.columns[1:10],axis = 1, inplace=True)\n",
    "lagged_df_price_np.shape"
   ]
  },
  {
   "cell_type": "code",
   "execution_count": 7,
   "metadata": {},
   "outputs": [
    {
     "data": {
      "text/plain": [
       "array([[-0.72783405, -0.71140919, -0.70597479, ..., -0.76362401,\n",
       "        -0.75875739, -0.75656741],\n",
       "       [-0.73545843, -0.72783405, -0.71140919, ..., -0.80693697,\n",
       "        -0.76362401, -0.75875739],\n",
       "       [-0.73553954, -0.73545843, -0.72783405, ..., -0.83070231,\n",
       "        -0.80693697, -0.76362401],\n",
       "       ...,\n",
       "       [-0.76133264, -0.75559408, -0.74478612, ..., -0.53884681,\n",
       "        -0.52228001, -0.54154373],\n",
       "       [-0.76591538, -0.76133264, -0.75559408, ..., -0.54991838,\n",
       "        -0.53884681, -0.52228001],\n",
       "       [-0.77508086, -0.76591538, -0.76133264, ..., -0.58197727,\n",
       "        -0.54991838, -0.53884681]])"
      ]
     },
     "execution_count": 7,
     "metadata": {},
     "output_type": "execute_result"
    }
   ],
   "source": [
    "from sklearn.preprocessing import MinMaxScaler\n",
    "# Transform features by scaling each feature to a given range. \n",
    "scaler = MinMaxScaler(feature_range=(-1,1))\n",
    "lagged_df_price_np = scaler.fit_transform(lagged_df_price_np)\n",
    "lagged_df_price_np"
   ]
  },
  {
   "cell_type": "code",
   "execution_count": 8,
   "metadata": {},
   "outputs": [
    {
     "data": {
      "text/plain": [
       "((26304, 95), (17353, 95), (26304,), (17353,))"
      ]
     },
     "execution_count": 8,
     "metadata": {},
     "output_type": "execute_result"
    }
   ],
   "source": [
    "X = lagged_df_price_np[:, 1:]\n",
    "y = lagged_df_price_np[:, 0]\n",
    "\n",
    "# Test set = 2021/01/01 tot 2022/12/12\n",
    "split_index = df.index.get_loc(\"2021-01-01 00:00:00\")\n",
    "\n",
    "X_train = X[:split_index]\n",
    "X_test = X[split_index:]\n",
    "\n",
    "y_train = y[:split_index]\n",
    "y_test = y[split_index:]\n",
    "\n",
    "X_train.shape, X_test.shape, y_train.shape, y_test.shape"
   ]
  },
  {
   "cell_type": "code",
   "execution_count": 14,
   "metadata": {},
   "outputs": [
    {
     "data": {
      "text/plain": [
       "((26304, 95, 1), (17353, 95, 1), (26304, 1), (17353, 1))"
      ]
     },
     "execution_count": 14,
     "metadata": {},
     "output_type": "execute_result"
    }
   ],
   "source": [
    "X_train = X_train.reshape((-1, 95, 1))\n",
    "X_test = X_test.reshape((-1, 95, 1))\n",
    "\n",
    "y_train = y_train.reshape((-1, 1))\n",
    "y_test = y_test.reshape((-1, 1))\n",
    "\n",
    "X_train.shape, X_test.shape, y_train.shape, y_test.shape"
   ]
  },
  {
   "cell_type": "code",
   "execution_count": 15,
   "metadata": {},
   "outputs": [
    {
     "data": {
      "text/plain": [
       "(torch.Size([26304, 95, 1]),\n",
       " torch.Size([17353, 95, 1]),\n",
       " torch.Size([26304, 1]),\n",
       " torch.Size([17353, 1]))"
      ]
     },
     "execution_count": 15,
     "metadata": {},
     "output_type": "execute_result"
    }
   ],
   "source": [
    "X_train = torch.tensor(X_train).float()\n",
    "X_test = torch.tensor(X_test).float()\n",
    "y_train = torch.tensor(y_train).float()\n",
    "y_test = torch.tensor(y_test).float()\n",
    "\n",
    "X_train.shape, X_test.shape, y_train.shape, y_test.shape"
   ]
  },
  {
   "cell_type": "code",
   "execution_count": 16,
   "metadata": {},
   "outputs": [],
   "source": [
    "train_dataset = TimeseriesDataset(X_train, y_train, seq_len=2688)\n",
    "train_loader = torch.utils.data.DataLoader(train_dataset, batch_size = 64, shuffle = False)"
   ]
  },
  {
   "cell_type": "code",
   "execution_count": 17,
   "metadata": {},
   "outputs": [],
   "source": [
    "test_dataset = TimeseriesDataset(X_test, y_test)\n",
    "test_loader = DataLoader(test_dataset, batch_size=64, shuffle=False)"
   ]
  },
  {
   "cell_type": "code",
   "execution_count": 18,
   "metadata": {},
   "outputs": [],
   "source": [
    "device = torch.device(\"cuda\" if torch.cuda.is_available() else \"cpu\")"
   ]
  },
  {
   "cell_type": "code",
   "execution_count": 19,
   "metadata": {},
   "outputs": [
    {
     "data": {
      "text/plain": [
       "VanillaDNN(\n",
       "  (layer_stack): Sequential(\n",
       "    (0): Linear(in_features=1, out_features=239, bias=True)\n",
       "    (1): ReLU()\n",
       "    (2): Linear(in_features=239, out_features=239, bias=True)\n",
       "    (3): ReLU()\n",
       "    (4): Linear(in_features=239, out_features=239, bias=True)\n",
       "    (5): ReLU()\n",
       "    (6): Linear(in_features=239, out_features=1, bias=True)\n",
       "  )\n",
       ")"
      ]
     },
     "execution_count": 19,
     "metadata": {},
     "output_type": "execute_result"
    }
   ],
   "source": [
    "model = VanillaDNN(1,239, 1)\n",
    "model.to(device)\n",
    "model"
   ]
  },
  {
   "cell_type": "code",
   "execution_count": 20,
   "metadata": {},
   "outputs": [
    {
     "name": "stderr",
     "output_type": "stream",
     "text": [
      "  0%|          | 0/10 [00:00<?, ?it/s]"
     ]
    }
   ],
   "source": [
    "learning_rate = 0.01\n",
    "num_epochs = 10\n",
    "loss_function = nn.MSELoss()\n",
    "optimizer = torch.optim.Adam(model.parameters(), lr=learning_rate)\n",
    "\n",
    "# Start training with help from engine.py\n",
    "train(model=model,\n",
    "             train_dataloader=train_loader,\n",
    "             test_dataloader=test_loader,\n",
    "             loss_fn=loss_function,\n",
    "             optimizer=optimizer,\n",
    "             epochs=10,\n",
    "             device=device)"
   ]
  }
 ],
 "metadata": {
  "kernelspec": {
   "display_name": "base",
   "language": "python",
   "name": "python3"
  },
  "language_info": {
   "codemirror_mode": {
    "name": "ipython",
    "version": 3
   },
   "file_extension": ".py",
   "mimetype": "text/x-python",
   "name": "python",
   "nbconvert_exporter": "python",
   "pygments_lexer": "ipython3",
   "version": "3.9.17"
  }
 },
 "nbformat": 4,
 "nbformat_minor": 2
}
