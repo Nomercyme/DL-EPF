{
  "cells": [
    {
      "cell_type": "markdown",
      "metadata": {
        "id": "ERmoewyBfuRb"
      },
      "source": [
        "# Suggestions by Anis\n",
        "- Fully connected dl doesn't work for time series cause it's architecture doesn't allow to fit\n",
        "- this data suffers from curse of dimensionality as the lagged multivariate features that are very strongly dependent and as a consequence the model underfits (doesn't capture temporal relations), model cannot converge to best solution\n",
        "- TO GOOGLE: fully connected neural networks for time series\n",
        "- Shorten the features (remove 7 day lagg)\n",
        "- number of stacked layers can be increased for LSTM\n",
        "- Feed LSTM window a longer window, more laggs\n",
        "- Transformers may also work\n",
        "- Try RNN"
      ]
    },
    {
      "cell_type": "code",
      "execution_count": 3,
      "metadata": {
        "colab": {
          "base_uri": "https://localhost:8080/"
        },
        "id": "RQr3ZZOZVSwU",
        "outputId": "dff97ed4-9eee-45ed-fd55-665275e540cc"
      },
      "outputs": [
        {
          "name": "stdout",
          "output_type": "stream",
          "text": [
            "Collecting torchinfo\n",
            "  Downloading torchinfo-1.8.0-py3-none-any.whl (23 kB)\n",
            "Installing collected packages: torchinfo\n",
            "Successfully installed torchinfo-1.8.0\n"
          ]
        }
      ],
      "source": [
        "import pandas as pd\n",
        "import matplotlib.pyplot as plt\n",
        "import numpy as np\n",
        "from torch import nn\n",
        "from copy import deepcopy as dc\n",
        "from torch.utils.data import DataLoader\n",
        "import torch\n",
        "import tqdm\n",
        "\n",
        "from helper_functions.model_builder import LSTM, VanillaDNN\n",
        "from helper_functions.data_setup import TimeseriesDataset\n",
        "from helper_functions.engine import train\n",
        "from torchinfo import summary\n",
        "\n",
        "import warnings\n",
        "warnings.filterwarnings(\"ignore\")"
      ]
    },
    {
      "cell_type": "code",
      "execution_count": 4,
      "metadata": {
        "colab": {
          "base_uri": "https://localhost:8080/"
        },
        "id": "NB7EwnLEVSwV",
        "outputId": "4ce1a73d-03f4-41c4-b0b1-bb04a22324fa"
      },
      "outputs": [
        {
          "data": {
            "text/plain": [
              "(                  Date  Price  FR Generation  FR Load\n",
              " 0  2018-01-01 00:00:00   4.74        53625.0  56250.0\n",
              " 1  2018-01-01 01:00:00   3.66        52398.0  54300.0\n",
              " 2  2018-01-01 02:00:00   1.26        51825.0  53600.0\n",
              " 3  2018-01-01 03:00:00 -20.10        50729.0  50000.0\n",
              " 4  2018-01-01 04:00:00 -31.82        50719.0  47100.0,\n",
              " (43824, 4))"
            ]
          },
          "execution_count": 4,
          "metadata": {},
          "output_type": "execute_result"
        }
      ],
      "source": [
        "df = pd.read_csv(\"Datasets/Dataframes_one_ex_var/ModelBenchmark_dataframe.csv\")\n",
        "df.head(), df.shape"
      ]
    },
    {
      "cell_type": "code",
      "execution_count": 5,
      "metadata": {
        "id": "Fa30E_hVVSwV"
      },
      "outputs": [],
      "source": [
        "# Set Date as index\n",
        "df.Date = pd.to_datetime(df.Date)\n",
        "df.set_index(\"Date\", inplace=True)"
      ]
    },
    {
      "cell_type": "code",
      "execution_count": 6,
      "metadata": {
        "colab": {
          "base_uri": "https://localhost:8080/",
          "height": 495
        },
        "id": "KFQqdMCDVSwW",
        "outputId": "812c15d6-c3a7-4b43-81a6-c8665b3496c8"
      },
      "outputs": [
        {
          "data": {
            "application/vnd.google.colaboratory.intrinsic+json": {
              "type": "dataframe",
              "variable_name": "lagged_df"
            },
            "text/html": [
              "\n",
              "  <div id=\"df-12413eba-9fcb-490f-ae14-1a57ee373aa1\" class=\"colab-df-container\">\n",
              "    <div>\n",
              "<style scoped>\n",
              "    .dataframe tbody tr th:only-of-type {\n",
              "        vertical-align: middle;\n",
              "    }\n",
              "\n",
              "    .dataframe tbody tr th {\n",
              "        vertical-align: top;\n",
              "    }\n",
              "\n",
              "    .dataframe thead th {\n",
              "        text-align: right;\n",
              "    }\n",
              "</style>\n",
              "<table border=\"1\" class=\"dataframe\">\n",
              "  <thead>\n",
              "    <tr style=\"text-align: right;\">\n",
              "      <th></th>\n",
              "      <th>Price</th>\n",
              "      <th>FR Generation</th>\n",
              "      <th>FR Load</th>\n",
              "      <th>Monday</th>\n",
              "      <th>Tuesday</th>\n",
              "      <th>Wednesday</th>\n",
              "      <th>Thursday</th>\n",
              "      <th>Friday</th>\n",
              "      <th>Saturday</th>\n",
              "      <th>Sunday</th>\n",
              "      <th>...</th>\n",
              "      <th>FR Load(t-158)</th>\n",
              "      <th>FR Load(t-159)</th>\n",
              "      <th>FR Load(t-160)</th>\n",
              "      <th>FR Load(t-161)</th>\n",
              "      <th>FR Load(t-162)</th>\n",
              "      <th>FR Load(t-163)</th>\n",
              "      <th>FR Load(t-164)</th>\n",
              "      <th>FR Load(t-165)</th>\n",
              "      <th>FR Load(t-166)</th>\n",
              "      <th>FR Load(t-167)</th>\n",
              "    </tr>\n",
              "    <tr>\n",
              "      <th>Date</th>\n",
              "      <th></th>\n",
              "      <th></th>\n",
              "      <th></th>\n",
              "      <th></th>\n",
              "      <th></th>\n",
              "      <th></th>\n",
              "      <th></th>\n",
              "      <th></th>\n",
              "      <th></th>\n",
              "      <th></th>\n",
              "      <th></th>\n",
              "      <th></th>\n",
              "      <th></th>\n",
              "      <th></th>\n",
              "      <th></th>\n",
              "      <th></th>\n",
              "      <th></th>\n",
              "      <th></th>\n",
              "      <th></th>\n",
              "      <th></th>\n",
              "      <th></th>\n",
              "    </tr>\n",
              "  </thead>\n",
              "  <tbody>\n",
              "    <tr>\n",
              "      <th>2018-01-07 23:00:00</th>\n",
              "      <td>18.91</td>\n",
              "      <td>72256.0</td>\n",
              "      <td>63350.0</td>\n",
              "      <td>0</td>\n",
              "      <td>0</td>\n",
              "      <td>0</td>\n",
              "      <td>0</td>\n",
              "      <td>0</td>\n",
              "      <td>0</td>\n",
              "      <td>1</td>\n",
              "      <td>...</td>\n",
              "      <td>46950.0</td>\n",
              "      <td>46400.0</td>\n",
              "      <td>46000.0</td>\n",
              "      <td>45850.0</td>\n",
              "      <td>45850.0</td>\n",
              "      <td>47100.0</td>\n",
              "      <td>50000.0</td>\n",
              "      <td>53600.0</td>\n",
              "      <td>54300.0</td>\n",
              "      <td>56250.0</td>\n",
              "    </tr>\n",
              "    <tr>\n",
              "      <th>2018-01-08 00:00:00</th>\n",
              "      <td>15.15</td>\n",
              "      <td>71126.0</td>\n",
              "      <td>59650.0</td>\n",
              "      <td>1</td>\n",
              "      <td>0</td>\n",
              "      <td>0</td>\n",
              "      <td>0</td>\n",
              "      <td>0</td>\n",
              "      <td>0</td>\n",
              "      <td>0</td>\n",
              "      <td>...</td>\n",
              "      <td>49100.0</td>\n",
              "      <td>46950.0</td>\n",
              "      <td>46400.0</td>\n",
              "      <td>46000.0</td>\n",
              "      <td>45850.0</td>\n",
              "      <td>45850.0</td>\n",
              "      <td>47100.0</td>\n",
              "      <td>50000.0</td>\n",
              "      <td>53600.0</td>\n",
              "      <td>54300.0</td>\n",
              "    </tr>\n",
              "    <tr>\n",
              "      <th>2018-01-08 01:00:00</th>\n",
              "      <td>15.11</td>\n",
              "      <td>70217.0</td>\n",
              "      <td>57050.0</td>\n",
              "      <td>1</td>\n",
              "      <td>0</td>\n",
              "      <td>0</td>\n",
              "      <td>0</td>\n",
              "      <td>0</td>\n",
              "      <td>0</td>\n",
              "      <td>0</td>\n",
              "      <td>...</td>\n",
              "      <td>51500.0</td>\n",
              "      <td>49100.0</td>\n",
              "      <td>46950.0</td>\n",
              "      <td>46400.0</td>\n",
              "      <td>46000.0</td>\n",
              "      <td>45850.0</td>\n",
              "      <td>45850.0</td>\n",
              "      <td>47100.0</td>\n",
              "      <td>50000.0</td>\n",
              "      <td>53600.0</td>\n",
              "    </tr>\n",
              "    <tr>\n",
              "      <th>2018-01-08 02:00:00</th>\n",
              "      <td>13.42</td>\n",
              "      <td>70273.0</td>\n",
              "      <td>56200.0</td>\n",
              "      <td>1</td>\n",
              "      <td>0</td>\n",
              "      <td>0</td>\n",
              "      <td>0</td>\n",
              "      <td>0</td>\n",
              "      <td>0</td>\n",
              "      <td>0</td>\n",
              "      <td>...</td>\n",
              "      <td>54000.0</td>\n",
              "      <td>51500.0</td>\n",
              "      <td>49100.0</td>\n",
              "      <td>46950.0</td>\n",
              "      <td>46400.0</td>\n",
              "      <td>46000.0</td>\n",
              "      <td>45850.0</td>\n",
              "      <td>45850.0</td>\n",
              "      <td>47100.0</td>\n",
              "      <td>50000.0</td>\n",
              "    </tr>\n",
              "    <tr>\n",
              "      <th>2018-01-08 03:00:00</th>\n",
              "      <td>12.91</td>\n",
              "      <td>70608.0</td>\n",
              "      <td>53300.0</td>\n",
              "      <td>1</td>\n",
              "      <td>0</td>\n",
              "      <td>0</td>\n",
              "      <td>0</td>\n",
              "      <td>0</td>\n",
              "      <td>0</td>\n",
              "      <td>0</td>\n",
              "      <td>...</td>\n",
              "      <td>55100.0</td>\n",
              "      <td>54000.0</td>\n",
              "      <td>51500.0</td>\n",
              "      <td>49100.0</td>\n",
              "      <td>46950.0</td>\n",
              "      <td>46400.0</td>\n",
              "      <td>46000.0</td>\n",
              "      <td>45850.0</td>\n",
              "      <td>45850.0</td>\n",
              "      <td>47100.0</td>\n",
              "    </tr>\n",
              "  </tbody>\n",
              "</table>\n",
              "<p>5 rows × 199 columns</p>\n",
              "</div>\n",
              "    <div class=\"colab-df-buttons\">\n",
              "\n",
              "  <div class=\"colab-df-container\">\n",
              "    <button class=\"colab-df-convert\" onclick=\"convertToInteractive('df-12413eba-9fcb-490f-ae14-1a57ee373aa1')\"\n",
              "            title=\"Convert this dataframe to an interactive table.\"\n",
              "            style=\"display:none;\">\n",
              "\n",
              "  <svg xmlns=\"http://www.w3.org/2000/svg\" height=\"24px\" viewBox=\"0 -960 960 960\">\n",
              "    <path d=\"M120-120v-720h720v720H120Zm60-500h600v-160H180v160Zm220 220h160v-160H400v160Zm0 220h160v-160H400v160ZM180-400h160v-160H180v160Zm440 0h160v-160H620v160ZM180-180h160v-160H180v160Zm440 0h160v-160H620v160Z\"/>\n",
              "  </svg>\n",
              "    </button>\n",
              "\n",
              "  <style>\n",
              "    .colab-df-container {\n",
              "      display:flex;\n",
              "      gap: 12px;\n",
              "    }\n",
              "\n",
              "    .colab-df-convert {\n",
              "      background-color: #E8F0FE;\n",
              "      border: none;\n",
              "      border-radius: 50%;\n",
              "      cursor: pointer;\n",
              "      display: none;\n",
              "      fill: #1967D2;\n",
              "      height: 32px;\n",
              "      padding: 0 0 0 0;\n",
              "      width: 32px;\n",
              "    }\n",
              "\n",
              "    .colab-df-convert:hover {\n",
              "      background-color: #E2EBFA;\n",
              "      box-shadow: 0px 1px 2px rgba(60, 64, 67, 0.3), 0px 1px 3px 1px rgba(60, 64, 67, 0.15);\n",
              "      fill: #174EA6;\n",
              "    }\n",
              "\n",
              "    .colab-df-buttons div {\n",
              "      margin-bottom: 4px;\n",
              "    }\n",
              "\n",
              "    [theme=dark] .colab-df-convert {\n",
              "      background-color: #3B4455;\n",
              "      fill: #D2E3FC;\n",
              "    }\n",
              "\n",
              "    [theme=dark] .colab-df-convert:hover {\n",
              "      background-color: #434B5C;\n",
              "      box-shadow: 0px 1px 3px 1px rgba(0, 0, 0, 0.15);\n",
              "      filter: drop-shadow(0px 1px 2px rgba(0, 0, 0, 0.3));\n",
              "      fill: #FFFFFF;\n",
              "    }\n",
              "  </style>\n",
              "\n",
              "    <script>\n",
              "      const buttonEl =\n",
              "        document.querySelector('#df-12413eba-9fcb-490f-ae14-1a57ee373aa1 button.colab-df-convert');\n",
              "      buttonEl.style.display =\n",
              "        google.colab.kernel.accessAllowed ? 'block' : 'none';\n",
              "\n",
              "      async function convertToInteractive(key) {\n",
              "        const element = document.querySelector('#df-12413eba-9fcb-490f-ae14-1a57ee373aa1');\n",
              "        const dataTable =\n",
              "          await google.colab.kernel.invokeFunction('convertToInteractive',\n",
              "                                                    [key], {});\n",
              "        if (!dataTable) return;\n",
              "\n",
              "        const docLinkHtml = 'Like what you see? Visit the ' +\n",
              "          '<a target=\"_blank\" href=https://colab.research.google.com/notebooks/data_table.ipynb>data table notebook</a>'\n",
              "          + ' to learn more about interactive tables.';\n",
              "        element.innerHTML = '';\n",
              "        dataTable['output_type'] = 'display_data';\n",
              "        await google.colab.output.renderOutput(dataTable, element);\n",
              "        const docLink = document.createElement('div');\n",
              "        docLink.innerHTML = docLinkHtml;\n",
              "        element.appendChild(docLink);\n",
              "      }\n",
              "    </script>\n",
              "  </div>\n",
              "\n",
              "\n",
              "<div id=\"df-c25d9f79-839a-42da-9e49-1e1b26ea9a7a\">\n",
              "  <button class=\"colab-df-quickchart\" onclick=\"quickchart('df-c25d9f79-839a-42da-9e49-1e1b26ea9a7a')\"\n",
              "            title=\"Suggest charts\"\n",
              "            style=\"display:none;\">\n",
              "\n",
              "<svg xmlns=\"http://www.w3.org/2000/svg\" height=\"24px\"viewBox=\"0 0 24 24\"\n",
              "     width=\"24px\">\n",
              "    <g>\n",
              "        <path d=\"M19 3H5c-1.1 0-2 .9-2 2v14c0 1.1.9 2 2 2h14c1.1 0 2-.9 2-2V5c0-1.1-.9-2-2-2zM9 17H7v-7h2v7zm4 0h-2V7h2v10zm4 0h-2v-4h2v4z\"/>\n",
              "    </g>\n",
              "</svg>\n",
              "  </button>\n",
              "\n",
              "<style>\n",
              "  .colab-df-quickchart {\n",
              "      --bg-color: #E8F0FE;\n",
              "      --fill-color: #1967D2;\n",
              "      --hover-bg-color: #E2EBFA;\n",
              "      --hover-fill-color: #174EA6;\n",
              "      --disabled-fill-color: #AAA;\n",
              "      --disabled-bg-color: #DDD;\n",
              "  }\n",
              "\n",
              "  [theme=dark] .colab-df-quickchart {\n",
              "      --bg-color: #3B4455;\n",
              "      --fill-color: #D2E3FC;\n",
              "      --hover-bg-color: #434B5C;\n",
              "      --hover-fill-color: #FFFFFF;\n",
              "      --disabled-bg-color: #3B4455;\n",
              "      --disabled-fill-color: #666;\n",
              "  }\n",
              "\n",
              "  .colab-df-quickchart {\n",
              "    background-color: var(--bg-color);\n",
              "    border: none;\n",
              "    border-radius: 50%;\n",
              "    cursor: pointer;\n",
              "    display: none;\n",
              "    fill: var(--fill-color);\n",
              "    height: 32px;\n",
              "    padding: 0;\n",
              "    width: 32px;\n",
              "  }\n",
              "\n",
              "  .colab-df-quickchart:hover {\n",
              "    background-color: var(--hover-bg-color);\n",
              "    box-shadow: 0 1px 2px rgba(60, 64, 67, 0.3), 0 1px 3px 1px rgba(60, 64, 67, 0.15);\n",
              "    fill: var(--button-hover-fill-color);\n",
              "  }\n",
              "\n",
              "  .colab-df-quickchart-complete:disabled,\n",
              "  .colab-df-quickchart-complete:disabled:hover {\n",
              "    background-color: var(--disabled-bg-color);\n",
              "    fill: var(--disabled-fill-color);\n",
              "    box-shadow: none;\n",
              "  }\n",
              "\n",
              "  .colab-df-spinner {\n",
              "    border: 2px solid var(--fill-color);\n",
              "    border-color: transparent;\n",
              "    border-bottom-color: var(--fill-color);\n",
              "    animation:\n",
              "      spin 1s steps(1) infinite;\n",
              "  }\n",
              "\n",
              "  @keyframes spin {\n",
              "    0% {\n",
              "      border-color: transparent;\n",
              "      border-bottom-color: var(--fill-color);\n",
              "      border-left-color: var(--fill-color);\n",
              "    }\n",
              "    20% {\n",
              "      border-color: transparent;\n",
              "      border-left-color: var(--fill-color);\n",
              "      border-top-color: var(--fill-color);\n",
              "    }\n",
              "    30% {\n",
              "      border-color: transparent;\n",
              "      border-left-color: var(--fill-color);\n",
              "      border-top-color: var(--fill-color);\n",
              "      border-right-color: var(--fill-color);\n",
              "    }\n",
              "    40% {\n",
              "      border-color: transparent;\n",
              "      border-right-color: var(--fill-color);\n",
              "      border-top-color: var(--fill-color);\n",
              "    }\n",
              "    60% {\n",
              "      border-color: transparent;\n",
              "      border-right-color: var(--fill-color);\n",
              "    }\n",
              "    80% {\n",
              "      border-color: transparent;\n",
              "      border-right-color: var(--fill-color);\n",
              "      border-bottom-color: var(--fill-color);\n",
              "    }\n",
              "    90% {\n",
              "      border-color: transparent;\n",
              "      border-bottom-color: var(--fill-color);\n",
              "    }\n",
              "  }\n",
              "</style>\n",
              "\n",
              "  <script>\n",
              "    async function quickchart(key) {\n",
              "      const quickchartButtonEl =\n",
              "        document.querySelector('#' + key + ' button');\n",
              "      quickchartButtonEl.disabled = true;  // To prevent multiple clicks.\n",
              "      quickchartButtonEl.classList.add('colab-df-spinner');\n",
              "      try {\n",
              "        const charts = await google.colab.kernel.invokeFunction(\n",
              "            'suggestCharts', [key], {});\n",
              "      } catch (error) {\n",
              "        console.error('Error during call to suggestCharts:', error);\n",
              "      }\n",
              "      quickchartButtonEl.classList.remove('colab-df-spinner');\n",
              "      quickchartButtonEl.classList.add('colab-df-quickchart-complete');\n",
              "    }\n",
              "    (() => {\n",
              "      let quickchartButtonEl =\n",
              "        document.querySelector('#df-c25d9f79-839a-42da-9e49-1e1b26ea9a7a button');\n",
              "      quickchartButtonEl.style.display =\n",
              "        google.colab.kernel.accessAllowed ? 'block' : 'none';\n",
              "    })();\n",
              "  </script>\n",
              "</div>\n",
              "    </div>\n",
              "  </div>\n"
            ],
            "text/plain": [
              "                     Price  FR Generation  FR Load  Monday  Tuesday  \\\n",
              "Date                                                                  \n",
              "2018-01-07 23:00:00  18.91        72256.0  63350.0       0        0   \n",
              "2018-01-08 00:00:00  15.15        71126.0  59650.0       1        0   \n",
              "2018-01-08 01:00:00  15.11        70217.0  57050.0       1        0   \n",
              "2018-01-08 02:00:00  13.42        70273.0  56200.0       1        0   \n",
              "2018-01-08 03:00:00  12.91        70608.0  53300.0       1        0   \n",
              "\n",
              "                     Wednesday  Thursday  Friday  Saturday  Sunday  ...  \\\n",
              "Date                                                                ...   \n",
              "2018-01-07 23:00:00          0         0       0         0       1  ...   \n",
              "2018-01-08 00:00:00          0         0       0         0       0  ...   \n",
              "2018-01-08 01:00:00          0         0       0         0       0  ...   \n",
              "2018-01-08 02:00:00          0         0       0         0       0  ...   \n",
              "2018-01-08 03:00:00          0         0       0         0       0  ...   \n",
              "\n",
              "                     FR Load(t-158)  FR Load(t-159)  FR Load(t-160)  \\\n",
              "Date                                                                  \n",
              "2018-01-07 23:00:00         46950.0         46400.0         46000.0   \n",
              "2018-01-08 00:00:00         49100.0         46950.0         46400.0   \n",
              "2018-01-08 01:00:00         51500.0         49100.0         46950.0   \n",
              "2018-01-08 02:00:00         54000.0         51500.0         49100.0   \n",
              "2018-01-08 03:00:00         55100.0         54000.0         51500.0   \n",
              "\n",
              "                     FR Load(t-161)  FR Load(t-162)  FR Load(t-163)  \\\n",
              "Date                                                                  \n",
              "2018-01-07 23:00:00         45850.0         45850.0         47100.0   \n",
              "2018-01-08 00:00:00         46000.0         45850.0         45850.0   \n",
              "2018-01-08 01:00:00         46400.0         46000.0         45850.0   \n",
              "2018-01-08 02:00:00         46950.0         46400.0         46000.0   \n",
              "2018-01-08 03:00:00         49100.0         46950.0         46400.0   \n",
              "\n",
              "                     FR Load(t-164)  FR Load(t-165)  FR Load(t-166)  \\\n",
              "Date                                                                  \n",
              "2018-01-07 23:00:00         50000.0         53600.0         54300.0   \n",
              "2018-01-08 00:00:00         47100.0         50000.0         53600.0   \n",
              "2018-01-08 01:00:00         45850.0         47100.0         50000.0   \n",
              "2018-01-08 02:00:00         45850.0         45850.0         47100.0   \n",
              "2018-01-08 03:00:00         46000.0         45850.0         45850.0   \n",
              "\n",
              "                     FR Load(t-167)  \n",
              "Date                                 \n",
              "2018-01-07 23:00:00         56250.0  \n",
              "2018-01-08 00:00:00         54300.0  \n",
              "2018-01-08 01:00:00         53600.0  \n",
              "2018-01-08 02:00:00         50000.0  \n",
              "2018-01-08 03:00:00         47100.0  \n",
              "\n",
              "[5 rows x 199 columns]"
            ]
          },
          "execution_count": 6,
          "metadata": {},
          "output_type": "execute_result"
        }
      ],
      "source": [
        "# add dummy variables for weekdays + 7 features\n",
        "names = ['Monday', 'Tuesday', 'Wednesday', 'Thursday', 'Friday', 'Saturday', 'Sunday']\n",
        "for i, x in enumerate(names):\n",
        "    df[x] = (df.index.get_level_values(0).weekday == i).astype(int)\n",
        "\n",
        "# add lagged variables for price + exogenous variables + (92 + 72*N) features\n",
        "def prepare_dataframe_laggs(df: pd.DataFrame, historical_price_laggs: list =  [1,2,3,7], historical_exo_laggs: list = [1,7]):\n",
        "    df = dc(df)\n",
        "\n",
        "    exo_var = df.columns[1:-7]\n",
        "\n",
        "    laggs = []\n",
        "    for i in historical_price_laggs:\n",
        "        new_laggs = [x for x in list(range(i, 24*i)) if x not in list(range(i-1, 24*(i-1)))]\n",
        "        laggs += new_laggs\n",
        "\n",
        "    for i in laggs:\n",
        "        df[f'Price(t-{i})'] = df[\"Price\"].shift(i)\n",
        "\n",
        "    laggs = []\n",
        "    for i in historical_exo_laggs:\n",
        "        new_laggs = [x for x in list(range(i, 24*i)) if x not in list(range(i-1, 24*(i-1)))]\n",
        "        laggs += new_laggs\n",
        "\n",
        "    for exo in exo_var:\n",
        "        for j in laggs:\n",
        "            df[f'{exo}(t-{j})'] = df[exo].shift(j)\n",
        "\n",
        "    return df\n",
        "\n",
        "lagged_df = prepare_dataframe_laggs(df, historical_price_laggs=[1,2,3,7], historical_exo_laggs=[1,7])\n",
        "lagged_df.dropna(inplace=True)\n",
        "lagged_df.head()"
      ]
    },
    {
      "cell_type": "code",
      "execution_count": 7,
      "metadata": {
        "colab": {
          "base_uri": "https://localhost:8080/"
        },
        "id": "uoyA9YYPVSwW",
        "outputId": "be3d3223-f15b-459d-c49b-e125e47672e8"
      },
      "outputs": [
        {
          "data": {
            "text/plain": [
              "(43657, 96)"
            ]
          },
          "execution_count": 7,
          "metadata": {},
          "output_type": "execute_result"
        }
      ],
      "source": [
        "lagged_df_price_np = lagged_df.iloc[:,:105]\n",
        "lagged_df_price_np.drop(df.columns[1:10],axis = 1, inplace=True)\n",
        "lagged_df_price_np.shape"
      ]
    },
    {
      "cell_type": "code",
      "execution_count": 8,
      "metadata": {
        "colab": {
          "base_uri": "https://localhost:8080/"
        },
        "id": "GBzIxisoVSwW",
        "outputId": "440dcf4c-0119-4f8a-d2bc-fe5526fcf5dd"
      },
      "outputs": [
        {
          "data": {
            "text/plain": [
              "array([[-0.50552995, -0.38110599, -0.33993856, ..., -0.78037456,\n",
              "        -0.74307383, -0.72647059],\n",
              "       [-0.56328725, -0.50552995, -0.38110599, ..., -1.11097353,\n",
              "        -0.78021978, -0.74318885],\n",
              "       [-0.56390169, -0.56328725, -0.50552995, ..., -1.2923696 ,\n",
              "        -1.11081876, -0.78034056],\n",
              "       ...,\n",
              "       [-0.75929339, -0.71582181, -0.63394777, ...,  0.93530413,\n",
              "         1.06190992,  0.91501548],\n",
              "       [-0.79400922, -0.75929339, -0.71582181, ...,  0.85079709,\n",
              "         0.93545891,  1.0620743 ],\n",
              "       [-0.86344086, -0.79400922, -0.75929339, ...,  0.60609813,\n",
              "         0.85095187,  0.93560372]])"
            ]
          },
          "execution_count": 8,
          "metadata": {},
          "output_type": "execute_result"
        }
      ],
      "source": [
        "from sklearn.preprocessing import MinMaxScaler, Normalizer, RobustScaler\n",
        "# Transform features by scaling each feature to a given range.\n",
        "scaler = MinMaxScaler(feature_range=(-1,1))\n",
        "lagged_df_price_np = RobustScaler().fit_transform(lagged_df_price_np)\n",
        "# lagged_df_price_np = scaler.fit_transform(lagged_df_price_np)\n",
        "lagged_df_price_np"
      ]
    },
    {
      "cell_type": "code",
      "execution_count": 9,
      "metadata": {
        "colab": {
          "base_uri": "https://localhost:8080/"
        },
        "id": "NEc8uP_6VSwW",
        "outputId": "b8c7fee1-d687-4166-d97e-5ae08f999dac"
      },
      "outputs": [
        {
          "data": {
            "text/plain": [
              "((26304, 95), (17353, 95), (26304,), (17353,))"
            ]
          },
          "execution_count": 9,
          "metadata": {},
          "output_type": "execute_result"
        }
      ],
      "source": [
        "X = lagged_df_price_np[:, 1:]\n",
        "y = lagged_df_price_np[:, 0]\n",
        "\n",
        "# Test set = 2021/01/01 tot 2022/12/12\n",
        "split_index = df.index.get_loc(\"2021-01-01 00:00:00\")\n",
        "\n",
        "X_train = X[:split_index]\n",
        "X_test = X[split_index:]\n",
        "\n",
        "y_train = y[:split_index]\n",
        "y_test = y[split_index:]\n",
        "\n",
        "X_train.shape, X_test.shape, y_train.shape, y_test.shape"
      ]
    },
    {
      "cell_type": "code",
      "execution_count": 11,
      "metadata": {
        "colab": {
          "base_uri": "https://localhost:8080/"
        },
        "id": "zC4Mv7bHVSwW",
        "outputId": "bd98b484-3fd3-4a8b-b161-25a4e85760b9"
      },
      "outputs": [
        {
          "data": {
            "text/plain": [
              "(torch.Size([26304, 95]),\n",
              " torch.Size([17353, 95]),\n",
              " torch.Size([26304]),\n",
              " torch.Size([17353]))"
            ]
          },
          "execution_count": 11,
          "metadata": {},
          "output_type": "execute_result"
        }
      ],
      "source": [
        "X_train = torch.tensor(X_train).float()\n",
        "X_test = torch.tensor(X_test).float()\n",
        "y_train = torch.tensor(y_train).float()\n",
        "y_test = torch.tensor(y_test).float()\n",
        "\n",
        "X_train.shape, X_test.shape, y_train.shape, y_test.shape"
      ]
    },
    {
      "cell_type": "code",
      "execution_count": 12,
      "metadata": {
        "id": "Yz06Lk6WVSwX"
      },
      "outputs": [],
      "source": [
        "from torch.utils.data import TensorDataset\n",
        "# train_dataset = TimeseriesDataset(X_train, y_train, seq_len=2688)\n",
        "# train_loader = torch.utils.data.DataLoader(train_dataset, batch_size = 1, shuffle = False)\n",
        "train_dataset = TensorDataset(X_train, y_train)\n",
        "train_loader = DataLoader(train_dataset, batch_size = 32, shuffle = False)"
      ]
    },
    {
      "cell_type": "code",
      "execution_count": 13,
      "metadata": {
        "id": "Lm_YnxlqVSwX"
      },
      "outputs": [],
      "source": [
        "# test_dataset = TimeseriesDataset(X_test, y_test)\n",
        "# test_loader = DataLoader(test_dataset, batch_size=1, shuffle=False)\n",
        "test_dataset = TensorDataset(X_test, y_test)\n",
        "test_loader = DataLoader(test_dataset, batch_size= 32, shuffle=False)"
      ]
    },
    {
      "cell_type": "code",
      "execution_count": 14,
      "metadata": {
        "id": "EtOdlXDKVSwX"
      },
      "outputs": [],
      "source": [
        "device = torch.device(\"cuda\" if torch.cuda.is_available() else \"cpu\")"
      ]
    },
    {
      "cell_type": "code",
      "execution_count": 15,
      "metadata": {
        "colab": {
          "base_uri": "https://localhost:8080/"
        },
        "id": "U7fRZ5EVVSwX",
        "outputId": "1a930fd7-c655-4204-c927-c5c352ce0dab"
      },
      "outputs": [
        {
          "data": {
            "text/plain": [
              "VanillaDNN(\n",
              "  (layer_stack): Sequential(\n",
              "    (0): Linear(in_features=95, out_features=1024, bias=True)\n",
              "    (1): ReLU()\n",
              "    (2): Linear(in_features=1024, out_features=1024, bias=True)\n",
              "    (3): ReLU()\n",
              "    (4): Linear(in_features=1024, out_features=1024, bias=True)\n",
              "    (5): ReLU()\n",
              "    (6): Linear(in_features=1024, out_features=1, bias=True)\n",
              "  )\n",
              ")"
            ]
          },
          "execution_count": 15,
          "metadata": {},
          "output_type": "execute_result"
        }
      ],
      "source": [
        "model = VanillaDNN(95,1024, 1)\n",
        "model.to(device)\n",
        "model"
      ]
    },
    {
      "cell_type": "code",
      "execution_count": 16,
      "metadata": {
        "colab": {
          "base_uri": "https://localhost:8080/"
        },
        "id": "-145YGKnYVJT",
        "outputId": "e4f60771-22da-45ae-ab1d-0c195e079904"
      },
      "outputs": [
        {
          "data": {
            "text/plain": [
              "========================================================================================================================\n",
              "Layer (type (var_name))                  Input Shape          Output Shape         Param #              Trainable\n",
              "========================================================================================================================\n",
              "VanillaDNN (VanillaDNN)                  [32, 95]             [32, 1]              --                   True\n",
              "├─Sequential (layer_stack)               [32, 95]             [32, 1]              --                   True\n",
              "│    └─Linear (0)                        [32, 95]             [32, 1024]           98,304               True\n",
              "│    └─ReLU (1)                          [32, 1024]           [32, 1024]           --                   --\n",
              "│    └─Linear (2)                        [32, 1024]           [32, 1024]           1,049,600            True\n",
              "│    └─ReLU (3)                          [32, 1024]           [32, 1024]           --                   --\n",
              "│    └─Linear (4)                        [32, 1024]           [32, 1024]           1,049,600            True\n",
              "│    └─ReLU (5)                          [32, 1024]           [32, 1024]           --                   --\n",
              "│    └─Linear (6)                        [32, 1024]           [32, 1]              1,025                True\n",
              "========================================================================================================================\n",
              "Total params: 2,198,529\n",
              "Trainable params: 2,198,529\n",
              "Non-trainable params: 0\n",
              "Total mult-adds (M): 70.35\n",
              "========================================================================================================================\n",
              "Input size (MB): 0.01\n",
              "Forward/backward pass size (MB): 0.79\n",
              "Params size (MB): 8.79\n",
              "Estimated Total Size (MB): 9.59\n",
              "========================================================================================================================"
            ]
          },
          "execution_count": 16,
          "metadata": {},
          "output_type": "execute_result"
        }
      ],
      "source": [
        "summary(model=model,\n",
        "        input_size=(32, 95), # make sure this is \"input_size\", not \"input_shape\"\n",
        "        # col_names=[\"input_size\"], # uncomment for smaller output\n",
        "        col_names=[\"input_size\", \"output_size\", \"num_params\", \"trainable\"],\n",
        "        col_width=20,\n",
        "        row_settings=[\"var_names\"])"
      ]
    },
    {
      "cell_type": "code",
      "execution_count": 17,
      "metadata": {
        "colab": {
          "base_uri": "https://localhost:8080/",
          "height": 917,
          "referenced_widgets": [
            "6ee21132b80b493b802c2163f5c7455f",
            "4837b52055f74548848d50f3ea09dbcc",
            "7614502f6a834995b774df3ab451588a",
            "1b6a75417b014d07ab624df34daaef23",
            "b55954376a0f4839847d648ce6d2468c",
            "15e293a103db4a33b70b7194aaf223d3",
            "b991e6a82aab40e393123be5df41c448",
            "1e7ef88ecad34d82b2c5e04649b74967",
            "5a42c293799d4646baa62c6c61ca6ba3",
            "eb596e1c33954ac0bc1d1863cb9a56ae",
            "cb683960dc7947a1915f06e7424aef84"
          ]
        },
        "id": "38vW5VRdVSwX",
        "outputId": "bd39974f-4770-4cf4-ef26-3a9d687f6071"
      },
      "outputs": [
        {
          "data": {
            "application/vnd.jupyter.widget-view+json": {
              "model_id": "6ee21132b80b493b802c2163f5c7455f",
              "version_major": 2,
              "version_minor": 0
            },
            "text/plain": [
              "  0%|          | 0/10 [00:00<?, ?it/s]"
            ]
          },
          "metadata": {},
          "output_type": "display_data"
        },
        {
          "name": "stdout",
          "output_type": "stream",
          "text": [
            "Epoch: 1 | train_loss: 7.0505 | train_MAE: 0.3899 | test_loss: 2.9913 | test_MAE: 1.2033\n",
            "Epoch: 2 | train_loss: 0.0526 | train_MAE: 0.1439 | test_loss: 1.9057 | test_MAE: 0.8921\n",
            "Epoch: 3 | train_loss: 0.0516 | train_MAE: 0.1414 | test_loss: 7.7395 | test_MAE: 2.0007\n",
            "Epoch: 4 | train_loss: 1.5115 | train_MAE: 0.2590 | test_loss: 5138.5213 | test_MAE: 50.9133\n",
            "Epoch: 5 | train_loss: 0.1229 | train_MAE: 0.1818 | test_loss: 7.9892 | test_MAE: 2.0560\n",
            "Epoch: 6 | train_loss: 0.0628 | train_MAE: 0.1691 | test_loss: 7.9868 | test_MAE: 2.0555\n",
            "Epoch: 7 | train_loss: 0.0629 | train_MAE: 0.1694 | test_loss: 8.0076 | test_MAE: 2.0598\n",
            "Epoch: 8 | train_loss: 0.0626 | train_MAE: 0.1689 | test_loss: 8.0124 | test_MAE: 2.0607\n",
            "Epoch: 9 | train_loss: 0.0625 | train_MAE: 0.1688 | test_loss: 8.0055 | test_MAE: 2.0593\n",
            "Epoch: 10 | train_loss: 0.0627 | train_MAE: 0.1692 | test_loss: 7.9836 | test_MAE: 2.0549\n"
          ]
        },
        {
          "data": {
            "text/plain": [
              "{'train_loss': [7.050473445816274,\n",
              "  0.052628067371360686,\n",
              "  0.05161435851417119,\n",
              "  1.5114589634395619,\n",
              "  0.12289408337123184,\n",
              "  0.06279652035107423,\n",
              "  0.06293705097425711,\n",
              "  0.06260467196787524,\n",
              "  0.06248526573787305,\n",
              "  0.06273392068478222],\n",
              " 'train_acc': [0.38991340628650645,\n",
              "  0.14385954459218214,\n",
              "  0.14138910734069754,\n",
              "  0.25900013507808356,\n",
              "  0.18178390376179177,\n",
              "  0.16909214406933662,\n",
              "  0.16944350053866705,\n",
              "  0.16888029722909279,\n",
              "  0.16878633803422868,\n",
              "  0.1691939570372267],\n",
              " 'test_loss': [2.9913306807341056,\n",
              "  1.905671348984818,\n",
              "  7.7395449997111125,\n",
              "  5138.5213106093215,\n",
              "  7.989199198267901,\n",
              "  7.986779453133406,\n",
              "  8.007645538296297,\n",
              "  8.012366696494128,\n",
              "  8.005485234773523,\n",
              "  7.98355813860262],\n",
              " 'test_acc': [1.203318835965068,\n",
              "  0.8921092593455842,\n",
              "  2.000740604080658,\n",
              "  50.913323491482444,\n",
              "  2.056025215453755,\n",
              "  2.055548462817792,\n",
              "  2.0597630626835874,\n",
              "  2.060718169761736,\n",
              "  2.0593263620363196,\n",
              "  2.0548986246462904]}"
            ]
          },
          "execution_count": 17,
          "metadata": {},
          "output_type": "execute_result"
        }
      ],
      "source": [
        "learning_rate = 0.01\n",
        "num_epochs = 10\n",
        "loss_function = nn.MSELoss()\n",
        "optimizer = torch.optim.Adam(model.parameters(), lr=learning_rate)\n",
        "\n",
        "# Start training with help from engine.py\n",
        "train(model=model,\n",
        "             train_dataloader=train_loader,\n",
        "             test_dataloader=test_loader,\n",
        "             loss_fn=loss_function,\n",
        "             optimizer=optimizer,\n",
        "             epochs=10,\n",
        "             device=device)"
      ]
    },
    {
      "cell_type": "code",
      "execution_count": 22,
      "metadata": {
        "id": "1x7Gc-QZWZZj"
      },
      "outputs": [],
      "source": [
        "with torch.no_grad():\n",
        "    predicted = model(X_test.to(device)).to('cpu').numpy()"
      ]
    },
    {
      "cell_type": "markdown",
      "metadata": {
        "id": "VXkT7TqJrv7H"
      },
      "source": [
        "fitting a time series as if they're independent, but there's a strong relation between them, so colinearity is a large issue, so the model doesn't perform well"
      ]
    },
    {
      "cell_type": "code",
      "execution_count": 23,
      "metadata": {
        "colab": {
          "base_uri": "https://localhost:8080/"
        },
        "id": "PdCjtsUCrezm",
        "outputId": "9db6a91a-856b-42f4-8df3-6cd83828a526"
      },
      "outputs": [
        {
          "data": {
            "text/plain": [
              "array([[-0.0859368],\n",
              "       [-0.0859368],\n",
              "       [-0.0859368],\n",
              "       ...,\n",
              "       [-0.0859368],\n",
              "       [-0.0859368],\n",
              "       [-0.0859368]], dtype=float32)"
            ]
          },
          "execution_count": 23,
          "metadata": {},
          "output_type": "execute_result"
        }
      ],
      "source": [
        "predicted"
      ]
    },
    {
      "cell_type": "code",
      "execution_count": 24,
      "metadata": {
        "colab": {
          "base_uri": "https://localhost:8080/",
          "height": 449
        },
        "id": "_JaeyyQWqDJO",
        "outputId": "fe529eb2-06b4-42ac-8a75-0a51bc413882"
      },
      "outputs": [
        {
          "data": {
            "image/png": "[encoded data removed]",
            "text/plain": [
              "<Figure size 640x480 with 1 Axes>"
            ]
          },
          "metadata": {},
          "output_type": "display_data"
        }
      ],
      "source": [
        "plt.plot(y_test, label=\"Actual Price\")\n",
        "plt.plot(predicted, label='Predicted Price')\n",
        "plt.xlabel(\"Day\")\n",
        "plt.ylabel(\"Price\")\n",
        "\n",
        "plt.legend()\n",
        "plt.show()"
      ]
    },
    {
      "cell_type": "code",
      "execution_count": 21,
      "metadata": {
        "colab": {
          "base_uri": "https://localhost:8080/"
        },
        "id": "_PYkI28Yt8-5",
        "outputId": "970fc103-3501-41a4-b23f-966b546826b5"
      },
      "outputs": [
        {
          "data": {
            "text/plain": [
              "2198529"
            ]
          },
          "execution_count": 21,
          "metadata": {},
          "output_type": "execute_result"
        }
      ],
      "source": [
        "sum(p.numel() for p in model.parameters() if p.requires_grad)"
      ]
    }
  ],
  "metadata": {
    "accelerator": "GPU",
    "colab": {
      "gpuType": "T4",
      "provenance": []
    },
    "kernelspec": {
      "display_name": "Python 3",
      "name": "python3"
    },
    "language_info": {
      "codemirror_mode": {
        "name": "ipython",
        "version": 3
      },
      "file_extension": ".py",
      "mimetype": "text/x-python",
      "name": "python",
      "nbconvert_exporter": "python",
      "pygments_lexer": "ipython3",
      "version": "3.9.17"
    },
    "widgets": {
      "application/vnd.jupyter.widget-state+json": {
        "15e293a103db4a33b70b7194aaf223d3": {
          "model_module": "@jupyter-widgets/base",
          "model_module_version": "1.2.0",
          "model_name": "LayoutModel",
          "state": {
            "_model_module": "@jupyter-widgets/base",
            "_model_module_version": "1.2.0",
            "_model_name": "LayoutModel",
            "_view_count": null,
            "_view_module": "@jupyter-widgets/base",
            "_view_module_version": "1.2.0",
            "_view_name": "LayoutView",
            "align_content": null,
            "align_items": null,
            "align_self": null,
            "border": null,
            "bottom": null,
            "display": null,
            "flex": null,
            "flex_flow": null,
            "grid_area": null,
            "grid_auto_columns": null,
            "grid_auto_flow": null,
            "grid_auto_rows": null,
            "grid_column": null,
            "grid_gap": null,
            "grid_row": null,
            "grid_template_areas": null,
            "grid_template_columns": null,
            "grid_template_rows": null,
            "height": null,
            "justify_content": null,
            "justify_items": null,
            "left": null,
            "margin": null,
            "max_height": null,
            "max_width": null,
            "min_height": null,
            "min_width": null,
            "object_fit": null,
            "object_position": null,
            "order": null,
            "overflow": null,
            "overflow_x": null,
            "overflow_y": null,
            "padding": null,
            "right": null,
            "top": null,
            "visibility": null,
            "width": null
          }
        },
        "1b6a75417b014d07ab624df34daaef23": {
          "model_module": "@jupyter-widgets/controls",
          "model_module_version": "1.5.0",
          "model_name": "HTMLModel",
          "state": {
            "_dom_classes": [],
            "_model_module": "@jupyter-widgets/controls",
            "_model_module_version": "1.5.0",
            "_model_name": "HTMLModel",
            "_view_count": null,
            "_view_module": "@jupyter-widgets/controls",
            "_view_module_version": "1.5.0",
            "_view_name": "HTMLView",
            "description": "",
            "description_tooltip": null,
            "layout": "IPY_MODEL_eb596e1c33954ac0bc1d1863cb9a56ae",
            "placeholder": "​",
            "style": "IPY_MODEL_cb683960dc7947a1915f06e7424aef84",
            "value": " 10/10 [09:30&lt;00:00, 57.63s/it]"
          }
        },
        "1e7ef88ecad34d82b2c5e04649b74967": {
          "model_module": "@jupyter-widgets/base",
          "model_module_version": "1.2.0",
          "model_name": "LayoutModel",
          "state": {
            "_model_module": "@jupyter-widgets/base",
            "_model_module_version": "1.2.0",
            "_model_name": "LayoutModel",
            "_view_count": null,
            "_view_module": "@jupyter-widgets/base",
            "_view_module_version": "1.2.0",
            "_view_name": "LayoutView",
            "align_content": null,
            "align_items": null,
            "align_self": null,
            "border": null,
            "bottom": null,
            "display": null,
            "flex": null,
            "flex_flow": null,
            "grid_area": null,
            "grid_auto_columns": null,
            "grid_auto_flow": null,
            "grid_auto_rows": null,
            "grid_column": null,
            "grid_gap": null,
            "grid_row": null,
            "grid_template_areas": null,
            "grid_template_columns": null,
            "grid_template_rows": null,
            "height": null,
            "justify_content": null,
            "justify_items": null,
            "left": null,
            "margin": null,
            "max_height": null,
            "max_width": null,
            "min_height": null,
            "min_width": null,
            "object_fit": null,
            "object_position": null,
            "order": null,
            "overflow": null,
            "overflow_x": null,
            "overflow_y": null,
            "padding": null,
            "right": null,
            "top": null,
            "visibility": null,
            "width": null
          }
        },
        "4837b52055f74548848d50f3ea09dbcc": {
          "model_module": "@jupyter-widgets/controls",
          "model_module_version": "1.5.0",
          "model_name": "HTMLModel",
          "state": {
            "_dom_classes": [],
            "_model_module": "@jupyter-widgets/controls",
            "_model_module_version": "1.5.0",
            "_model_name": "HTMLModel",
            "_view_count": null,
            "_view_module": "@jupyter-widgets/controls",
            "_view_module_version": "1.5.0",
            "_view_name": "HTMLView",
            "description": "",
            "description_tooltip": null,
            "layout": "IPY_MODEL_15e293a103db4a33b70b7194aaf223d3",
            "placeholder": "​",
            "style": "IPY_MODEL_b991e6a82aab40e393123be5df41c448",
            "value": "100%"
          }
        },
        "5a42c293799d4646baa62c6c61ca6ba3": {
          "model_module": "@jupyter-widgets/controls",
          "model_module_version": "1.5.0",
          "model_name": "ProgressStyleModel",
          "state": {
            "_model_module": "@jupyter-widgets/controls",
            "_model_module_version": "1.5.0",
            "_model_name": "ProgressStyleModel",
            "_view_count": null,
            "_view_module": "@jupyter-widgets/base",
            "_view_module_version": "1.2.0",
            "_view_name": "StyleView",
            "bar_color": null,
            "description_width": ""
          }
        },
        "6ee21132b80b493b802c2163f5c7455f": {
          "model_module": "@jupyter-widgets/controls",
          "model_module_version": "1.5.0",
          "model_name": "HBoxModel",
          "state": {
            "_dom_classes": [],
            "_model_module": "@jupyter-widgets/controls",
            "_model_module_version": "1.5.0",
            "_model_name": "HBoxModel",
            "_view_count": null,
            "_view_module": "@jupyter-widgets/controls",
            "_view_module_version": "1.5.0",
            "_view_name": "HBoxView",
            "box_style": "",
            "children": [
              "IPY_MODEL_4837b52055f74548848d50f3ea09dbcc",
              "IPY_MODEL_7614502f6a834995b774df3ab451588a",
              "IPY_MODEL_1b6a75417b014d07ab624df34daaef23"
            ],
            "layout": "IPY_MODEL_b55954376a0f4839847d648ce6d2468c"
          }
        },
        "7614502f6a834995b774df3ab451588a": {
          "model_module": "@jupyter-widgets/controls",
          "model_module_version": "1.5.0",
          "model_name": "FloatProgressModel",
          "state": {
            "_dom_classes": [],
            "_model_module": "@jupyter-widgets/controls",
            "_model_module_version": "1.5.0",
            "_model_name": "FloatProgressModel",
            "_view_count": null,
            "_view_module": "@jupyter-widgets/controls",
            "_view_module_version": "1.5.0",
            "_view_name": "ProgressView",
            "bar_style": "success",
            "description": "",
            "description_tooltip": null,
            "layout": "IPY_MODEL_1e7ef88ecad34d82b2c5e04649b74967",
            "max": 10,
            "min": 0,
            "orientation": "horizontal",
            "style": "IPY_MODEL_5a42c293799d4646baa62c6c61ca6ba3",
            "value": 10
          }
        },
        "b55954376a0f4839847d648ce6d2468c": {
          "model_module": "@jupyter-widgets/base",
          "model_module_version": "1.2.0",
          "model_name": "LayoutModel",
          "state": {
            "_model_module": "@jupyter-widgets/base",
            "_model_module_version": "1.2.0",
            "_model_name": "LayoutModel",
            "_view_count": null,
            "_view_module": "@jupyter-widgets/base",
            "_view_module_version": "1.2.0",
            "_view_name": "LayoutView",
            "align_content": null,
            "align_items": null,
            "align_self": null,
            "border": null,
            "bottom": null,
            "display": null,
            "flex": null,
            "flex_flow": null,
            "grid_area": null,
            "grid_auto_columns": null,
            "grid_auto_flow": null,
            "grid_auto_rows": null,
            "grid_column": null,
            "grid_gap": null,
            "grid_row": null,
            "grid_template_areas": null,
            "grid_template_columns": null,
            "grid_template_rows": null,
            "height": null,
            "justify_content": null,
            "justify_items": null,
            "left": null,
            "margin": null,
            "max_height": null,
            "max_width": null,
            "min_height": null,
            "min_width": null,
            "object_fit": null,
            "object_position": null,
            "order": null,
            "overflow": null,
            "overflow_x": null,
            "overflow_y": null,
            "padding": null,
            "right": null,
            "top": null,
            "visibility": null,
            "width": null
          }
        },
        "b991e6a82aab40e393123be5df41c448": {
          "model_module": "@jupyter-widgets/controls",
          "model_module_version": "1.5.0",
          "model_name": "DescriptionStyleModel",
          "state": {
            "_model_module": "@jupyter-widgets/controls",
            "_model_module_version": "1.5.0",
            "_model_name": "DescriptionStyleModel",
            "_view_count": null,
            "_view_module": "@jupyter-widgets/base",
            "_view_module_version": "1.2.0",
            "_view_name": "StyleView",
            "description_width": ""
          }
        },
        "cb683960dc7947a1915f06e7424aef84": {
          "model_module": "@jupyter-widgets/controls",
          "model_module_version": "1.5.0",
          "model_name": "DescriptionStyleModel",
          "state": {
            "_model_module": "@jupyter-widgets/controls",
            "_model_module_version": "1.5.0",
            "_model_name": "DescriptionStyleModel",
            "_view_count": null,
            "_view_module": "@jupyter-widgets/base",
            "_view_module_version": "1.2.0",
            "_view_name": "StyleView",
            "description_width": ""
          }
        },
        "eb596e1c33954ac0bc1d1863cb9a56ae": {
          "model_module": "@jupyter-widgets/base",
          "model_module_version": "1.2.0",
          "model_name": "LayoutModel",
          "state": {
            "_model_module": "@jupyter-widgets/base",
            "_model_module_version": "1.2.0",
            "_model_name": "LayoutModel",
            "_view_count": null,
            "_view_module": "@jupyter-widgets/base",
            "_view_module_version": "1.2.0",
            "_view_name": "LayoutView",
            "align_content": null,
            "align_items": null,
            "align_self": null,
            "border": null,
            "bottom": null,
            "display": null,
            "flex": null,
            "flex_flow": null,
            "grid_area": null,
            "grid_auto_columns": null,
            "grid_auto_flow": null,
            "grid_auto_rows": null,
            "grid_column": null,
            "grid_gap": null,
            "grid_row": null,
            "grid_template_areas": null,
            "grid_template_columns": null,
            "grid_template_rows": null,
            "height": null,
            "justify_content": null,
            "justify_items": null,
            "left": null,
            "margin": null,
            "max_height": null,
            "max_width": null,
            "min_height": null,
            "min_width": null,
            "object_fit": null,
            "object_position": null,
            "order": null,
            "overflow": null,
            "overflow_x": null,
            "overflow_y": null,
            "padding": null,
            "right": null,
            "top": null,
            "visibility": null,
            "width": null
          }
        }
      }
    }
  },
  "nbformat": 4,
  "nbformat_minor": 0
}
