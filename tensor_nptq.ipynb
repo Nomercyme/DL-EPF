{
 "cells": [
  {
   "cell_type": "code",
   "execution_count": 1,
   "metadata": {},
   "outputs": [
    {
     "name": "stdout",
     "output_type": "stream",
     "text": [
      "Input shape: torch.Size([2, 3, 4, 5])\n",
      "Output shape: torch.Size([2, 60])\n"
     ]
    }
   ],
   "source": [
    "import torch\n",
    "import torch.nn as nn\n",
    "\n",
    "# Create a tensor with shape (batch_size, channels, height, width)\n",
    "input_tensor = torch.randn(2, 3, 4, 5)\n",
    "\n",
    "# Create a Flatten layer\n",
    "flatten_layer = nn.Flatten(start_dim=1, end_dim=-1)\n",
    "\n",
    "# Apply the Flatten layer to the input tensor\n",
    "output_tensor = flatten_layer(input_tensor)\n",
    "\n",
    "# Print the shapes before and after flattening\n",
    "print(\"Input shape:\", input_tensor.shape)\n",
    "print(\"Output shape:\", output_tensor.shape)"
   ]
  },
  {
   "cell_type": "code",
   "execution_count": 4,
   "metadata": {},
   "outputs": [
    {
     "data": {
      "text/plain": [
       "torch.Size([10, 14, 1])"
      ]
     },
     "execution_count": 4,
     "metadata": {},
     "output_type": "execute_result"
    }
   ],
   "source": [
    "import torch\n",
    "\n",
    "# Assuming you have 10 sequences in your dataset\n",
    "batch_size = 10\n",
    "\n",
    "# Sequence length for each input (current hour + 1-day lag + 2-day lag + 3-day lag + 7-day lag)\n",
    "sequence_length_prices = 1 + 1 + 2 + 3 + 7\n",
    "\n",
    "# Input size (electricity prices)\n",
    "input_size_prices = 1\n",
    "\n",
    "# Create a random tensor for electricity prices with shape (batch_size, sequence_length, input_size)\n",
    "electricity_prices_tensor = torch.randn(batch_size, sequence_length_prices, input_size_prices)\n",
    "electricity_prices_tensor.shape"
   ]
  },
  {
   "cell_type": "code",
   "execution_count": 6,
   "metadata": {},
   "outputs": [
    {
     "data": {
      "text/plain": [
       "torch.Size([10, 14, 2])"
      ]
     },
     "execution_count": 6,
     "metadata": {},
     "output_type": "execute_result"
    }
   ],
   "source": [
    "# Input size (load/generation features, e.g., load and generation at each hour)\n",
    "input_size_load_generation = 2  # Assuming you have 2 features for load and generation\n",
    "\n",
    "# Create a random tensor for load/generation with shape (batch_size, sequence_length, input_size)\n",
    "load_generation_tensor = torch.randn(batch_size, sequence_length_prices, input_size_load_generation)\n",
    "load_generation_tensor.shape"
   ]
  },
  {
   "cell_type": "code",
   "execution_count": 7,
   "metadata": {},
   "outputs": [
    {
     "name": "stdout",
     "output_type": "stream",
     "text": [
      "Shape of the input tensor: torch.Size([10, 14, 3])\n"
     ]
    },
    {
     "ename": "",
     "evalue": "",
     "output_type": "error",
     "traceback": [
      "\u001b[1;31mThe Kernel crashed while executing code in the the current cell or a previous cell. Please review the code in the cell(s) to identify a possible cause of the failure. Click <a href='https://aka.ms/vscodeJupyterKernelCrash'>here</a> for more info. View Jupyter <a href='command:jupyter.viewOutput'>log</a> for further details."
     ]
    }
   ],
   "source": [
    "# Concatenate electricity prices and load/generation tensors along the feature dimension\n",
    "input_tensor = torch.cat([electricity_prices_tensor, load_generation_tensor], dim=2)\n",
    "\n",
    "# Print the shape of the final input tensor\n",
    "print(\"Shape of the input tensor:\", input_tensor.shape)\n"
   ]
  }
 ],
 "metadata": {
  "kernelspec": {
   "display_name": "base",
   "language": "python",
   "name": "python3"
  },
  "language_info": {
   "codemirror_mode": {
    "name": "ipython",
    "version": 3
   },
   "file_extension": ".py",
   "mimetype": "text/x-python",
   "name": "python",
   "nbconvert_exporter": "python",
   "pygments_lexer": "ipython3",
   "version": "3.9.17"
  }
 },
 "nbformat": 4,
 "nbformat_minor": 2
}
