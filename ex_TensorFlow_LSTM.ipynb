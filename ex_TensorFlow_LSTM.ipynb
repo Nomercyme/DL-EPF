{
 "cells": [
  {
   "cell_type": "markdown",
   "metadata": {},
   "source": [
    "- TENSORFLOW RECURSIVE MULTISTEP IMPLEMENTATION: https://stackoverflow.com/questions/69906416/forecast-future-values-with-lstm-in-python/69912334#69912334\n",
    "- STACK DIFFERENT LSTM LAYERS: https://wandb.ai/lavanyashukla/visualize-models/reports/How-to-stack-multiple-LSTMs-in-keras---VmlldzoxOTg2MTY#:~:text=The%20solution%20is%20to%20add,with%20time%20stamps%20(3D).\n",
    "- RECURSIVE MULTISTEP FORECASTING SKLEARN: https://skforecast.org/0.11.0/introduction-forecasting/introduction-forecasting#recursive-multi-step-forecasting"
   ]
  },
  {
   "cell_type": "code",
   "execution_count": 1,
   "metadata": {},
   "outputs": [
    {
     "name": "stdout",
     "output_type": "stream",
     "text": [
      "WARNING:tensorflow:From c:\\Users\\r0776327\\AppData\\Local\\miniconda3\\lib\\site-packages\\keras\\src\\losses.py:2976: The name tf.losses.sparse_softmax_cross_entropy is deprecated. Please use tf.compat.v1.losses.sparse_softmax_cross_entropy instead.\n",
      "\n"
     ]
    },
    {
     "name": "stderr",
     "output_type": "stream",
     "text": [
      "[*********************100%%**********************]  1 of 1 completed\n"
     ]
    },
    {
     "data": {
      "text/html": [
       "<div>\n",
       "<style scoped>\n",
       "    .dataframe tbody tr th:only-of-type {\n",
       "        vertical-align: middle;\n",
       "    }\n",
       "\n",
       "    .dataframe tbody tr th {\n",
       "        vertical-align: top;\n",
       "    }\n",
       "\n",
       "    .dataframe thead th {\n",
       "        text-align: right;\n",
       "    }\n",
       "</style>\n",
       "<table border=\"1\" class=\"dataframe\">\n",
       "  <thead>\n",
       "    <tr style=\"text-align: right;\">\n",
       "      <th></th>\n",
       "      <th>Open</th>\n",
       "      <th>High</th>\n",
       "      <th>Low</th>\n",
       "      <th>Close</th>\n",
       "      <th>Adj Close</th>\n",
       "      <th>Volume</th>\n",
       "    </tr>\n",
       "    <tr>\n",
       "      <th>Date</th>\n",
       "      <th></th>\n",
       "      <th></th>\n",
       "      <th></th>\n",
       "      <th></th>\n",
       "      <th></th>\n",
       "      <th></th>\n",
       "    </tr>\n",
       "  </thead>\n",
       "  <tbody>\n",
       "    <tr>\n",
       "      <th>2022-02-28</th>\n",
       "      <td>163.059998</td>\n",
       "      <td>165.419998</td>\n",
       "      <td>162.429993</td>\n",
       "      <td>165.119995</td>\n",
       "      <td>163.254379</td>\n",
       "      <td>95056600</td>\n",
       "    </tr>\n",
       "    <tr>\n",
       "      <th>2022-03-01</th>\n",
       "      <td>164.699997</td>\n",
       "      <td>166.600006</td>\n",
       "      <td>161.970001</td>\n",
       "      <td>163.199997</td>\n",
       "      <td>161.356064</td>\n",
       "      <td>83474400</td>\n",
       "    </tr>\n",
       "    <tr>\n",
       "      <th>2022-03-02</th>\n",
       "      <td>164.389999</td>\n",
       "      <td>167.360001</td>\n",
       "      <td>162.949997</td>\n",
       "      <td>166.559998</td>\n",
       "      <td>164.678116</td>\n",
       "      <td>79724800</td>\n",
       "    </tr>\n",
       "    <tr>\n",
       "      <th>2022-03-03</th>\n",
       "      <td>168.470001</td>\n",
       "      <td>168.910004</td>\n",
       "      <td>165.550003</td>\n",
       "      <td>166.229996</td>\n",
       "      <td>164.351837</td>\n",
       "      <td>76678400</td>\n",
       "    </tr>\n",
       "    <tr>\n",
       "      <th>2022-03-04</th>\n",
       "      <td>164.490005</td>\n",
       "      <td>165.550003</td>\n",
       "      <td>162.100006</td>\n",
       "      <td>163.169998</td>\n",
       "      <td>161.326416</td>\n",
       "      <td>83737200</td>\n",
       "    </tr>\n",
       "    <tr>\n",
       "      <th>...</th>\n",
       "      <td>...</td>\n",
       "      <td>...</td>\n",
       "      <td>...</td>\n",
       "      <td>...</td>\n",
       "      <td>...</td>\n",
       "      <td>...</td>\n",
       "    </tr>\n",
       "    <tr>\n",
       "      <th>2024-02-22</th>\n",
       "      <td>183.479996</td>\n",
       "      <td>184.960007</td>\n",
       "      <td>182.460007</td>\n",
       "      <td>184.369995</td>\n",
       "      <td>184.369995</td>\n",
       "      <td>52292200</td>\n",
       "    </tr>\n",
       "    <tr>\n",
       "      <th>2024-02-23</th>\n",
       "      <td>185.009995</td>\n",
       "      <td>185.039993</td>\n",
       "      <td>182.229996</td>\n",
       "      <td>182.520004</td>\n",
       "      <td>182.520004</td>\n",
       "      <td>45074500</td>\n",
       "    </tr>\n",
       "    <tr>\n",
       "      <th>2024-02-26</th>\n",
       "      <td>182.240005</td>\n",
       "      <td>182.759995</td>\n",
       "      <td>180.649994</td>\n",
       "      <td>181.160004</td>\n",
       "      <td>181.160004</td>\n",
       "      <td>40867400</td>\n",
       "    </tr>\n",
       "    <tr>\n",
       "      <th>2024-02-27</th>\n",
       "      <td>181.100006</td>\n",
       "      <td>183.919998</td>\n",
       "      <td>179.559998</td>\n",
       "      <td>182.630005</td>\n",
       "      <td>182.630005</td>\n",
       "      <td>54318900</td>\n",
       "    </tr>\n",
       "    <tr>\n",
       "      <th>2024-02-28</th>\n",
       "      <td>182.509995</td>\n",
       "      <td>183.119995</td>\n",
       "      <td>180.130005</td>\n",
       "      <td>181.419998</td>\n",
       "      <td>181.419998</td>\n",
       "      <td>48894200</td>\n",
       "    </tr>\n",
       "  </tbody>\n",
       "</table>\n",
       "<p>503 rows × 6 columns</p>\n",
       "</div>"
      ],
      "text/plain": [
       "                  Open        High         Low       Close   Adj Close  \\\n",
       "Date                                                                     \n",
       "2022-02-28  163.059998  165.419998  162.429993  165.119995  163.254379   \n",
       "2022-03-01  164.699997  166.600006  161.970001  163.199997  161.356064   \n",
       "2022-03-02  164.389999  167.360001  162.949997  166.559998  164.678116   \n",
       "2022-03-03  168.470001  168.910004  165.550003  166.229996  164.351837   \n",
       "2022-03-04  164.490005  165.550003  162.100006  163.169998  161.326416   \n",
       "...                ...         ...         ...         ...         ...   \n",
       "2024-02-22  183.479996  184.960007  182.460007  184.369995  184.369995   \n",
       "2024-02-23  185.009995  185.039993  182.229996  182.520004  182.520004   \n",
       "2024-02-26  182.240005  182.759995  180.649994  181.160004  181.160004   \n",
       "2024-02-27  181.100006  183.919998  179.559998  182.630005  182.630005   \n",
       "2024-02-28  182.509995  183.119995  180.130005  181.419998  181.419998   \n",
       "\n",
       "              Volume  \n",
       "Date                  \n",
       "2022-02-28  95056600  \n",
       "2022-03-01  83474400  \n",
       "2022-03-02  79724800  \n",
       "2022-03-03  76678400  \n",
       "2022-03-04  83737200  \n",
       "...              ...  \n",
       "2024-02-22  52292200  \n",
       "2024-02-23  45074500  \n",
       "2024-02-26  40867400  \n",
       "2024-02-27  54318900  \n",
       "2024-02-28  48894200  \n",
       "\n",
       "[503 rows x 6 columns]"
      ]
     },
     "execution_count": 1,
     "metadata": {},
     "output_type": "execute_result"
    }
   ],
   "source": [
    "import numpy as np\n",
    "import pandas as pd\n",
    "import yfinance as yf\n",
    "import tensorflow as tf\n",
    "from tensorflow.keras.layers import Dense, LSTM\n",
    "from tensorflow.keras.models import Sequential\n",
    "from sklearn.preprocessing import MinMaxScaler\n",
    "import matplotlib.pyplot as plt\n",
    "from scipy import stats\n",
    "\n",
    "pd.options.mode.chained_assignment = None\n",
    "tf.random.set_seed(0)\n",
    "\n",
    "# download the data\n",
    "df = yf.download(tickers=['AAPL'], period='2y')\n",
    "y = df['Close'].fillna(method='ffill')\n",
    "y = y.values.reshape(-1, 1)\n",
    "df\n"
   ]
  },
  {
   "cell_type": "code",
   "execution_count": 3,
   "metadata": {},
   "outputs": [
    {
     "data": {
      "image/png": "[encoded data removed]",
      "text/plain": [
       "<Figure size 640x480 with 1 Axes>"
      ]
     },
     "metadata": {},
     "output_type": "display_data"
    }
   ],
   "source": [
    "plt.plot(y)\n",
    "plt.show()"
   ]
  },
  {
   "cell_type": "code",
   "execution_count": 4,
   "metadata": {},
   "outputs": [
    {
     "data": {
      "text/plain": [
       "(250, 253)"
      ]
     },
     "execution_count": 4,
     "metadata": {},
     "output_type": "execute_result"
    }
   ],
   "source": [
    "split_index = 250\n",
    "\n",
    "train_data = y[:split_index]\n",
    "test_data = y[split_index:]\n",
    "len(train_data), len(test_data)"
   ]
  },
  {
   "cell_type": "code",
   "execution_count": 6,
   "metadata": {},
   "outputs": [],
   "source": [
    "# scale the data\n",
    "#IS IT OKAY TO TRANSFORM TEST DATASETSET WITH SCALER FITTED ON TRAIN DATA\n",
    "scaler = MinMaxScaler(feature_range=(0, 1))\n",
    "scaler = scaler.fit(train_data)\n",
    "train_data_scaled = scaler.transform(train_data)\n",
    "test_data_scaled = scaler.transform(test_data)"
   ]
  },
  {
   "cell_type": "markdown",
   "metadata": {},
   "source": [
    "This cel below needs to be adjusted:\n",
    "- Use a sliding window of X days * 24 hours, make a forecast for the next 24 hours, then slide the window one day further and add that day into the window to then again make a day ahead forecast "
   ]
  },
  {
   "cell_type": "code",
   "execution_count": 13,
   "metadata": {},
   "outputs": [],
   "source": [
    "# generate the input and output sequences for training data\n",
    "n_lookback = 60  # length of input sequences (lookback period)\n",
    "n_forecast = 30  # length of output sequences (forecast period)\n",
    "\n",
    "X_train = []\n",
    "Y_train = []\n",
    "\n",
    "# This loop is designed to ensure that we can extract enough input-output pairs from the time series data\n",
    "for i in range(n_lookback, len(train_data_scaled) - n_forecast + 1):\n",
    "    X_train.append(train_data_scaled[i - n_lookback: i]) #This line appends a subsequence of length n_lookback from the y dataset. This represents the input sequence for the forecasting model.\n",
    "    Y_train.append(train_data_scaled[i: i + n_forecast]) #This represents the corresponding output sequence that the model will be trained to predict.\n",
    "\n",
    "X_train = np.array(X_train)\n",
    "Y_train = np.array(Y_train)"
   ]
  },
  {
   "cell_type": "code",
   "execution_count": 25,
   "metadata": {},
   "outputs": [
    {
     "data": {
      "text/plain": [
       "((161, 60, 1), (161, 30, 1))"
      ]
     },
     "execution_count": 25,
     "metadata": {},
     "output_type": "execute_result"
    }
   ],
   "source": [
    "X_train.shape, Y_train.shape"
   ]
  },
  {
   "cell_type": "code",
   "execution_count": 16,
   "metadata": {},
   "outputs": [],
   "source": [
    "# generate the input sequences for test data\n",
    "X_test = []\n",
    "\n",
    "for i in range(n_lookback, len(test_data_scaled)):\n",
    "    X_test.append(test_data_scaled[i - n_lookback: i])\n",
    "\n",
    "X_test = np.array(X_test)"
   ]
  },
  {
   "cell_type": "code",
   "execution_count": 24,
   "metadata": {},
   "outputs": [
    {
     "data": {
      "text/plain": [
       "(193, 60, 1)"
      ]
     },
     "execution_count": 24,
     "metadata": {},
     "output_type": "execute_result"
    }
   ],
   "source": [
    "X_test.shape"
   ]
  },
  {
   "cell_type": "code",
   "execution_count": 17,
   "metadata": {},
   "outputs": [
    {
     "name": "stdout",
     "output_type": "stream",
     "text": [
      "WARNING:tensorflow:From c:\\Users\\r0776327\\AppData\\Local\\miniconda3\\lib\\site-packages\\keras\\src\\backend.py:873: The name tf.get_default_graph is deprecated. Please use tf.compat.v1.get_default_graph instead.\n",
      "\n",
      "WARNING:tensorflow:From c:\\Users\\r0776327\\AppData\\Local\\miniconda3\\lib\\site-packages\\keras\\src\\optimizers\\__init__.py:309: The name tf.train.Optimizer is deprecated. Please use tf.compat.v1.train.Optimizer instead.\n",
      "\n",
      "Epoch 1/100\n",
      "WARNING:tensorflow:From c:\\Users\\r0776327\\AppData\\Local\\miniconda3\\lib\\site-packages\\keras\\src\\utils\\tf_utils.py:492: The name tf.ragged.RaggedTensorValue is deprecated. Please use tf.compat.v1.ragged.RaggedTensorValue instead.\n",
      "\n",
      "Epoch 2/100\n",
      "Epoch 3/100\n",
      "Epoch 4/100\n",
      "Epoch 5/100\n",
      "Epoch 6/100\n",
      "Epoch 7/100\n",
      "Epoch 8/100\n",
      "Epoch 9/100\n",
      "Epoch 10/100\n",
      "Epoch 11/100\n",
      "Epoch 12/100\n",
      "Epoch 13/100\n",
      "Epoch 14/100\n",
      "Epoch 15/100\n",
      "Epoch 16/100\n",
      "Epoch 17/100\n",
      "Epoch 18/100\n",
      "Epoch 19/100\n",
      "Epoch 20/100\n",
      "Epoch 21/100\n",
      "Epoch 22/100\n",
      "Epoch 23/100\n",
      "Epoch 24/100\n",
      "Epoch 25/100\n",
      "Epoch 26/100\n",
      "Epoch 27/100\n",
      "Epoch 28/100\n",
      "Epoch 29/100\n",
      "Epoch 30/100\n",
      "Epoch 31/100\n",
      "Epoch 32/100\n",
      "Epoch 33/100\n",
      "Epoch 34/100\n",
      "Epoch 35/100\n",
      "Epoch 36/100\n",
      "Epoch 37/100\n",
      "Epoch 38/100\n",
      "Epoch 39/100\n",
      "Epoch 40/100\n",
      "Epoch 41/100\n",
      "Epoch 42/100\n",
      "Epoch 43/100\n",
      "Epoch 44/100\n",
      "Epoch 45/100\n",
      "Epoch 46/100\n",
      "Epoch 47/100\n",
      "Epoch 48/100\n",
      "Epoch 49/100\n",
      "Epoch 50/100\n",
      "Epoch 51/100\n",
      "Epoch 52/100\n",
      "Epoch 53/100\n",
      "Epoch 54/100\n",
      "Epoch 55/100\n",
      "Epoch 56/100\n",
      "Epoch 57/100\n",
      "Epoch 58/100\n",
      "Epoch 59/100\n",
      "Epoch 60/100\n",
      "Epoch 61/100\n",
      "Epoch 62/100\n",
      "Epoch 63/100\n",
      "Epoch 64/100\n",
      "Epoch 65/100\n",
      "Epoch 66/100\n",
      "Epoch 67/100\n",
      "Epoch 68/100\n",
      "Epoch 69/100\n",
      "Epoch 70/100\n",
      "Epoch 71/100\n",
      "Epoch 72/100\n",
      "Epoch 73/100\n",
      "Epoch 74/100\n",
      "Epoch 75/100\n",
      "Epoch 76/100\n",
      "Epoch 77/100\n",
      "Epoch 78/100\n",
      "Epoch 79/100\n",
      "Epoch 80/100\n",
      "Epoch 81/100\n",
      "Epoch 82/100\n",
      "Epoch 83/100\n",
      "Epoch 84/100\n",
      "Epoch 85/100\n",
      "Epoch 86/100\n",
      "Epoch 87/100\n",
      "Epoch 88/100\n",
      "Epoch 89/100\n",
      "Epoch 90/100\n",
      "Epoch 91/100\n",
      "Epoch 92/100\n",
      "Epoch 93/100\n",
      "Epoch 94/100\n",
      "Epoch 95/100\n",
      "Epoch 96/100\n",
      "Epoch 97/100\n",
      "Epoch 98/100\n",
      "Epoch 99/100\n",
      "Epoch 100/100\n"
     ]
    },
    {
     "data": {
      "text/plain": [
       "<keras.src.callbacks.History at 0x154be3a6f70>"
      ]
     },
     "execution_count": 17,
     "metadata": {},
     "output_type": "execute_result"
    }
   ],
   "source": [
    "# fit the model\n",
    "model = Sequential()\n",
    "model.add(LSTM(units=50, return_sequences=True, input_shape=(n_lookback, 1)))\n",
    "model.add(LSTM(units=50))\n",
    "model.add(Dense(n_forecast))\n",
    "\n",
    "model.compile(loss='mean_squared_error', optimizer='adam')\n",
    "model.fit(X_train, Y_train, epochs=100, batch_size=32, verbose=10)"
   ]
  },
  {
   "cell_type": "markdown",
   "metadata": {},
   "source": [
    "Line1: This line extracts the last n_lookback data points from the original time series y. It uses negative indexing to specify that we want the last n_lookback elements. These data points will be used as the input sequence for generating forecasts.\n",
    "\n",
    "\n",
    "Line 2: After extracting the last n_lookback data points, this line reshapes the data to conform to the input shape expected by the model.\n",
    "- The first argument of reshape, 1, indicates that we want to keep the number of samples as 1. This is because we are generating forecasts for a single input sequence.\n",
    "- The second argument, n_lookback, specifies the length of the input sequence.\n",
    "- The third argument, 1, indicates that there is only one feature in each data point. This is common when dealing with univariate time series data."
   ]
  },
  {
   "cell_type": "code",
   "execution_count": 35,
   "metadata": {},
   "outputs": [
    {
     "data": {
      "text/plain": [
       "(193, 60, 1)"
      ]
     },
     "execution_count": 35,
     "metadata": {},
     "output_type": "execute_result"
    }
   ],
   "source": [
    "X_test.shape"
   ]
  },
  {
   "cell_type": "code",
   "execution_count": 34,
   "metadata": {},
   "outputs": [
    {
     "name": "stdout",
     "output_type": "stream",
     "text": [
      "7/7 [==============================] - 0s 9ms/step\n"
     ]
    }
   ],
   "source": [
    "# generate the forecasts\n",
    "Y_pred_scaled = model.predict(X_test)"
   ]
  },
  {
   "cell_type": "markdown",
   "metadata": {},
   "source": [
    ".reshape(-1, 1): After making predictions, the result is reshaped. The -1 argument in the reshape function indicates that NumPy should automatically calculate the size of one dimension based on the size of the other dimensions and the total number of elements. This is often used when you want to reshape an array while preserving the total number of elements.\n",
    "\n",
    "The second argument, 1, specifies that we want the reshaped array to have one column. This is typically done to ensure that the resulting array is a column vector, which is common when dealing with forecasts or predictions in a time series context."
   ]
  },
  {
   "cell_type": "code",
   "execution_count": 94,
   "metadata": {},
   "outputs": [
    {
     "data": {
      "text/plain": [
       "(193, 30, 1)"
      ]
     },
     "execution_count": 94,
     "metadata": {},
     "output_type": "execute_result"
    }
   ],
   "source": [
    "np.expand_dims(scaler.inverse_transform(Y_pred_scaled), axis=2).shape"
   ]
  },
  {
   "cell_type": "code",
   "execution_count": 27,
   "metadata": {},
   "outputs": [],
   "source": [
    "# Inverse scaling\n",
    "Y_pred = scaler.inverse_transform(Y_pred_scaled.reshape(-1, 1)) #reshape to get column vector!\n",
    "Y_actual = test_data[n_lookback:].flatten()"
   ]
  },
  {
   "cell_type": "code",
   "execution_count": 51,
   "metadata": {},
   "outputs": [
    {
     "data": {
      "text/plain": [
       "((5790, 1), (193, 1))"
      ]
     },
     "execution_count": 51,
     "metadata": {},
     "output_type": "execute_result"
    }
   ],
   "source": [
    "Y_pred.shape, Y_actual.shape"
   ]
  },
  {
   "cell_type": "code",
   "execution_count": 48,
   "metadata": {},
   "outputs": [
    {
     "data": {
      "text/plain": [
       "((30, 1), (30, 1))"
      ]
     },
     "execution_count": 48,
     "metadata": {},
     "output_type": "execute_result"
    }
   ],
   "source": [
    "Y_actual[:30].shape, Y_pred[:30].shape"
   ]
  },
  {
   "cell_type": "code",
   "execution_count": 135,
   "metadata": {},
   "outputs": [
    {
     "data": {
      "text/html": [
       "<div>\n",
       "<style scoped>\n",
       "    .dataframe tbody tr th:only-of-type {\n",
       "        vertical-align: middle;\n",
       "    }\n",
       "\n",
       "    .dataframe tbody tr th {\n",
       "        vertical-align: top;\n",
       "    }\n",
       "\n",
       "    .dataframe thead th {\n",
       "        text-align: right;\n",
       "    }\n",
       "</style>\n",
       "<table border=\"1\" class=\"dataframe\">\n",
       "  <thead>\n",
       "    <tr style=\"text-align: right;\">\n",
       "      <th></th>\n",
       "      <th>Predictions</th>\n",
       "    </tr>\n",
       "    <tr>\n",
       "      <th>Help</th>\n",
       "      <th></th>\n",
       "    </tr>\n",
       "  </thead>\n",
       "  <tbody>\n",
       "    <tr>\n",
       "      <th>0</th>\n",
       "      <td>166.123184</td>\n",
       "    </tr>\n",
       "    <tr>\n",
       "      <th>1</th>\n",
       "      <td>165.695953</td>\n",
       "    </tr>\n",
       "    <tr>\n",
       "      <th>2</th>\n",
       "      <td>165.778824</td>\n",
       "    </tr>\n",
       "    <tr>\n",
       "      <th>3</th>\n",
       "      <td>165.083832</td>\n",
       "    </tr>\n",
       "    <tr>\n",
       "      <th>4</th>\n",
       "      <td>164.734390</td>\n",
       "    </tr>\n",
       "    <tr>\n",
       "      <th>...</th>\n",
       "      <td>...</td>\n",
       "    </tr>\n",
       "    <tr>\n",
       "      <th>217</th>\n",
       "      <td>150.936295</td>\n",
       "    </tr>\n",
       "    <tr>\n",
       "      <th>218</th>\n",
       "      <td>150.281906</td>\n",
       "    </tr>\n",
       "    <tr>\n",
       "      <th>219</th>\n",
       "      <td>150.136383</td>\n",
       "    </tr>\n",
       "    <tr>\n",
       "      <th>220</th>\n",
       "      <td>150.435776</td>\n",
       "    </tr>\n",
       "    <tr>\n",
       "      <th>221</th>\n",
       "      <td>149.251801</td>\n",
       "    </tr>\n",
       "  </tbody>\n",
       "</table>\n",
       "<p>222 rows × 1 columns</p>\n",
       "</div>"
      ],
      "text/plain": [
       "      Predictions\n",
       "Help             \n",
       "0      166.123184\n",
       "1      165.695953\n",
       "2      165.778824\n",
       "3      165.083832\n",
       "4      164.734390\n",
       "...           ...\n",
       "217    150.936295\n",
       "218    150.281906\n",
       "219    150.136383\n",
       "220    150.435776\n",
       "221    149.251801\n",
       "\n",
       "[222 rows x 1 columns]"
      ]
     },
     "execution_count": 135,
     "metadata": {},
     "output_type": "execute_result"
    }
   ],
   "source": [
    "help_list = [i for i in range(30)]\n",
    "\n",
    "for i in range(1,193):\n",
    "    help_list += [j for j in range(i,30+i)]\n",
    "\n",
    "df2 = pd.DataFrame(data={\"Predictions\": list(Y_pred.flatten()), \"Help\":help_list})\n",
    "testdf = df2.groupby(\"Help\").mean()\n",
    "testdf"
   ]
  },
  {
   "cell_type": "code",
   "execution_count": 76,
   "metadata": {},
   "outputs": [
    {
     "data": {
      "text/plain": [
       "(29, 1)"
      ]
     },
     "execution_count": 76,
     "metadata": {},
     "output_type": "execute_result"
    }
   ],
   "source": [
    "Y_actual[164:194].shape"
   ]
  },
  {
   "cell_type": "code",
   "execution_count": 85,
   "metadata": {},
   "outputs": [],
   "source": [
    "from sklearn.metrics import mean_absolute_error as mae\n",
    "\n",
    "mae(Y_actual[:30].flatten(), Y_pred[:30].flatten())\n",
    "\n",
    "mae_trend = []\n",
    "for i in range(1,Y_actual.shape[0]-28):\n",
    "    if i == 1:\n",
    "        mae_trend.append(mae(Y_actual[0:30],Y_pred[0:30*i]))\n",
    "        continue\n",
    "    current_actual = Y_actual[i-1:30+(i-1)]\n",
    "    current_predicted = Y_pred[30*(i-1):30*i]\n",
    "    mae_trend.append(mae(current_actual,current_predicted))\n",
    "    # print(Y_actual[i-1:30+(i-1)].shape, Y_pred[30*(i-1):30*i].shape)"
   ]
  },
  {
   "cell_type": "code",
   "execution_count": 97,
   "metadata": {},
   "outputs": [
    {
     "data": {
      "text/plain": [
       "223"
      ]
     },
     "execution_count": 97,
     "metadata": {},
     "output_type": "execute_result"
    }
   ],
   "source": [
    "len(df.index[split_index:-30])"
   ]
  },
  {
   "cell_type": "code",
   "execution_count": 86,
   "metadata": {},
   "outputs": [
    {
     "data": {
      "image/png": "[encoded data removed]",
      "text/plain": [
       "<Figure size 640x480 with 1 Axes>"
      ]
     },
     "metadata": {},
     "output_type": "display_data"
    }
   ],
   "source": [
    "plt.plot(mae_trend)\n",
    "plt.show()"
   ]
  },
  {
   "cell_type": "code",
   "execution_count": 99,
   "metadata": {},
   "outputs": [
    {
     "ename": "NameError",
     "evalue": "name 'Y_' is not defined",
     "output_type": "error",
     "traceback": [
      "\u001b[1;31m---------------------------------------------------------------------------\u001b[0m",
      "\u001b[1;31mNameError\u001b[0m                                 Traceback (most recent call last)",
      "Cell \u001b[1;32mIn[99], line 10\u001b[0m\n\u001b[0;32m      8\u001b[0m df_future \u001b[38;5;241m=\u001b[39m pd\u001b[38;5;241m.\u001b[39mDataFrame(columns\u001b[38;5;241m=\u001b[39m[\u001b[38;5;124m'\u001b[39m\u001b[38;5;124mDate\u001b[39m\u001b[38;5;124m'\u001b[39m, \u001b[38;5;124m'\u001b[39m\u001b[38;5;124mActual\u001b[39m\u001b[38;5;124m'\u001b[39m, \u001b[38;5;124m'\u001b[39m\u001b[38;5;124mForecast\u001b[39m\u001b[38;5;124m'\u001b[39m])\n\u001b[0;32m      9\u001b[0m df_future[\u001b[38;5;124m'\u001b[39m\u001b[38;5;124mDate\u001b[39m\u001b[38;5;124m'\u001b[39m] \u001b[38;5;241m=\u001b[39m pd\u001b[38;5;241m.\u001b[39mdate_range(start\u001b[38;5;241m=\u001b[39mdf_past[\u001b[38;5;124m'\u001b[39m\u001b[38;5;124mDate\u001b[39m\u001b[38;5;124m'\u001b[39m]\u001b[38;5;241m.\u001b[39miloc[\u001b[38;5;241m-\u001b[39m\u001b[38;5;241m1\u001b[39m] \u001b[38;5;241m+\u001b[39m pd\u001b[38;5;241m.\u001b[39mTimedelta(days\u001b[38;5;241m=\u001b[39m\u001b[38;5;241m1\u001b[39m), periods\u001b[38;5;241m=\u001b[39mn_forecast)\n\u001b[1;32m---> 10\u001b[0m df_future[\u001b[38;5;124m'\u001b[39m\u001b[38;5;124mForecast\u001b[39m\u001b[38;5;124m'\u001b[39m] \u001b[38;5;241m=\u001b[39m \u001b[43mY_\u001b[49m\u001b[38;5;241m.\u001b[39mflatten()\n\u001b[0;32m     11\u001b[0m df_future[\u001b[38;5;124m'\u001b[39m\u001b[38;5;124mActual\u001b[39m\u001b[38;5;124m'\u001b[39m] \u001b[38;5;241m=\u001b[39m np\u001b[38;5;241m.\u001b[39mnan\n\u001b[0;32m     13\u001b[0m results \u001b[38;5;241m=\u001b[39m df_past\u001b[38;5;241m.\u001b[39mappend(df_future)\u001b[38;5;241m.\u001b[39mset_index(\u001b[38;5;124m'\u001b[39m\u001b[38;5;124mDate\u001b[39m\u001b[38;5;124m'\u001b[39m)\n",
      "\u001b[1;31mNameError\u001b[0m: name 'Y_' is not defined"
     ]
    }
   ],
   "source": [
    "# organize the results in a data frame\n",
    "df_past = df[['Close']].reset_index()\n",
    "df_past.rename(columns={'index': 'Date', 'Close': 'Actual'}, inplace=True)\n",
    "df_past['Date'] = pd.to_datetime(df_past['Date'])\n",
    "df_past['Forecast'] = np.nan\n",
    "df_past['Forecast'].iloc[-1] = df_past['Actual'].iloc[-1]\n",
    "\n",
    "df_future = pd.DataFrame(columns=['Date', 'Actual', 'Forecast'])\n",
    "df_future['Date'] = pd.date_range(start=df_past['Date'].iloc[-1] + pd.Timedelta(days=1), periods=n_forecast)\n",
    "df_future['Forecast'] = Y_.flatten()\n",
    "df_future['Actual'] = np.nan\n",
    "\n",
    "results = df_past.append(df_future).set_index('Date')\n",
    "\n",
    "# plot the results\n",
    "results.plot(title='AAPL')"
   ]
  },
  {
   "cell_type": "code",
   "execution_count": null,
   "metadata": {},
   "outputs": [],
   "source": []
  }
 ],
 "metadata": {
  "kernelspec": {
   "display_name": "base",
   "language": "python",
   "name": "python3"
  },
  "language_info": {
   "codemirror_mode": {
    "name": "ipython",
    "version": 3
   },
   "file_extension": ".py",
   "mimetype": "text/x-python",
   "name": "python",
   "nbconvert_exporter": "python",
   "pygments_lexer": "ipython3",
   "version": "3.9.17"
  }
 },
 "nbformat": 4,
 "nbformat_minor": 2
}
